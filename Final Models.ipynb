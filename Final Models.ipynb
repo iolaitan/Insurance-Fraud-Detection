{
 "cells": [
  {
   "cell_type": "markdown",
   "metadata": {},
   "source": [
    "Model Balanced Final Script - SMOTE Method Used"
   ]
  },
  {
   "cell_type": "markdown",
   "metadata": {},
   "source": [
    "SMOTE"
   ]
  },
  {
   "cell_type": "code",
   "execution_count": 3,
   "metadata": {},
   "outputs": [],
   "source": [
    "#dataframe manipulation\n",
    "import pandas as pd \n",
    "import numpy as np \n",
    "import matplotlib.pyplot as plt\n",
    "import seaborn as sns\n",
    "\n",
    "from sklearn.linear_model import LogisticRegression\n",
    "from sklearn.tree import DecisionTreeClassifier\n",
    "from sklearn.ensemble import RandomForestClassifier\n",
    "from sklearn.metrics import accuracy_score, f1_score, precision_score, recall_score\n",
    "from sklearn.metrics import confusion_matrix, roc_auc_score, roc_curve, classification_report, precision_recall_curve\n",
    "from sklearn.model_selection import train_test_split, cross_val_score, StratifiedKFold, GridSearchCV, RandomizedSearchCV"
   ]
  },
  {
   "cell_type": "code",
   "execution_count": 4,
   "metadata": {},
   "outputs": [
    {
     "data": {
      "text/html": [
       "<div>\n",
       "<style scoped>\n",
       "    .dataframe tbody tr th:only-of-type {\n",
       "        vertical-align: middle;\n",
       "    }\n",
       "\n",
       "    .dataframe tbody tr th {\n",
       "        vertical-align: top;\n",
       "    }\n",
       "\n",
       "    .dataframe thead th {\n",
       "        text-align: right;\n",
       "    }\n",
       "</style>\n",
       "<table border=\"1\" class=\"dataframe\">\n",
       "  <thead>\n",
       "    <tr style=\"text-align: right;\">\n",
       "      <th></th>\n",
       "      <th>Age</th>\n",
       "      <th>GDP</th>\n",
       "      <th>DelayInReporting</th>\n",
       "      <th>AccidentArea_Urban</th>\n",
       "      <th>Sex_Male</th>\n",
       "      <th>Fault_Third Party</th>\n",
       "      <th>BasePolicy_Collision</th>\n",
       "      <th>BasePolicy_Liability</th>\n",
       "      <th>VehicleCategory_Sport</th>\n",
       "      <th>VehicleCategory_Utility</th>\n",
       "      <th>PastNumberOfClaims_2 to 4</th>\n",
       "      <th>PastNumberOfClaims_more than 4</th>\n",
       "      <th>PastNumberOfClaims_none</th>\n",
       "      <th>PoliceReportFiled_Yes</th>\n",
       "      <th>WitnessPresent_Yes</th>\n",
       "      <th>FraudFound_P</th>\n",
       "    </tr>\n",
       "  </thead>\n",
       "  <tbody>\n",
       "    <tr>\n",
       "      <th>0</th>\n",
       "      <td>21</td>\n",
       "      <td>7455</td>\n",
       "      <td>31</td>\n",
       "      <td>1</td>\n",
       "      <td>0</td>\n",
       "      <td>0</td>\n",
       "      <td>0</td>\n",
       "      <td>1</td>\n",
       "      <td>1</td>\n",
       "      <td>0</td>\n",
       "      <td>0</td>\n",
       "      <td>0</td>\n",
       "      <td>1</td>\n",
       "      <td>0</td>\n",
       "      <td>0</td>\n",
       "      <td>0</td>\n",
       "    </tr>\n",
       "    <tr>\n",
       "      <th>1</th>\n",
       "      <td>34</td>\n",
       "      <td>7115</td>\n",
       "      <td>0</td>\n",
       "      <td>1</td>\n",
       "      <td>1</td>\n",
       "      <td>0</td>\n",
       "      <td>1</td>\n",
       "      <td>0</td>\n",
       "      <td>1</td>\n",
       "      <td>0</td>\n",
       "      <td>0</td>\n",
       "      <td>0</td>\n",
       "      <td>1</td>\n",
       "      <td>1</td>\n",
       "      <td>0</td>\n",
       "      <td>0</td>\n",
       "    </tr>\n",
       "    <tr>\n",
       "      <th>2</th>\n",
       "      <td>47</td>\n",
       "      <td>7455</td>\n",
       "      <td>31</td>\n",
       "      <td>1</td>\n",
       "      <td>1</td>\n",
       "      <td>0</td>\n",
       "      <td>1</td>\n",
       "      <td>0</td>\n",
       "      <td>1</td>\n",
       "      <td>0</td>\n",
       "      <td>0</td>\n",
       "      <td>0</td>\n",
       "      <td>0</td>\n",
       "      <td>0</td>\n",
       "      <td>0</td>\n",
       "      <td>0</td>\n",
       "    </tr>\n",
       "  </tbody>\n",
       "</table>\n",
       "</div>"
      ],
      "text/plain": [
       "   Age   GDP  DelayInReporting  AccidentArea_Urban  Sex_Male  \\\n",
       "0   21  7455                31                   1         0   \n",
       "1   34  7115                 0                   1         1   \n",
       "2   47  7455                31                   1         1   \n",
       "\n",
       "   Fault_Third Party  BasePolicy_Collision  BasePolicy_Liability  \\\n",
       "0                  0                     0                     1   \n",
       "1                  0                     1                     0   \n",
       "2                  0                     1                     0   \n",
       "\n",
       "   VehicleCategory_Sport  VehicleCategory_Utility  PastNumberOfClaims_2 to 4  \\\n",
       "0                      1                        0                          0   \n",
       "1                      1                        0                          0   \n",
       "2                      1                        0                          0   \n",
       "\n",
       "   PastNumberOfClaims_more than 4  PastNumberOfClaims_none  \\\n",
       "0                               0                        1   \n",
       "1                               0                        1   \n",
       "2                               0                        0   \n",
       "\n",
       "   PoliceReportFiled_Yes  WitnessPresent_Yes  FraudFound_P  \n",
       "0                      0                   0             0  \n",
       "1                      1                   0             0  \n",
       "2                      0                   0             0  "
      ]
     },
     "execution_count": 4,
     "metadata": {},
     "output_type": "execute_result"
    }
   ],
   "source": [
    "df=pd.read_excel(\"CleanData.xlsx\")\n",
    "df.head(3)"
   ]
  },
  {
   "cell_type": "markdown",
   "metadata": {},
   "source": []
  },
  {
   "cell_type": "code",
   "execution_count": 5,
   "metadata": {},
   "outputs": [
    {
     "name": "stdout",
     "output_type": "stream",
     "text": [
      "(15420, 16)\n"
     ]
    }
   ],
   "source": [
    "print(df.shape)"
   ]
  },
  {
   "cell_type": "code",
   "execution_count": 6,
   "metadata": {},
   "outputs": [
    {
     "data": {
      "text/plain": [
       "Age                               int64\n",
       "GDP                               int64\n",
       "DelayInReporting                  int64\n",
       "AccidentArea_Urban                int64\n",
       "Sex_Male                          int64\n",
       "Fault_Third Party                 int64\n",
       "BasePolicy_Collision              int64\n",
       "BasePolicy_Liability              int64\n",
       "VehicleCategory_Sport             int64\n",
       "VehicleCategory_Utility           int64\n",
       "PastNumberOfClaims_2 to 4         int64\n",
       "PastNumberOfClaims_more than 4    int64\n",
       "PastNumberOfClaims_none           int64\n",
       "PoliceReportFiled_Yes             int64\n",
       "WitnessPresent_Yes                int64\n",
       "FraudFound_P                      int64\n",
       "dtype: object"
      ]
     },
     "execution_count": 6,
     "metadata": {},
     "output_type": "execute_result"
    }
   ],
   "source": [
    "df.dtypes"
   ]
  },
  {
   "cell_type": "code",
   "execution_count": 7,
   "metadata": {},
   "outputs": [],
   "source": [
    "cols = ['Age', 'GDP', 'DelayInReporting', 'AccidentArea_Urban', 'Sex_Male', 'Fault_Third Party', 'BasePolicy_Collision',\n",
    "         'BasePolicy_Liability', 'VehicleCategory_Sport', 'VehicleCategory_Utility', 'PastNumberOfClaims_2 to 4',\n",
    "         'PastNumberOfClaims_more than 4', 'PastNumberOfClaims_none', 'PoliceReportFiled_Yes', 'WitnessPresent_Yes']"
   ]
  },
  {
   "cell_type": "code",
   "execution_count": 8,
   "metadata": {},
   "outputs": [
    {
     "name": "stdout",
     "output_type": "stream",
     "text": [
      "(15420, 15)\n",
      "(15420,)\n"
     ]
    }
   ],
   "source": [
    "#split data into x and y\n",
    "#also make x into a numpy array so it can be fit onto the model\n",
    "x =  df[cols].values\n",
    "x\n",
    "\n",
    "y = df['FraudFound_P']\n",
    "y\n",
    "\n",
    "print(x.shape)\n",
    "print(y.shape)"
   ]
  },
  {
   "cell_type": "code",
   "execution_count": 9,
   "metadata": {},
   "outputs": [
    {
     "name": "stdout",
     "output_type": "stream",
     "text": [
      "(9714, 15)\n",
      "(4626, 15)\n",
      "(1080, 15)\n",
      "(9714,)\n",
      "(4626,)\n",
      "(1080,)\n"
     ]
    }
   ],
   "source": [
    "#hold out validation technique - 70-20-10\n",
    "#train model on 70, test on 20\n",
    "from sklearn.model_selection import train_test_split\n",
    "#test data\n",
    "x_train, x_test, y_train, y_test =  train_test_split(x, y, train_size=0.7, test_size=0.3, random_state=7, stratify=y)\n",
    "\n",
    "#after hyperparameter tuning - and after best parameters\n",
    "x_train, x_valid, y_train, y_valid =  train_test_split(x_train, y_train, train_size=0.9, test_size=0.1, random_state=7)\n",
    "\n",
    "print(x_train.shape)\n",
    "print(x_test.shape)\n",
    "print(x_valid.shape)\n",
    "\n",
    "print(y_train.shape)\n",
    "print(y_test.shape)\n",
    "print(y_valid.shape)"
   ]
  },
  {
   "cell_type": "code",
   "execution_count": 10,
   "metadata": {},
   "outputs": [
    {
     "data": {
      "image/png": "[encoded data removed]",
      "text/plain": [
       "<Figure size 432x288 with 1 Axes>"
      ]
     },
     "metadata": {
      "needs_background": "light"
     },
     "output_type": "display_data"
    }
   ],
   "source": [
    "ax =  sns.countplot(x=y_train, palette=\"Set3\")"
   ]
  },
  {
   "cell_type": "code",
   "execution_count": 11,
   "metadata": {},
   "outputs": [
    {
     "name": "stdout",
     "output_type": "stream",
     "text": [
      "Before Counter({0: 9120, 1: 594})\n",
      "After Counter({0: 9120, 1: 9120})\n"
     ]
    }
   ],
   "source": [
    "from imblearn.over_sampling import SMOTE\n",
    "from collections import Counter\n",
    "\n",
    "\n",
    "counter = Counter(y_train)\n",
    "print('Before',counter)\n",
    "# oversampling the train dataset using SMOTE\n",
    "smt = SMOTE()\n",
    "#X_train, y_train = smt.fit_resample(X_train, y_train)\n",
    "X_train_sm, y_train_sm = smt.fit_resample(x_train, y_train)\n",
    "\n",
    "counter = Counter(y_train_sm)\n",
    "print('After',counter)"
   ]
  },
  {
   "cell_type": "code",
   "execution_count": 12,
   "metadata": {},
   "outputs": [
    {
     "data": {
      "image/png": "[encoded data removed]",
      "text/plain": [
       "<Figure size 432x288 with 1 Axes>"
      ]
     },
     "metadata": {
      "needs_background": "light"
     },
     "output_type": "display_data"
    }
   ],
   "source": [
    "ax =  sns.countplot(x=y_train_sm, palette=\"Set3\")"
   ]
  },
  {
   "cell_type": "markdown",
   "metadata": {},
   "source": [
    "## Logistic Regression"
   ]
  },
  {
   "cell_type": "code",
   "execution_count": 13,
   "metadata": {},
   "outputs": [
    {
     "data": {
      "text/html": [
       "<style>#sk-container-id-1 {color: black;background-color: white;}#sk-container-id-1 pre{padding: 0;}#sk-container-id-1 div.sk-toggleable {background-color: white;}#sk-container-id-1 label.sk-toggleable__label {cursor: pointer;display: block;width: 100%;margin-bottom: 0;padding: 0.3em;box-sizing: border-box;text-align: center;}#sk-container-id-1 label.sk-toggleable__label-arrow:before {content: \"▸\";float: left;margin-right: 0.25em;color: #696969;}#sk-container-id-1 label.sk-toggleable__label-arrow:hover:before {color: black;}#sk-container-id-1 div.sk-estimator:hover label.sk-toggleable__label-arrow:before {color: black;}#sk-container-id-1 div.sk-toggleable__content {max-height: 0;max-width: 0;overflow: hidden;text-align: left;background-color: #f0f8ff;}#sk-container-id-1 div.sk-toggleable__content pre {margin: 0.2em;color: black;border-radius: 0.25em;background-color: #f0f8ff;}#sk-container-id-1 input.sk-toggleable__control:checked~div.sk-toggleable__content {max-height: 200px;max-width: 100%;overflow: auto;}#sk-container-id-1 input.sk-toggleable__control:checked~label.sk-toggleable__label-arrow:before {content: \"▾\";}#sk-container-id-1 div.sk-estimator input.sk-toggleable__control:checked~label.sk-toggleable__label {background-color: #d4ebff;}#sk-container-id-1 div.sk-label input.sk-toggleable__control:checked~label.sk-toggleable__label {background-color: #d4ebff;}#sk-container-id-1 input.sk-hidden--visually {border: 0;clip: rect(1px 1px 1px 1px);clip: rect(1px, 1px, 1px, 1px);height: 1px;margin: -1px;overflow: hidden;padding: 0;position: absolute;width: 1px;}#sk-container-id-1 div.sk-estimator {font-family: monospace;background-color: #f0f8ff;border: 1px dotted black;border-radius: 0.25em;box-sizing: border-box;margin-bottom: 0.5em;}#sk-container-id-1 div.sk-estimator:hover {background-color: #d4ebff;}#sk-container-id-1 div.sk-parallel-item::after {content: \"\";width: 100%;border-bottom: 1px solid gray;flex-grow: 1;}#sk-container-id-1 div.sk-label:hover label.sk-toggleable__label {background-color: #d4ebff;}#sk-container-id-1 div.sk-serial::before {content: \"\";position: absolute;border-left: 1px solid gray;box-sizing: border-box;top: 0;bottom: 0;left: 50%;z-index: 0;}#sk-container-id-1 div.sk-serial {display: flex;flex-direction: column;align-items: center;background-color: white;padding-right: 0.2em;padding-left: 0.2em;position: relative;}#sk-container-id-1 div.sk-item {position: relative;z-index: 1;}#sk-container-id-1 div.sk-parallel {display: flex;align-items: stretch;justify-content: center;background-color: white;position: relative;}#sk-container-id-1 div.sk-item::before, #sk-container-id-1 div.sk-parallel-item::before {content: \"\";position: absolute;border-left: 1px solid gray;box-sizing: border-box;top: 0;bottom: 0;left: 50%;z-index: -1;}#sk-container-id-1 div.sk-parallel-item {display: flex;flex-direction: column;z-index: 1;position: relative;background-color: white;}#sk-container-id-1 div.sk-parallel-item:first-child::after {align-self: flex-end;width: 50%;}#sk-container-id-1 div.sk-parallel-item:last-child::after {align-self: flex-start;width: 50%;}#sk-container-id-1 div.sk-parallel-item:only-child::after {width: 0;}#sk-container-id-1 div.sk-dashed-wrapped {border: 1px dashed gray;margin: 0 0.4em 0.5em 0.4em;box-sizing: border-box;padding-bottom: 0.4em;background-color: white;}#sk-container-id-1 div.sk-label label {font-family: monospace;font-weight: bold;display: inline-block;line-height: 1.2em;}#sk-container-id-1 div.sk-label-container {text-align: center;}#sk-container-id-1 div.sk-container {/* jupyter's `normalize.less` sets `[hidden] { display: none; }` but bootstrap.min.css set `[hidden] { display: none !important; }` so we also need the `!important` here to be able to override the default hidden behavior on the sphinx rendered scikit-learn.org. See: https://github.com/scikit-learn/scikit-learn/issues/21755 */display: inline-block !important;position: relative;}#sk-container-id-1 div.sk-text-repr-fallback {display: none;}</style><div id=\"sk-container-id-1\" class=\"sk-top-container\"><div class=\"sk-text-repr-fallback\"><pre>LogisticRegression(max_iter=10000, random_state=10)</pre><b>In a Jupyter environment, please rerun this cell to show the HTML representation or trust the notebook. <br />On GitHub, the HTML representation is unable to render, please try loading this page with nbviewer.org.</b></div><div class=\"sk-container\" hidden><div class=\"sk-item\"><div class=\"sk-estimator sk-toggleable\"><input class=\"sk-toggleable__control sk-hidden--visually\" id=\"sk-estimator-id-1\" type=\"checkbox\" checked><label for=\"sk-estimator-id-1\" class=\"sk-toggleable__label sk-toggleable__label-arrow\">LogisticRegression</label><div class=\"sk-toggleable__content\"><pre>LogisticRegression(max_iter=10000, random_state=10)</pre></div></div></div></div></div>"
      ],
      "text/plain": [
       "LogisticRegression(max_iter=10000, random_state=10)"
      ]
     },
     "execution_count": 13,
     "metadata": {},
     "output_type": "execute_result"
    }
   ],
   "source": [
    "#Build model\n",
    "logreg = LogisticRegression(random_state=10, solver='lbfgs', max_iter=10000)\n",
    "logreg.fit(X_train_sm, y_train_sm)"
   ]
  },
  {
   "cell_type": "code",
   "execution_count": 14,
   "metadata": {},
   "outputs": [
    {
     "data": {
      "text/plain": [
       "array([[-2.39351308e-02,  4.14724182e-04, -5.47907781e-03,\n",
       "        -2.34949882e-01, -1.76530935e-01, -3.99880589e+00,\n",
       "        -1.41806673e+00, -3.06531375e+00, -2.09165112e+00,\n",
       "        -1.35729502e+00, -1.38113391e+00, -2.24192121e+00,\n",
       "        -1.20757256e+00, -9.73256011e-01, -2.10696367e-01]])"
      ]
     },
     "execution_count": 14,
     "metadata": {},
     "output_type": "execute_result"
    }
   ],
   "source": [
    "#make predictions\n",
    "pred_log = logreg.predict(x_test)\n",
    "\n",
    "#probabilities\n",
    "pred_proba = logreg.predict_proba(x_test)\n",
    "\n",
    "logreg.coef_"
   ]
  },
  {
   "cell_type": "code",
   "execution_count": 15,
   "metadata": {},
   "outputs": [
    {
     "name": "stdout",
     "output_type": "stream",
     "text": [
      "The training Accuracy is:  0.8329495614035087\n",
      "The test Accuracy is:  0.7812364894076956\n",
      "              precision    recall  f1-score   support\n",
      "\n",
      "           0       0.97      0.79      0.87      4349\n",
      "           1       0.15      0.58      0.24       277\n",
      "\n",
      "    accuracy                           0.78      4626\n",
      "   macro avg       0.56      0.69      0.56      4626\n",
      "weighted avg       0.92      0.78      0.83      4626\n",
      "\n",
      "AUCROC: 0.7836744909199426\n"
     ]
    }
   ],
   "source": [
    "#evaluate model\n",
    "#on training set\n",
    "print(\"The training Accuracy is: \", logreg.score(X_train_sm, y_train_sm))\n",
    "\n",
    "#test the model on unseen data - higher accuracy than training data?\n",
    "print(\"The test Accuracy is: \", logreg.score(x_test, y_test))\n",
    "\n",
    "#classification report\n",
    "print(classification_report(y_test, pred_log))\n",
    "\n",
    "#roc_auc\n",
    "print(\"AUCROC:\",roc_auc_score(y_test, pred_proba[:,1]))"
   ]
  },
  {
   "cell_type": "code",
   "execution_count": 16,
   "metadata": {},
   "outputs": [],
   "source": [
    "#confusion matrix to show how well the model predicts each class\n",
    "def plot_confusion_matrix(cm, classes=None, title='Confusion Matrix'):\n",
    "    if classes is not None:\n",
    "        sns.heatmap(cm, xticklabels=classes, yticklabels=classes, vmin=0., vmax=1., annot=True, annot_kws={'size':50})\n",
    "    else:\n",
    "        sns.heatmap(cm, vmin=0., vmax=1.)\n",
    "    plt.title(title)\n",
    "    plt.ylabel('True label')\n",
    "    plt.xlabel('Predicted label')"
   ]
  },
  {
   "cell_type": "code",
   "execution_count": 17,
   "metadata": {},
   "outputs": [
    {
     "data": {
      "image/png": "[encoded data removed]",
      "text/plain": [
       "<Figure size 432x288 with 2 Axes>"
      ]
     },
     "metadata": {
      "needs_background": "light"
     },
     "output_type": "display_data"
    }
   ],
   "source": [
    "cm = confusion_matrix(y_test, pred_log)\n",
    "cm_norm = cm / cm.sum(axis=1).reshape(-1,1)\n",
    "\n",
    "plot_confusion_matrix(cm_norm,classes=logreg.classes_, title='Logistic with SMOTE Confusion Matrix')"
   ]
  },
  {
   "cell_type": "code",
   "execution_count": 18,
   "metadata": {},
   "outputs": [
    {
     "name": "stdout",
     "output_type": "stream",
     "text": [
      "The log loss on Training is:  0.38087287901803046\n",
      "The log loss on Test is:  0.4153094911402766\n"
     ]
    }
   ],
   "source": [
    "#Log Loss - log loss went up for unseen data. shouldnt be better than training data - so makes sense\n",
    "from sklearn.metrics import log_loss\n",
    "\n",
    "pred_proba_t = logreg.predict_proba(X_train_sm)\n",
    "print(\"The log loss on Training is: \", log_loss(y_train_sm,pred_proba_t))\n",
    "\n",
    "print(\"The log loss on Test is: \", log_loss(y_test,pred_proba))"
   ]
  },
  {
   "cell_type": "markdown",
   "metadata": {},
   "source": [
    "Tuning the hyperparameters for logistic model"
   ]
  },
  {
   "cell_type": "code",
   "execution_count": 19,
   "metadata": {},
   "outputs": [
    {
     "data": {
      "text/plain": [
       "array([1.00000000e-05, 3.35981829e-05, 1.12883789e-04, 3.79269019e-04,\n",
       "       1.27427499e-03, 4.28133240e-03, 1.43844989e-02, 4.83293024e-02,\n",
       "       1.62377674e-01, 5.45559478e-01, 1.83298071e+00, 6.15848211e+00,\n",
       "       2.06913808e+01, 6.95192796e+01, 2.33572147e+02, 7.84759970e+02,\n",
       "       2.63665090e+03, 8.85866790e+03, 2.97635144e+04, 1.00000000e+05])"
      ]
     },
     "execution_count": 19,
     "metadata": {},
     "output_type": "execute_result"
    }
   ],
   "source": [
    "#regularisation strength - helps to avoid overfitting\n",
    "#range for c-values\n",
    "np.geomspace(1e-5, 1e5, num=20)"
   ]
  },
  {
   "cell_type": "code",
   "execution_count": 20,
   "metadata": {},
   "outputs": [
    {
     "name": "stdout",
     "output_type": "stream",
     "text": [
      "The classification accuracy of c parameter 1e-05 is 0.5140510159965412\n",
      "The log loss of c parameter 1e-05 is 0.6832234561389502\n",
      "\n",
      "The classification accuracy of c parameter 3.359818286283781e-05 is 0.5583657587548638\n",
      "The log loss of c parameter 3.359818286283781e-05 is 0.6736880563949775\n",
      "\n",
      "The classification accuracy of c parameter 0.00011288378916846884 is 0.6647211413748378\n",
      "The log loss of c parameter 0.00011288378916846884 is 0.6467922768715072\n",
      "\n",
      "The classification accuracy of c parameter 0.000379269019073225 is 0.6733679204496326\n",
      "The log loss of c parameter 0.000379269019073225 is 0.5920571095265371\n",
      "\n",
      "The classification accuracy of c parameter 0.0012742749857031334 is 0.6876351059230437\n",
      "The log loss of c parameter 0.0012742749857031334 is 0.5273328503219226\n",
      "\n",
      "The classification accuracy of c parameter 0.004281332398719391 is 0.7568093385214008\n",
      "The log loss of c parameter 0.004281332398719391 is 0.4530590897518417\n",
      "\n",
      "The classification accuracy of c parameter 0.01438449888287663 is 0.7684824902723736\n",
      "The log loss of c parameter 0.01438449888287663 is 0.43117213101711643\n",
      "\n"
     ]
    },
    {
     "name": "stderr",
     "output_type": "stream",
     "text": [
      "/opt/anaconda3/lib/python3.8/site-packages/sklearn/linear_model/_logistic.py:444: ConvergenceWarning: lbfgs failed to converge (status=1):\n",
      "STOP: TOTAL NO. of ITERATIONS REACHED LIMIT.\n",
      "\n",
      "Increase the number of iterations (max_iter) or scale the data as shown in:\n",
      "    https://scikit-learn.org/stable/modules/preprocessing.html\n",
      "Please also refer to the documentation for alternative solver options:\n",
      "    https://scikit-learn.org/stable/modules/linear_model.html#logistic-regression\n",
      "  n_iter_i = _check_optimize_result(\n",
      "/opt/anaconda3/lib/python3.8/site-packages/sklearn/linear_model/_logistic.py:444: ConvergenceWarning: lbfgs failed to converge (status=1):\n",
      "STOP: TOTAL NO. of ITERATIONS REACHED LIMIT.\n",
      "\n",
      "Increase the number of iterations (max_iter) or scale the data as shown in:\n",
      "    https://scikit-learn.org/stable/modules/preprocessing.html\n",
      "Please also refer to the documentation for alternative solver options:\n",
      "    https://scikit-learn.org/stable/modules/linear_model.html#logistic-regression\n",
      "  n_iter_i = _check_optimize_result(\n"
     ]
    },
    {
     "name": "stdout",
     "output_type": "stream",
     "text": [
      "The classification accuracy of c parameter 0.04832930238571752 is 0.77431906614786\n",
      "The log loss of c parameter 0.04832930238571752 is 0.4252540395489597\n",
      "\n",
      "The classification accuracy of c parameter 0.1623776739188721 is 0.7751837440553394\n",
      "The log loss of c parameter 0.1623776739188721 is 0.4247285836119194\n",
      "\n",
      "The classification accuracy of c parameter 0.5455594781168515 is 0.7829658452226546\n",
      "The log loss of c parameter 0.5455594781168515 is 0.41501739947194105\n",
      "\n",
      "The classification accuracy of c parameter 1.8329807108324339 is 0.7762645914396887\n",
      "The log loss of c parameter 1.8329807108324339 is 0.4251067573939569\n",
      "\n"
     ]
    },
    {
     "name": "stderr",
     "output_type": "stream",
     "text": [
      "/opt/anaconda3/lib/python3.8/site-packages/sklearn/linear_model/_logistic.py:444: ConvergenceWarning: lbfgs failed to converge (status=1):\n",
      "STOP: TOTAL NO. of ITERATIONS REACHED LIMIT.\n",
      "\n",
      "Increase the number of iterations (max_iter) or scale the data as shown in:\n",
      "    https://scikit-learn.org/stable/modules/preprocessing.html\n",
      "Please also refer to the documentation for alternative solver options:\n",
      "    https://scikit-learn.org/stable/modules/linear_model.html#logistic-regression\n",
      "  n_iter_i = _check_optimize_result(\n"
     ]
    },
    {
     "name": "stdout",
     "output_type": "stream",
     "text": [
      "The classification accuracy of c parameter 6.1584821106602545 is 0.7762645914396887\n",
      "The log loss of c parameter 6.1584821106602545 is 0.42515643679052684\n",
      "\n",
      "The classification accuracy of c parameter 20.6913808111479 is 0.7764807609165586\n",
      "The log loss of c parameter 20.6913808111479 is 0.42503106043611627\n",
      "\n",
      "The classification accuracy of c parameter 69.51927961775606 is 0.7762645914396887\n",
      "The log loss of c parameter 69.51927961775606 is 0.42515159133007235\n",
      "\n"
     ]
    },
    {
     "name": "stderr",
     "output_type": "stream",
     "text": [
      "/opt/anaconda3/lib/python3.8/site-packages/sklearn/linear_model/_logistic.py:444: ConvergenceWarning: lbfgs failed to converge (status=1):\n",
      "STOP: TOTAL NO. of ITERATIONS REACHED LIMIT.\n",
      "\n",
      "Increase the number of iterations (max_iter) or scale the data as shown in:\n",
      "    https://scikit-learn.org/stable/modules/preprocessing.html\n",
      "Please also refer to the documentation for alternative solver options:\n",
      "    https://scikit-learn.org/stable/modules/linear_model.html#logistic-regression\n",
      "  n_iter_i = _check_optimize_result(\n"
     ]
    },
    {
     "name": "stdout",
     "output_type": "stream",
     "text": [
      "The classification accuracy of c parameter 233.57214690901213 is 0.7762645914396887\n",
      "The log loss of c parameter 233.57214690901213 is 0.4251386291147716\n",
      "\n",
      "The classification accuracy of c parameter 784.7599703514607 is 0.7810203199308258\n",
      "The log loss of c parameter 784.7599703514607 is 0.41556207620763636\n",
      "\n",
      "The classification accuracy of c parameter 2636.6508987303555 is 0.7762645914396887\n",
      "The log loss of c parameter 2636.6508987303555 is 0.42513455222723867\n",
      "\n"
     ]
    },
    {
     "name": "stderr",
     "output_type": "stream",
     "text": [
      "/opt/anaconda3/lib/python3.8/site-packages/sklearn/linear_model/_logistic.py:444: ConvergenceWarning: lbfgs failed to converge (status=1):\n",
      "STOP: TOTAL NO. of ITERATIONS REACHED LIMIT.\n",
      "\n",
      "Increase the number of iterations (max_iter) or scale the data as shown in:\n",
      "    https://scikit-learn.org/stable/modules/preprocessing.html\n",
      "Please also refer to the documentation for alternative solver options:\n",
      "    https://scikit-learn.org/stable/modules/linear_model.html#logistic-regression\n",
      "  n_iter_i = _check_optimize_result(\n"
     ]
    },
    {
     "name": "stdout",
     "output_type": "stream",
     "text": [
      "The classification accuracy of c parameter 8858.667904100832 is 0.7762645914396887\n",
      "The log loss of c parameter 8858.667904100832 is 0.42516830746999384\n",
      "\n",
      "The classification accuracy of c parameter 29763.51441631313 is 0.7803718115002162\n",
      "The log loss of c parameter 29763.51441631313 is 0.41013474737597394\n",
      "\n",
      "The classification accuracy of c parameter 100000.0 is 0.7762645914396887\n",
      "The log loss of c parameter 100000.0 is 0.425127138789179\n",
      "\n"
     ]
    },
    {
     "name": "stderr",
     "output_type": "stream",
     "text": [
      "/opt/anaconda3/lib/python3.8/site-packages/sklearn/linear_model/_logistic.py:444: ConvergenceWarning: lbfgs failed to converge (status=1):\n",
      "STOP: TOTAL NO. of ITERATIONS REACHED LIMIT.\n",
      "\n",
      "Increase the number of iterations (max_iter) or scale the data as shown in:\n",
      "    https://scikit-learn.org/stable/modules/preprocessing.html\n",
      "Please also refer to the documentation for alternative solver options:\n",
      "    https://scikit-learn.org/stable/modules/linear_model.html#logistic-regression\n",
      "  n_iter_i = _check_optimize_result(\n"
     ]
    }
   ],
   "source": [
    "c_list = np.geomspace(1e-5, 1e5, num=20)\n",
    "CA = []\n",
    "logarithmic_loss =[]\n",
    "\n",
    "for c in c_list:\n",
    "    logreg2 = LogisticRegression(random_state=10,C=c)\n",
    "    logreg2.fit(X_train_sm, y_train_sm)\n",
    "    score =  logreg2.score(x_test, y_test)\n",
    "    CA.append(score)\n",
    "    print(\"The classification accuracy of c parameter {} is {}\".format(c, score))\n",
    "    pred_proba_t = logreg2.predict_proba(x_test)\n",
    "    log_loss2 = log_loss(y_test,pred_proba_t)\n",
    "    logarithmic_loss.append(log_loss2)\n",
    "    print(\"The log loss of c parameter {} is {}\".format(c, log_loss2))\n",
    "    print(\"\")"
   ]
  },
  {
   "cell_type": "code",
   "execution_count": 21,
   "metadata": {},
   "outputs": [
    {
     "data": {
      "text/html": [
       "<div>\n",
       "<style scoped>\n",
       "    .dataframe tbody tr th:only-of-type {\n",
       "        vertical-align: middle;\n",
       "    }\n",
       "\n",
       "    .dataframe tbody tr th {\n",
       "        vertical-align: top;\n",
       "    }\n",
       "\n",
       "    .dataframe thead th {\n",
       "        text-align: right;\n",
       "    }\n",
       "</style>\n",
       "<table border=\"1\" class=\"dataframe\">\n",
       "  <thead>\n",
       "    <tr style=\"text-align: right;\">\n",
       "      <th></th>\n",
       "      <th>index</th>\n",
       "      <th>C_List</th>\n",
       "      <th>CA2</th>\n",
       "      <th>LOG LOSS2</th>\n",
       "    </tr>\n",
       "  </thead>\n",
       "  <tbody>\n",
       "    <tr>\n",
       "      <th>0</th>\n",
       "      <td>18</td>\n",
       "      <td>29763.514416</td>\n",
       "      <td>0.780372</td>\n",
       "      <td>0.410135</td>\n",
       "    </tr>\n",
       "    <tr>\n",
       "      <th>1</th>\n",
       "      <td>9</td>\n",
       "      <td>0.545559</td>\n",
       "      <td>0.782966</td>\n",
       "      <td>0.415017</td>\n",
       "    </tr>\n",
       "    <tr>\n",
       "      <th>2</th>\n",
       "      <td>15</td>\n",
       "      <td>784.759970</td>\n",
       "      <td>0.781020</td>\n",
       "      <td>0.415562</td>\n",
       "    </tr>\n",
       "    <tr>\n",
       "      <th>3</th>\n",
       "      <td>8</td>\n",
       "      <td>0.162378</td>\n",
       "      <td>0.775184</td>\n",
       "      <td>0.424729</td>\n",
       "    </tr>\n",
       "    <tr>\n",
       "      <th>4</th>\n",
       "      <td>12</td>\n",
       "      <td>20.691381</td>\n",
       "      <td>0.776481</td>\n",
       "      <td>0.425031</td>\n",
       "    </tr>\n",
       "    <tr>\n",
       "      <th>5</th>\n",
       "      <td>10</td>\n",
       "      <td>1.832981</td>\n",
       "      <td>0.776265</td>\n",
       "      <td>0.425107</td>\n",
       "    </tr>\n",
       "    <tr>\n",
       "      <th>6</th>\n",
       "      <td>19</td>\n",
       "      <td>100000.000000</td>\n",
       "      <td>0.776265</td>\n",
       "      <td>0.425127</td>\n",
       "    </tr>\n",
       "    <tr>\n",
       "      <th>7</th>\n",
       "      <td>16</td>\n",
       "      <td>2636.650899</td>\n",
       "      <td>0.776265</td>\n",
       "      <td>0.425135</td>\n",
       "    </tr>\n",
       "    <tr>\n",
       "      <th>8</th>\n",
       "      <td>14</td>\n",
       "      <td>233.572147</td>\n",
       "      <td>0.776265</td>\n",
       "      <td>0.425139</td>\n",
       "    </tr>\n",
       "    <tr>\n",
       "      <th>9</th>\n",
       "      <td>13</td>\n",
       "      <td>69.519280</td>\n",
       "      <td>0.776265</td>\n",
       "      <td>0.425152</td>\n",
       "    </tr>\n",
       "    <tr>\n",
       "      <th>10</th>\n",
       "      <td>11</td>\n",
       "      <td>6.158482</td>\n",
       "      <td>0.776265</td>\n",
       "      <td>0.425156</td>\n",
       "    </tr>\n",
       "    <tr>\n",
       "      <th>11</th>\n",
       "      <td>17</td>\n",
       "      <td>8858.667904</td>\n",
       "      <td>0.776265</td>\n",
       "      <td>0.425168</td>\n",
       "    </tr>\n",
       "    <tr>\n",
       "      <th>12</th>\n",
       "      <td>7</td>\n",
       "      <td>0.048329</td>\n",
       "      <td>0.774319</td>\n",
       "      <td>0.425254</td>\n",
       "    </tr>\n",
       "    <tr>\n",
       "      <th>13</th>\n",
       "      <td>6</td>\n",
       "      <td>0.014384</td>\n",
       "      <td>0.768482</td>\n",
       "      <td>0.431172</td>\n",
       "    </tr>\n",
       "    <tr>\n",
       "      <th>14</th>\n",
       "      <td>5</td>\n",
       "      <td>0.004281</td>\n",
       "      <td>0.756809</td>\n",
       "      <td>0.453059</td>\n",
       "    </tr>\n",
       "    <tr>\n",
       "      <th>15</th>\n",
       "      <td>4</td>\n",
       "      <td>0.001274</td>\n",
       "      <td>0.687635</td>\n",
       "      <td>0.527333</td>\n",
       "    </tr>\n",
       "    <tr>\n",
       "      <th>16</th>\n",
       "      <td>3</td>\n",
       "      <td>0.000379</td>\n",
       "      <td>0.673368</td>\n",
       "      <td>0.592057</td>\n",
       "    </tr>\n",
       "    <tr>\n",
       "      <th>17</th>\n",
       "      <td>2</td>\n",
       "      <td>0.000113</td>\n",
       "      <td>0.664721</td>\n",
       "      <td>0.646792</td>\n",
       "    </tr>\n",
       "    <tr>\n",
       "      <th>18</th>\n",
       "      <td>1</td>\n",
       "      <td>0.000034</td>\n",
       "      <td>0.558366</td>\n",
       "      <td>0.673688</td>\n",
       "    </tr>\n",
       "    <tr>\n",
       "      <th>19</th>\n",
       "      <td>0</td>\n",
       "      <td>0.000010</td>\n",
       "      <td>0.514051</td>\n",
       "      <td>0.683223</td>\n",
       "    </tr>\n",
       "  </tbody>\n",
       "</table>\n",
       "</div>"
      ],
      "text/plain": [
       "    index         C_List       CA2  LOG LOSS2\n",
       "0      18   29763.514416  0.780372   0.410135\n",
       "1       9       0.545559  0.782966   0.415017\n",
       "2      15     784.759970  0.781020   0.415562\n",
       "3       8       0.162378  0.775184   0.424729\n",
       "4      12      20.691381  0.776481   0.425031\n",
       "5      10       1.832981  0.776265   0.425107\n",
       "6      19  100000.000000  0.776265   0.425127\n",
       "7      16    2636.650899  0.776265   0.425135\n",
       "8      14     233.572147  0.776265   0.425139\n",
       "9      13      69.519280  0.776265   0.425152\n",
       "10     11       6.158482  0.776265   0.425156\n",
       "11     17    8858.667904  0.776265   0.425168\n",
       "12      7       0.048329  0.774319   0.425254\n",
       "13      6       0.014384  0.768482   0.431172\n",
       "14      5       0.004281  0.756809   0.453059\n",
       "15      4       0.001274  0.687635   0.527333\n",
       "16      3       0.000379  0.673368   0.592057\n",
       "17      2       0.000113  0.664721   0.646792\n",
       "18      1       0.000034  0.558366   0.673688\n",
       "19      0       0.000010  0.514051   0.683223"
      ]
     },
     "execution_count": 21,
     "metadata": {},
     "output_type": "execute_result"
    }
   ],
   "source": [
    "CA2 = np.array(CA).reshape(20,)\n",
    "logarithmic_loss2 = np.array(logarithmic_loss).reshape(20,)\n",
    "\n",
    "outcomes =  zip(c_list, CA2, logarithmic_loss2)\n",
    "\n",
    "df_outcomes = pd.DataFrame(outcomes, columns=['C_List', 'CA2', 'LOG LOSS2'])\n",
    "df_outcomes\n",
    "df_outcomes.sort_values(\"LOG LOSS2\", ascending=True).reset_index()"
   ]
  },
  {
   "cell_type": "markdown",
   "metadata": {},
   "source": [
    "c=8 is the optimal as it has the lowest log loss and very close to highest classification accuracy"
   ]
  },
  {
   "cell_type": "code",
   "execution_count": 22,
   "metadata": {},
   "outputs": [
    {
     "name": "stdout",
     "output_type": "stream",
     "text": [
      "Testing Accuracy: 0.7792909641158668\n",
      "Log Loss: 0.4142845486733709\n"
     ]
    }
   ],
   "source": [
    "#run new logistic regression using optimal paramaters\n",
    "logregnew = LogisticRegression(random_state=10,solver='lbfgs', C=0.162378, max_iter=10000)\n",
    "logregnew.fit(X_train_sm, y_train_sm)\n",
    "score =  logregnew.score(x_test, y_test)\n",
    "\n",
    "pred_proba_tnew = logregnew.predict_proba(x_test)\n",
    "log_lossnew = log_loss(y_test,pred_proba_tnew)\n",
    "\n",
    "\n",
    "print(\"Testing Accuracy:\", score) \n",
    "print(\"Log Loss:\", log_lossnew)"
   ]
  },
  {
   "cell_type": "code",
   "execution_count": 23,
   "metadata": {},
   "outputs": [],
   "source": [
    "y_pred_new = logregnew.predict(x_test)"
   ]
  },
  {
   "cell_type": "code",
   "execution_count": 24,
   "metadata": {},
   "outputs": [
    {
     "data": {
      "image/png": "[encoded data removed]",
      "text/plain": [
       "<Figure size 432x288 with 2 Axes>"
      ]
     },
     "metadata": {
      "needs_background": "light"
     },
     "output_type": "display_data"
    }
   ],
   "source": [
    "cm = confusion_matrix(y_test, y_pred_new)\n",
    "cm_norm = cm / cm.sum(axis=1).reshape(-1,1)\n",
    "cm_norm\n",
    "plot_confusion_matrix(cm_norm,classes=logregnew.classes_, title='Tuned Logistic Regression with SMOTE Confusion Matrix')"
   ]
  },
  {
   "cell_type": "code",
   "execution_count": 25,
   "metadata": {},
   "outputs": [
    {
     "name": "stdout",
     "output_type": "stream",
     "text": [
      "The training Accuracy is:  0.8326206140350877\n",
      "The test Accuracy is:  0.7792909641158668\n",
      "              precision    recall  f1-score   support\n",
      "\n",
      "           0       0.97      0.79      0.87      4349\n",
      "           1       0.15      0.58      0.24       277\n",
      "\n",
      "    accuracy                           0.78      4626\n",
      "   macro avg       0.56      0.69      0.56      4626\n",
      "weighted avg       0.92      0.78      0.83      4626\n",
      "\n",
      "AUCROC: 0.7836744909199426\n"
     ]
    }
   ],
   "source": [
    "#evaluate model\n",
    "#on training set\n",
    "print(\"The training Accuracy is: \", logregnew.score(X_train_sm, y_train_sm))\n",
    "\n",
    "#test the model on unseen data - higher accuracy than training data?\n",
    "print(\"The test Accuracy is: \", logregnew.score(x_test, y_test))\n",
    "\n",
    "#classification report\n",
    "print(classification_report(y_test, y_pred_new))\n",
    "\n",
    "#roc_auc\n",
    "print(\"AUCROC:\",roc_auc_score(y_test, pred_proba[:,1]))"
   ]
  },
  {
   "cell_type": "markdown",
   "metadata": {},
   "source": [
    "## Random Forest"
   ]
  },
  {
   "cell_type": "code",
   "execution_count": 26,
   "metadata": {},
   "outputs": [],
   "source": [
    "rf = RandomForestClassifier(n_estimators=100)\n",
    "rf.fit(X_train_sm, y_train_sm)\n",
    "\n",
    "y_pred_rf = rf.predict(X=x_test)\n",
    "\n",
    "#probabilities\n",
    "pred_proba_rf = rf.predict_proba(x_test)\n"
   ]
  },
  {
   "cell_type": "code",
   "execution_count": 27,
   "metadata": {},
   "outputs": [
    {
     "name": "stdout",
     "output_type": "stream",
     "text": [
      "The training Accuracy is:  0.9765350877192982\n",
      "The test Accuracy is:  0.8800259403372244\n",
      "              precision    recall  f1-score   support\n",
      "\n",
      "           0       0.95      0.92      0.94      4349\n",
      "           1       0.16      0.24      0.19       277\n",
      "\n",
      "    accuracy                           0.88      4626\n",
      "   macro avg       0.56      0.58      0.56      4626\n",
      "weighted avg       0.90      0.88      0.89      4626\n",
      "\n",
      "AUCROC: 0.7640816221497453\n"
     ]
    }
   ],
   "source": [
    "#evaluate model\n",
    "#on training set\n",
    "print(\"The training Accuracy is: \", rf.score(X_train_sm, y_train_sm))\n",
    "\n",
    "#test the model on unseen data - higher accuracy than training data?\n",
    "print(\"The test Accuracy is: \", rf.score(x_test, y_test))\n",
    "\n",
    "#classification report\n",
    "print(classification_report(y_test, y_pred_rf))\n",
    "\n",
    "#roc_auc\n",
    "print(\"AUCROC:\",roc_auc_score(y_test, pred_proba_rf[:,1]))"
   ]
  },
  {
   "cell_type": "code",
   "execution_count": 28,
   "metadata": {},
   "outputs": [
    {
     "data": {
      "image/png": "[encoded data removed]",
      "text/plain": [
       "<Figure size 432x288 with 2 Axes>"
      ]
     },
     "metadata": {
      "needs_background": "light"
     },
     "output_type": "display_data"
    }
   ],
   "source": [
    "cm = confusion_matrix(y_test, y_pred_rf)\n",
    "cm_norm = cm / cm.sum(axis=1).reshape(-1,1)\n",
    "cm_norm\n",
    "plot_confusion_matrix(cm_norm,classes=rf.classes_, title='Random Forest Confusion Matrix')"
   ]
  },
  {
   "cell_type": "markdown",
   "metadata": {},
   "source": [
    "Tune Parameters to find best model"
   ]
  },
  {
   "cell_type": "code",
   "execution_count": 29,
   "metadata": {},
   "outputs": [],
   "source": [
    "max_features_range = np.arange(1,6,1)\n",
    "n_estimators_range = np.arange(10,110,10)\n",
    "param_grid = dict(max_features=max_features_range, n_estimators=n_estimators_range)\n",
    "\n",
    "rf = RandomForestClassifier()\n",
    "\n",
    "grid = GridSearchCV(estimator=rf, param_grid=param_grid, cv=5)"
   ]
  },
  {
   "cell_type": "code",
   "execution_count": 30,
   "metadata": {},
   "outputs": [
    {
     "data": {
      "text/html": [
       "<style>#sk-container-id-2 {color: black;background-color: white;}#sk-container-id-2 pre{padding: 0;}#sk-container-id-2 div.sk-toggleable {background-color: white;}#sk-container-id-2 label.sk-toggleable__label {cursor: pointer;display: block;width: 100%;margin-bottom: 0;padding: 0.3em;box-sizing: border-box;text-align: center;}#sk-container-id-2 label.sk-toggleable__label-arrow:before {content: \"▸\";float: left;margin-right: 0.25em;color: #696969;}#sk-container-id-2 label.sk-toggleable__label-arrow:hover:before {color: black;}#sk-container-id-2 div.sk-estimator:hover label.sk-toggleable__label-arrow:before {color: black;}#sk-container-id-2 div.sk-toggleable__content {max-height: 0;max-width: 0;overflow: hidden;text-align: left;background-color: #f0f8ff;}#sk-container-id-2 div.sk-toggleable__content pre {margin: 0.2em;color: black;border-radius: 0.25em;background-color: #f0f8ff;}#sk-container-id-2 input.sk-toggleable__control:checked~div.sk-toggleable__content {max-height: 200px;max-width: 100%;overflow: auto;}#sk-container-id-2 input.sk-toggleable__control:checked~label.sk-toggleable__label-arrow:before {content: \"▾\";}#sk-container-id-2 div.sk-estimator input.sk-toggleable__control:checked~label.sk-toggleable__label {background-color: #d4ebff;}#sk-container-id-2 div.sk-label input.sk-toggleable__control:checked~label.sk-toggleable__label {background-color: #d4ebff;}#sk-container-id-2 input.sk-hidden--visually {border: 0;clip: rect(1px 1px 1px 1px);clip: rect(1px, 1px, 1px, 1px);height: 1px;margin: -1px;overflow: hidden;padding: 0;position: absolute;width: 1px;}#sk-container-id-2 div.sk-estimator {font-family: monospace;background-color: #f0f8ff;border: 1px dotted black;border-radius: 0.25em;box-sizing: border-box;margin-bottom: 0.5em;}#sk-container-id-2 div.sk-estimator:hover {background-color: #d4ebff;}#sk-container-id-2 div.sk-parallel-item::after {content: \"\";width: 100%;border-bottom: 1px solid gray;flex-grow: 1;}#sk-container-id-2 div.sk-label:hover label.sk-toggleable__label {background-color: #d4ebff;}#sk-container-id-2 div.sk-serial::before {content: \"\";position: absolute;border-left: 1px solid gray;box-sizing: border-box;top: 0;bottom: 0;left: 50%;z-index: 0;}#sk-container-id-2 div.sk-serial {display: flex;flex-direction: column;align-items: center;background-color: white;padding-right: 0.2em;padding-left: 0.2em;position: relative;}#sk-container-id-2 div.sk-item {position: relative;z-index: 1;}#sk-container-id-2 div.sk-parallel {display: flex;align-items: stretch;justify-content: center;background-color: white;position: relative;}#sk-container-id-2 div.sk-item::before, #sk-container-id-2 div.sk-parallel-item::before {content: \"\";position: absolute;border-left: 1px solid gray;box-sizing: border-box;top: 0;bottom: 0;left: 50%;z-index: -1;}#sk-container-id-2 div.sk-parallel-item {display: flex;flex-direction: column;z-index: 1;position: relative;background-color: white;}#sk-container-id-2 div.sk-parallel-item:first-child::after {align-self: flex-end;width: 50%;}#sk-container-id-2 div.sk-parallel-item:last-child::after {align-self: flex-start;width: 50%;}#sk-container-id-2 div.sk-parallel-item:only-child::after {width: 0;}#sk-container-id-2 div.sk-dashed-wrapped {border: 1px dashed gray;margin: 0 0.4em 0.5em 0.4em;box-sizing: border-box;padding-bottom: 0.4em;background-color: white;}#sk-container-id-2 div.sk-label label {font-family: monospace;font-weight: bold;display: inline-block;line-height: 1.2em;}#sk-container-id-2 div.sk-label-container {text-align: center;}#sk-container-id-2 div.sk-container {/* jupyter's `normalize.less` sets `[hidden] { display: none; }` but bootstrap.min.css set `[hidden] { display: none !important; }` so we also need the `!important` here to be able to override the default hidden behavior on the sphinx rendered scikit-learn.org. See: https://github.com/scikit-learn/scikit-learn/issues/21755 */display: inline-block !important;position: relative;}#sk-container-id-2 div.sk-text-repr-fallback {display: none;}</style><div id=\"sk-container-id-2\" class=\"sk-top-container\"><div class=\"sk-text-repr-fallback\"><pre>GridSearchCV(cv=5, estimator=RandomForestClassifier(),\n",
       "             param_grid={&#x27;max_features&#x27;: array([1, 2, 3, 4, 5]),\n",
       "                         &#x27;n_estimators&#x27;: array([ 10,  20,  30,  40,  50,  60,  70,  80,  90, 100])})</pre><b>In a Jupyter environment, please rerun this cell to show the HTML representation or trust the notebook. <br />On GitHub, the HTML representation is unable to render, please try loading this page with nbviewer.org.</b></div><div class=\"sk-container\" hidden><div class=\"sk-item sk-dashed-wrapped\"><div class=\"sk-label-container\"><div class=\"sk-label sk-toggleable\"><input class=\"sk-toggleable__control sk-hidden--visually\" id=\"sk-estimator-id-2\" type=\"checkbox\" ><label for=\"sk-estimator-id-2\" class=\"sk-toggleable__label sk-toggleable__label-arrow\">GridSearchCV</label><div class=\"sk-toggleable__content\"><pre>GridSearchCV(cv=5, estimator=RandomForestClassifier(),\n",
       "             param_grid={&#x27;max_features&#x27;: array([1, 2, 3, 4, 5]),\n",
       "                         &#x27;n_estimators&#x27;: array([ 10,  20,  30,  40,  50,  60,  70,  80,  90, 100])})</pre></div></div></div><div class=\"sk-parallel\"><div class=\"sk-parallel-item\"><div class=\"sk-item\"><div class=\"sk-label-container\"><div class=\"sk-label sk-toggleable\"><input class=\"sk-toggleable__control sk-hidden--visually\" id=\"sk-estimator-id-3\" type=\"checkbox\" ><label for=\"sk-estimator-id-3\" class=\"sk-toggleable__label sk-toggleable__label-arrow\">estimator: RandomForestClassifier</label><div class=\"sk-toggleable__content\"><pre>RandomForestClassifier()</pre></div></div></div><div class=\"sk-serial\"><div class=\"sk-item\"><div class=\"sk-estimator sk-toggleable\"><input class=\"sk-toggleable__control sk-hidden--visually\" id=\"sk-estimator-id-4\" type=\"checkbox\" ><label for=\"sk-estimator-id-4\" class=\"sk-toggleable__label sk-toggleable__label-arrow\">RandomForestClassifier</label><div class=\"sk-toggleable__content\"><pre>RandomForestClassifier()</pre></div></div></div></div></div></div></div></div></div></div>"
      ],
      "text/plain": [
       "GridSearchCV(cv=5, estimator=RandomForestClassifier(),\n",
       "             param_grid={'max_features': array([1, 2, 3, 4, 5]),\n",
       "                         'n_estimators': array([ 10,  20,  30,  40,  50,  60,  70,  80,  90, 100])})"
      ]
     },
     "execution_count": 30,
     "metadata": {},
     "output_type": "execute_result"
    }
   ],
   "source": [
    "grid.fit(X_train_sm,y_train_sm)"
   ]
  },
  {
   "cell_type": "code",
   "execution_count": 31,
   "metadata": {},
   "outputs": [
    {
     "name": "stdout",
     "output_type": "stream",
     "text": [
      "The best parameters are {'max_features': 4, 'n_estimators': 90} with a score of 0.93\n"
     ]
    }
   ],
   "source": [
    "print(\"The best parameters are %s with a score of %0.2f\"\n",
    "      % (grid.best_params_, grid.best_score_))"
   ]
  },
  {
   "cell_type": "markdown",
   "metadata": {},
   "source": [
    "Pass best parameters into random classifier"
   ]
  },
  {
   "cell_type": "code",
   "execution_count": 32,
   "metadata": {},
   "outputs": [
    {
     "data": {
      "text/html": [
       "<style>#sk-container-id-3 {color: black;background-color: white;}#sk-container-id-3 pre{padding: 0;}#sk-container-id-3 div.sk-toggleable {background-color: white;}#sk-container-id-3 label.sk-toggleable__label {cursor: pointer;display: block;width: 100%;margin-bottom: 0;padding: 0.3em;box-sizing: border-box;text-align: center;}#sk-container-id-3 label.sk-toggleable__label-arrow:before {content: \"▸\";float: left;margin-right: 0.25em;color: #696969;}#sk-container-id-3 label.sk-toggleable__label-arrow:hover:before {color: black;}#sk-container-id-3 div.sk-estimator:hover label.sk-toggleable__label-arrow:before {color: black;}#sk-container-id-3 div.sk-toggleable__content {max-height: 0;max-width: 0;overflow: hidden;text-align: left;background-color: #f0f8ff;}#sk-container-id-3 div.sk-toggleable__content pre {margin: 0.2em;color: black;border-radius: 0.25em;background-color: #f0f8ff;}#sk-container-id-3 input.sk-toggleable__control:checked~div.sk-toggleable__content {max-height: 200px;max-width: 100%;overflow: auto;}#sk-container-id-3 input.sk-toggleable__control:checked~label.sk-toggleable__label-arrow:before {content: \"▾\";}#sk-container-id-3 div.sk-estimator input.sk-toggleable__control:checked~label.sk-toggleable__label {background-color: #d4ebff;}#sk-container-id-3 div.sk-label input.sk-toggleable__control:checked~label.sk-toggleable__label {background-color: #d4ebff;}#sk-container-id-3 input.sk-hidden--visually {border: 0;clip: rect(1px 1px 1px 1px);clip: rect(1px, 1px, 1px, 1px);height: 1px;margin: -1px;overflow: hidden;padding: 0;position: absolute;width: 1px;}#sk-container-id-3 div.sk-estimator {font-family: monospace;background-color: #f0f8ff;border: 1px dotted black;border-radius: 0.25em;box-sizing: border-box;margin-bottom: 0.5em;}#sk-container-id-3 div.sk-estimator:hover {background-color: #d4ebff;}#sk-container-id-3 div.sk-parallel-item::after {content: \"\";width: 100%;border-bottom: 1px solid gray;flex-grow: 1;}#sk-container-id-3 div.sk-label:hover label.sk-toggleable__label {background-color: #d4ebff;}#sk-container-id-3 div.sk-serial::before {content: \"\";position: absolute;border-left: 1px solid gray;box-sizing: border-box;top: 0;bottom: 0;left: 50%;z-index: 0;}#sk-container-id-3 div.sk-serial {display: flex;flex-direction: column;align-items: center;background-color: white;padding-right: 0.2em;padding-left: 0.2em;position: relative;}#sk-container-id-3 div.sk-item {position: relative;z-index: 1;}#sk-container-id-3 div.sk-parallel {display: flex;align-items: stretch;justify-content: center;background-color: white;position: relative;}#sk-container-id-3 div.sk-item::before, #sk-container-id-3 div.sk-parallel-item::before {content: \"\";position: absolute;border-left: 1px solid gray;box-sizing: border-box;top: 0;bottom: 0;left: 50%;z-index: -1;}#sk-container-id-3 div.sk-parallel-item {display: flex;flex-direction: column;z-index: 1;position: relative;background-color: white;}#sk-container-id-3 div.sk-parallel-item:first-child::after {align-self: flex-end;width: 50%;}#sk-container-id-3 div.sk-parallel-item:last-child::after {align-self: flex-start;width: 50%;}#sk-container-id-3 div.sk-parallel-item:only-child::after {width: 0;}#sk-container-id-3 div.sk-dashed-wrapped {border: 1px dashed gray;margin: 0 0.4em 0.5em 0.4em;box-sizing: border-box;padding-bottom: 0.4em;background-color: white;}#sk-container-id-3 div.sk-label label {font-family: monospace;font-weight: bold;display: inline-block;line-height: 1.2em;}#sk-container-id-3 div.sk-label-container {text-align: center;}#sk-container-id-3 div.sk-container {/* jupyter's `normalize.less` sets `[hidden] { display: none; }` but bootstrap.min.css set `[hidden] { display: none !important; }` so we also need the `!important` here to be able to override the default hidden behavior on the sphinx rendered scikit-learn.org. See: https://github.com/scikit-learn/scikit-learn/issues/21755 */display: inline-block !important;position: relative;}#sk-container-id-3 div.sk-text-repr-fallback {display: none;}</style><div id=\"sk-container-id-3\" class=\"sk-top-container\"><div class=\"sk-text-repr-fallback\"><pre>RandomForestClassifier(max_features=2, n_estimators=70)</pre><b>In a Jupyter environment, please rerun this cell to show the HTML representation or trust the notebook. <br />On GitHub, the HTML representation is unable to render, please try loading this page with nbviewer.org.</b></div><div class=\"sk-container\" hidden><div class=\"sk-item\"><div class=\"sk-estimator sk-toggleable\"><input class=\"sk-toggleable__control sk-hidden--visually\" id=\"sk-estimator-id-5\" type=\"checkbox\" checked><label for=\"sk-estimator-id-5\" class=\"sk-toggleable__label sk-toggleable__label-arrow\">RandomForestClassifier</label><div class=\"sk-toggleable__content\"><pre>RandomForestClassifier(max_features=2, n_estimators=70)</pre></div></div></div></div></div>"
      ],
      "text/plain": [
       "RandomForestClassifier(max_features=2, n_estimators=70)"
      ]
     },
     "execution_count": 32,
     "metadata": {},
     "output_type": "execute_result"
    }
   ],
   "source": [
    "rf_new = RandomForestClassifier(max_features=2, n_estimators=70)\n",
    "rf_new.fit(X_train_sm, y_train_sm)"
   ]
  },
  {
   "cell_type": "code",
   "execution_count": 33,
   "metadata": {},
   "outputs": [],
   "source": [
    "y_pred_rf_new = rf_new.predict(x_test)\n",
    "\n",
    "pred_proba_rf_new = rf_new.predict_proba(x_test)"
   ]
  },
  {
   "cell_type": "code",
   "execution_count": 34,
   "metadata": {},
   "outputs": [
    {
     "name": "stdout",
     "output_type": "stream",
     "text": [
      "The training Accuracy is:  0.9764254385964912\n",
      "The test Accuracy is:  0.877431906614786\n",
      "              precision    recall  f1-score   support\n",
      "\n",
      "           0       0.95      0.92      0.93      4349\n",
      "           1       0.15      0.23      0.18       277\n",
      "\n",
      "    accuracy                           0.88      4626\n",
      "   macro avg       0.55      0.57      0.56      4626\n",
      "weighted avg       0.90      0.88      0.89      4626\n",
      "\n",
      "AUCROC: 0.762936913170628\n"
     ]
    }
   ],
   "source": [
    "#evaluate model\n",
    "#on training set\n",
    "print(\"The training Accuracy is: \", rf_new.score(X_train_sm, y_train_sm))\n",
    "\n",
    "#test the model on unseen data - higher accuracy than training data?\n",
    "print(\"The test Accuracy is: \", rf_new.score(x_test, y_test))\n",
    "\n",
    "#classification report\n",
    "print(classification_report(y_test, y_pred_rf_new))\n",
    "\n",
    "#roc_auc\n",
    "print(\"AUCROC:\",roc_auc_score(y_test, pred_proba_rf_new[:,1]))"
   ]
  },
  {
   "cell_type": "markdown",
   "metadata": {},
   "source": [
    "## Random Forest with SMOTE"
   ]
  },
  {
   "cell_type": "code",
   "execution_count": 35,
   "metadata": {},
   "outputs": [
    {
     "name": "stdout",
     "output_type": "stream",
     "text": [
      "(15420, 15)\n",
      "(15420,)\n"
     ]
    }
   ],
   "source": [
    "print(x.shape)\n",
    "print(y.shape)"
   ]
  },
  {
   "cell_type": "code",
   "execution_count": 36,
   "metadata": {},
   "outputs": [
    {
     "name": "stdout",
     "output_type": "stream",
     "text": [
      "Mean f1: 0.932\n",
      "Mean recall: 0.954\n",
      "Mean precision: 0.910\n"
     ]
    }
   ],
   "source": [
    "from sklearn.model_selection import cross_validate\n",
    "from sklearn.model_selection import RepeatedStratifiedKFold\n",
    "from statistics import mean\n",
    "\n",
    "#Use SMOTE to oversample the minority class\n",
    "oversample = SMOTE()\n",
    "over_X, over_y = oversample.fit_resample(x, y)\n",
    "over_X_train, over_X_test, over_y_train, over_y_test = train_test_split(over_X, over_y, test_size=0.2, stratify=over_y)\n",
    "\n",
    "#Build SMOTE SRF model\n",
    "SMOTE_SRF = RandomForestClassifier(n_estimators=150, random_state=0)\n",
    "#Create Stratified K-fold cross validation\n",
    "cv = RepeatedStratifiedKFold(n_splits=10, n_repeats=3, random_state=1)\n",
    "scoring = ('f1', 'recall', 'precision')\n",
    "\n",
    "#Evaluate SMOTE SRF model\n",
    "scores = cross_validate(SMOTE_SRF, over_X, over_y, scoring=scoring, cv=cv)\n",
    "#Get average evaluation metrics\n",
    "print('Mean f1: %.3f' % mean(scores['test_f1']))\n",
    "print('Mean recall: %.3f' % mean(scores['test_recall']))\n",
    "print('Mean precision: %.3f' % mean(scores['test_precision']))"
   ]
  },
  {
   "cell_type": "code",
   "execution_count": 37,
   "metadata": {},
   "outputs": [],
   "source": [
    "#Randomly spilt dataset to test and train set\n",
    "X_train, X_test, y_train, Y_test = train_test_split(x, y, test_size=0.1, stratify=y)\n",
    "#Train SMOTE SRF\n",
    "SMOTE_SRF.fit(over_X_train, over_y_train)\n",
    "#SMOTE SRF prediction result\n",
    "y_pred_srf = SMOTE_SRF.predict(X_test)\n",
    "\n",
    "#probabilities\n",
    "pred_proba_srf = SMOTE_SRF.predict_proba(X_test)"
   ]
  },
  {
   "cell_type": "code",
   "execution_count": 38,
   "metadata": {},
   "outputs": [
    {
     "name": "stdout",
     "output_type": "stream",
     "text": [
      "The training Accuracy is:  0.9718042681612417\n",
      "The test Accuracy is:  0.9468223086900129\n",
      "              precision    recall  f1-score   support\n",
      "\n",
      "           0       0.99      0.95      0.97      1450\n",
      "           1       0.53      0.84      0.65        92\n",
      "\n",
      "    accuracy                           0.95      1542\n",
      "   macro avg       0.76      0.90      0.81      1542\n",
      "weighted avg       0.96      0.95      0.95      1542\n",
      "\n",
      "AUCROC: 0.9732796101949026\n"
     ]
    }
   ],
   "source": [
    "#evaluate model\n",
    "#on training set\n",
    "print(\"The training Accuracy is: \", SMOTE_SRF.score(over_X_train, over_y_train))\n",
    "\n",
    "#test the model on unseen data - higher accuracy than training data?\n",
    "print(\"The test Accuracy is: \", SMOTE_SRF.score(X_test, Y_test))\n",
    "\n",
    "#classification report\n",
    "print(classification_report(Y_test, y_pred_srf))\n",
    "\n",
    "#roc_auc\n",
    "print(\"AUCROC:\",roc_auc_score(Y_test, pred_proba_srf[:,1]))"
   ]
  },
  {
   "cell_type": "code",
   "execution_count": 39,
   "metadata": {},
   "outputs": [
    {
     "data": {
      "image/png": "[encoded data removed]",
      "text/plain": [
       "<Figure size 432x288 with 2 Axes>"
      ]
     },
     "metadata": {
      "needs_background": "light"
     },
     "output_type": "display_data"
    }
   ],
   "source": [
    "cm = confusion_matrix(Y_test, y_pred_srf)\n",
    "cm_norm = cm / cm.sum(axis=1).reshape(-1,1)\n",
    "\n",
    "plot_confusion_matrix(cm_norm,classes=SMOTE_SRF.classes_, title='Confusion Matrix')\n",
    "plt.show()"
   ]
  },
  {
   "cell_type": "markdown",
   "metadata": {},
   "source": [
    "Significantly increased the performance of the test accuracy - 87% - 93%"
   ]
  },
  {
   "cell_type": "markdown",
   "metadata": {},
   "source": [
    "## XGBoost"
   ]
  },
  {
   "cell_type": "markdown",
   "metadata": {},
   "source": [
    "Uses randomised CV search to find the best parameters from the start - this is because it would require to build multiple models"
   ]
  },
  {
   "cell_type": "code",
   "execution_count": 40,
   "metadata": {},
   "outputs": [
    {
     "name": "stderr",
     "output_type": "stream",
     "text": [
      "/opt/anaconda3/lib/python3.8/site-packages/xgboost/sklearn.py:888: UserWarning: The use of label encoder in XGBClassifier is deprecated and will be removed in a future release. To remove this warning, do the following: 1) Pass option use_label_encoder=False when constructing XGBClassifier object; and 2) Encode your labels (y) as integers starting with 0, i.e. 0, 1, 2, ..., [num_class - 1].\n",
      "  warnings.warn(label_encoder_deprecation_msg, UserWarning)\n"
     ]
    },
    {
     "name": "stdout",
     "output_type": "stream",
     "text": [
      "[14:53:28] WARNING: /Users/travis/build/dmlc/xgboost/src/learner.cc:1061: Starting in XGBoost 1.3.0, the default evaluation metric used with the objective 'binary:logistic' was changed from 'error' to 'logloss'. Explicitly set eval_metric if you'd like to restore the old behavior.\n"
     ]
    }
   ],
   "source": [
    "import xgboost\n",
    "\n",
    "xgb=xgboost.XGBClassifier()\n",
    "\n",
    "xgb.fit(X_train_sm, y_train_sm)\n",
    "\n",
    "y_pred_xgb = xgb.predict(x_test)\n",
    "\n",
    "#probabilities\n",
    "pred_proba_xgb = xgb.predict_proba(x_test)\n"
   ]
  },
  {
   "cell_type": "code",
   "execution_count": 41,
   "metadata": {},
   "outputs": [
    {
     "name": "stdout",
     "output_type": "stream",
     "text": [
      "The training Accuracy is:  0.9357456140350877\n",
      "The test Accuracy is:  0.8566796368352788\n",
      "              precision    recall  f1-score   support\n",
      "\n",
      "           0       0.96      0.88      0.92      4349\n",
      "           1       0.19      0.43      0.26       277\n",
      "\n",
      "    accuracy                           0.86      4626\n",
      "   macro avg       0.58      0.66      0.59      4626\n",
      "weighted avg       0.91      0.86      0.88      4626\n",
      "\n",
      "AUCROC: 0.8028485738453506\n"
     ]
    }
   ],
   "source": [
    "#evaluate model\n",
    "#on training set\n",
    "print(\"The training Accuracy is: \", xgb.score(X_train_sm, y_train_sm))\n",
    "\n",
    "#test the model on unseen data - higher accuracy than training data?\n",
    "print(\"The test Accuracy is: \", xgb.score(x_test, y_test))\n",
    "\n",
    "#classification report\n",
    "print(classification_report(y_test, y_pred_xgb))\n",
    "\n",
    "#roc_auc\n",
    "print(\"AUCROC:\",roc_auc_score(y_test, pred_proba_xgb[:,1]))"
   ]
  },
  {
   "cell_type": "code",
   "execution_count": 42,
   "metadata": {},
   "outputs": [
    {
     "data": {
      "image/png": "[encoded data removed]",
      "text/plain": [
       "<Figure size 432x288 with 2 Axes>"
      ]
     },
     "metadata": {
      "needs_background": "light"
     },
     "output_type": "display_data"
    }
   ],
   "source": [
    "cm = confusion_matrix(y_test, y_pred_xgb)\n",
    "cm_norm = cm / cm.sum(axis=1).reshape(-1,1)\n",
    "\n",
    "plot_confusion_matrix(cm_norm,classes=xgb.classes_, title='Confusion Matrix')"
   ]
  },
  {
   "cell_type": "markdown",
   "metadata": {},
   "source": [
    "Tune Model"
   ]
  },
  {
   "cell_type": "code",
   "execution_count": 43,
   "metadata": {},
   "outputs": [
    {
     "name": "stdout",
     "output_type": "stream",
     "text": [
      "Fitting 5 folds for each of 5 candidates, totalling 25 fits\n",
      "[14:53:29] WARNING: /Users/travis/build/dmlc/xgboost/src/learner.cc:1061: Starting in XGBoost 1.3.0, the default evaluation metric used with the objective 'binary:logistic' was changed from 'error' to 'logloss'. Explicitly set eval_metric if you'd like to restore the old behavior.\n"
     ]
    },
    {
     "name": "stderr",
     "output_type": "stream",
     "text": [
      "/opt/anaconda3/lib/python3.8/site-packages/xgboost/sklearn.py:888: UserWarning: The use of label encoder in XGBClassifier is deprecated and will be removed in a future release. To remove this warning, do the following: 1) Pass option use_label_encoder=False when constructing XGBClassifier object; and 2) Encode your labels (y) as integers starting with 0, i.e. 0, 1, 2, ..., [num_class - 1].\n",
      "  warnings.warn(label_encoder_deprecation_msg, UserWarning)\n"
     ]
    },
    {
     "name": "stdout",
     "output_type": "stream",
     "text": [
      "[CV 1/5] END colsample_bytree=0.5, gamma=0.4, learning_rate=0.25, max_depth=8, min_child_weight=1;, score=0.937 total time=   0.5s\n",
      "[14:53:30] WARNING: /Users/travis/build/dmlc/xgboost/src/learner.cc:1061: Starting in XGBoost 1.3.0, the default evaluation metric used with the objective 'binary:logistic' was changed from 'error' to 'logloss'. Explicitly set eval_metric if you'd like to restore the old behavior.\n"
     ]
    },
    {
     "name": "stderr",
     "output_type": "stream",
     "text": [
      "/opt/anaconda3/lib/python3.8/site-packages/xgboost/sklearn.py:888: UserWarning: The use of label encoder in XGBClassifier is deprecated and will be removed in a future release. To remove this warning, do the following: 1) Pass option use_label_encoder=False when constructing XGBClassifier object; and 2) Encode your labels (y) as integers starting with 0, i.e. 0, 1, 2, ..., [num_class - 1].\n",
      "  warnings.warn(label_encoder_deprecation_msg, UserWarning)\n"
     ]
    },
    {
     "name": "stdout",
     "output_type": "stream",
     "text": [
      "[CV 2/5] END colsample_bytree=0.5, gamma=0.4, learning_rate=0.25, max_depth=8, min_child_weight=1;, score=0.973 total time=   0.5s\n",
      "[14:53:30] WARNING: /Users/travis/build/dmlc/xgboost/src/learner.cc:1061: Starting in XGBoost 1.3.0, the default evaluation metric used with the objective 'binary:logistic' was changed from 'error' to 'logloss'. Explicitly set eval_metric if you'd like to restore the old behavior.\n"
     ]
    },
    {
     "name": "stderr",
     "output_type": "stream",
     "text": [
      "/opt/anaconda3/lib/python3.8/site-packages/xgboost/sklearn.py:888: UserWarning: The use of label encoder in XGBClassifier is deprecated and will be removed in a future release. To remove this warning, do the following: 1) Pass option use_label_encoder=False when constructing XGBClassifier object; and 2) Encode your labels (y) as integers starting with 0, i.e. 0, 1, 2, ..., [num_class - 1].\n",
      "  warnings.warn(label_encoder_deprecation_msg, UserWarning)\n"
     ]
    },
    {
     "name": "stdout",
     "output_type": "stream",
     "text": [
      "[CV 3/5] END colsample_bytree=0.5, gamma=0.4, learning_rate=0.25, max_depth=8, min_child_weight=1;, score=0.973 total time=   0.5s\n",
      "[14:53:31] WARNING: /Users/travis/build/dmlc/xgboost/src/learner.cc:1061: Starting in XGBoost 1.3.0, the default evaluation metric used with the objective 'binary:logistic' was changed from 'error' to 'logloss'. Explicitly set eval_metric if you'd like to restore the old behavior.\n"
     ]
    },
    {
     "name": "stderr",
     "output_type": "stream",
     "text": [
      "/opt/anaconda3/lib/python3.8/site-packages/xgboost/sklearn.py:888: UserWarning: The use of label encoder in XGBClassifier is deprecated and will be removed in a future release. To remove this warning, do the following: 1) Pass option use_label_encoder=False when constructing XGBClassifier object; and 2) Encode your labels (y) as integers starting with 0, i.e. 0, 1, 2, ..., [num_class - 1].\n",
      "  warnings.warn(label_encoder_deprecation_msg, UserWarning)\n"
     ]
    },
    {
     "name": "stdout",
     "output_type": "stream",
     "text": [
      "[CV 4/5] END colsample_bytree=0.5, gamma=0.4, learning_rate=0.25, max_depth=8, min_child_weight=1;, score=0.969 total time=   0.5s\n",
      "[14:53:31] WARNING: /Users/travis/build/dmlc/xgboost/src/learner.cc:1061: Starting in XGBoost 1.3.0, the default evaluation metric used with the objective 'binary:logistic' was changed from 'error' to 'logloss'. Explicitly set eval_metric if you'd like to restore the old behavior.\n"
     ]
    },
    {
     "name": "stderr",
     "output_type": "stream",
     "text": [
      "/opt/anaconda3/lib/python3.8/site-packages/xgboost/sklearn.py:888: UserWarning: The use of label encoder in XGBClassifier is deprecated and will be removed in a future release. To remove this warning, do the following: 1) Pass option use_label_encoder=False when constructing XGBClassifier object; and 2) Encode your labels (y) as integers starting with 0, i.e. 0, 1, 2, ..., [num_class - 1].\n",
      "  warnings.warn(label_encoder_deprecation_msg, UserWarning)\n"
     ]
    },
    {
     "name": "stdout",
     "output_type": "stream",
     "text": [
      "[CV 5/5] END colsample_bytree=0.5, gamma=0.4, learning_rate=0.25, max_depth=8, min_child_weight=1;, score=0.973 total time=   0.5s\n",
      "[14:53:31] WARNING: /Users/travis/build/dmlc/xgboost/src/learner.cc:1061: Starting in XGBoost 1.3.0, the default evaluation metric used with the objective 'binary:logistic' was changed from 'error' to 'logloss'. Explicitly set eval_metric if you'd like to restore the old behavior.\n",
      "[CV 1/5] END colsample_bytree=0.5, gamma=0.0, learning_rate=0.15, max_depth=3, min_child_weight=1;, score=0.899 total time=   0.2s\n",
      "[14:53:32] WARNING: /Users/travis/build/dmlc/xgboost/src/learner.cc:1061: Starting in XGBoost 1.3.0, the default evaluation metric used with the objective 'binary:logistic' was changed from 'error' to 'logloss'. Explicitly set eval_metric if you'd like to restore the old behavior.\n"
     ]
    },
    {
     "name": "stderr",
     "output_type": "stream",
     "text": [
      "/opt/anaconda3/lib/python3.8/site-packages/xgboost/sklearn.py:888: UserWarning: The use of label encoder in XGBClassifier is deprecated and will be removed in a future release. To remove this warning, do the following: 1) Pass option use_label_encoder=False when constructing XGBClassifier object; and 2) Encode your labels (y) as integers starting with 0, i.e. 0, 1, 2, ..., [num_class - 1].\n",
      "  warnings.warn(label_encoder_deprecation_msg, UserWarning)\n",
      "/opt/anaconda3/lib/python3.8/site-packages/xgboost/sklearn.py:888: UserWarning: The use of label encoder in XGBClassifier is deprecated and will be removed in a future release. To remove this warning, do the following: 1) Pass option use_label_encoder=False when constructing XGBClassifier object; and 2) Encode your labels (y) as integers starting with 0, i.e. 0, 1, 2, ..., [num_class - 1].\n",
      "  warnings.warn(label_encoder_deprecation_msg, UserWarning)\n"
     ]
    },
    {
     "name": "stdout",
     "output_type": "stream",
     "text": [
      "[CV 2/5] END colsample_bytree=0.5, gamma=0.0, learning_rate=0.15, max_depth=3, min_child_weight=1;, score=0.948 total time=   0.2s\n",
      "[14:53:32] WARNING: /Users/travis/build/dmlc/xgboost/src/learner.cc:1061: Starting in XGBoost 1.3.0, the default evaluation metric used with the objective 'binary:logistic' was changed from 'error' to 'logloss'. Explicitly set eval_metric if you'd like to restore the old behavior.\n",
      "[CV 3/5] END colsample_bytree=0.5, gamma=0.0, learning_rate=0.15, max_depth=3, min_child_weight=1;, score=0.950 total time=   0.2s\n",
      "[14:53:32] WARNING: /Users/travis/build/dmlc/xgboost/src/learner.cc:1061: Starting in XGBoost 1.3.0, the default evaluation metric used with the objective 'binary:logistic' was changed from 'error' to 'logloss'. Explicitly set eval_metric if you'd like to restore the old behavior.\n"
     ]
    },
    {
     "name": "stderr",
     "output_type": "stream",
     "text": [
      "/opt/anaconda3/lib/python3.8/site-packages/xgboost/sklearn.py:888: UserWarning: The use of label encoder in XGBClassifier is deprecated and will be removed in a future release. To remove this warning, do the following: 1) Pass option use_label_encoder=False when constructing XGBClassifier object; and 2) Encode your labels (y) as integers starting with 0, i.e. 0, 1, 2, ..., [num_class - 1].\n",
      "  warnings.warn(label_encoder_deprecation_msg, UserWarning)\n",
      "/opt/anaconda3/lib/python3.8/site-packages/xgboost/sklearn.py:888: UserWarning: The use of label encoder in XGBClassifier is deprecated and will be removed in a future release. To remove this warning, do the following: 1) Pass option use_label_encoder=False when constructing XGBClassifier object; and 2) Encode your labels (y) as integers starting with 0, i.e. 0, 1, 2, ..., [num_class - 1].\n",
      "  warnings.warn(label_encoder_deprecation_msg, UserWarning)\n"
     ]
    },
    {
     "name": "stdout",
     "output_type": "stream",
     "text": [
      "[CV 4/5] END colsample_bytree=0.5, gamma=0.0, learning_rate=0.15, max_depth=3, min_child_weight=1;, score=0.944 total time=   0.2s\n",
      "[14:53:32] WARNING: /Users/travis/build/dmlc/xgboost/src/learner.cc:1061: Starting in XGBoost 1.3.0, the default evaluation metric used with the objective 'binary:logistic' was changed from 'error' to 'logloss'. Explicitly set eval_metric if you'd like to restore the old behavior.\n",
      "[CV 5/5] END colsample_bytree=0.5, gamma=0.0, learning_rate=0.15, max_depth=3, min_child_weight=1;, score=0.943 total time=   0.2s\n",
      "[14:53:32] WARNING: /Users/travis/build/dmlc/xgboost/src/learner.cc:1061: Starting in XGBoost 1.3.0, the default evaluation metric used with the objective 'binary:logistic' was changed from 'error' to 'logloss'. Explicitly set eval_metric if you'd like to restore the old behavior.\n"
     ]
    },
    {
     "name": "stderr",
     "output_type": "stream",
     "text": [
      "/opt/anaconda3/lib/python3.8/site-packages/xgboost/sklearn.py:888: UserWarning: The use of label encoder in XGBClassifier is deprecated and will be removed in a future release. To remove this warning, do the following: 1) Pass option use_label_encoder=False when constructing XGBClassifier object; and 2) Encode your labels (y) as integers starting with 0, i.e. 0, 1, 2, ..., [num_class - 1].\n",
      "  warnings.warn(label_encoder_deprecation_msg, UserWarning)\n",
      "/opt/anaconda3/lib/python3.8/site-packages/xgboost/sklearn.py:888: UserWarning: The use of label encoder in XGBClassifier is deprecated and will be removed in a future release. To remove this warning, do the following: 1) Pass option use_label_encoder=False when constructing XGBClassifier object; and 2) Encode your labels (y) as integers starting with 0, i.e. 0, 1, 2, ..., [num_class - 1].\n",
      "  warnings.warn(label_encoder_deprecation_msg, UserWarning)\n"
     ]
    },
    {
     "name": "stdout",
     "output_type": "stream",
     "text": [
      "[CV 1/5] END colsample_bytree=0.3, gamma=0.2, learning_rate=0.25, max_depth=4, min_child_weight=5;, score=0.911 total time=   0.2s\n",
      "[14:53:33] WARNING: /Users/travis/build/dmlc/xgboost/src/learner.cc:1061: Starting in XGBoost 1.3.0, the default evaluation metric used with the objective 'binary:logistic' was changed from 'error' to 'logloss'. Explicitly set eval_metric if you'd like to restore the old behavior.\n",
      "[CV 2/5] END colsample_bytree=0.3, gamma=0.2, learning_rate=0.25, max_depth=4, min_child_weight=5;, score=0.953 total time=   0.2s\n"
     ]
    },
    {
     "name": "stderr",
     "output_type": "stream",
     "text": [
      "/opt/anaconda3/lib/python3.8/site-packages/xgboost/sklearn.py:888: UserWarning: The use of label encoder in XGBClassifier is deprecated and will be removed in a future release. To remove this warning, do the following: 1) Pass option use_label_encoder=False when constructing XGBClassifier object; and 2) Encode your labels (y) as integers starting with 0, i.e. 0, 1, 2, ..., [num_class - 1].\n",
      "  warnings.warn(label_encoder_deprecation_msg, UserWarning)\n",
      "/opt/anaconda3/lib/python3.8/site-packages/xgboost/sklearn.py:888: UserWarning: The use of label encoder in XGBClassifier is deprecated and will be removed in a future release. To remove this warning, do the following: 1) Pass option use_label_encoder=False when constructing XGBClassifier object; and 2) Encode your labels (y) as integers starting with 0, i.e. 0, 1, 2, ..., [num_class - 1].\n",
      "  warnings.warn(label_encoder_deprecation_msg, UserWarning)\n"
     ]
    },
    {
     "name": "stdout",
     "output_type": "stream",
     "text": [
      "[14:53:33] WARNING: /Users/travis/build/dmlc/xgboost/src/learner.cc:1061: Starting in XGBoost 1.3.0, the default evaluation metric used with the objective 'binary:logistic' was changed from 'error' to 'logloss'. Explicitly set eval_metric if you'd like to restore the old behavior.\n",
      "[CV 3/5] END colsample_bytree=0.3, gamma=0.2, learning_rate=0.25, max_depth=4, min_child_weight=5;, score=0.955 total time=   0.2s\n"
     ]
    },
    {
     "name": "stderr",
     "output_type": "stream",
     "text": [
      "/opt/anaconda3/lib/python3.8/site-packages/xgboost/sklearn.py:888: UserWarning: The use of label encoder in XGBClassifier is deprecated and will be removed in a future release. To remove this warning, do the following: 1) Pass option use_label_encoder=False when constructing XGBClassifier object; and 2) Encode your labels (y) as integers starting with 0, i.e. 0, 1, 2, ..., [num_class - 1].\n",
      "  warnings.warn(label_encoder_deprecation_msg, UserWarning)\n"
     ]
    },
    {
     "name": "stdout",
     "output_type": "stream",
     "text": [
      "[14:53:33] WARNING: /Users/travis/build/dmlc/xgboost/src/learner.cc:1061: Starting in XGBoost 1.3.0, the default evaluation metric used with the objective 'binary:logistic' was changed from 'error' to 'logloss'. Explicitly set eval_metric if you'd like to restore the old behavior.\n",
      "[CV 4/5] END colsample_bytree=0.3, gamma=0.2, learning_rate=0.25, max_depth=4, min_child_weight=5;, score=0.950 total time=   0.2s\n",
      "[14:53:33] WARNING: /Users/travis/build/dmlc/xgboost/src/learner.cc:1061: Starting in XGBoost 1.3.0, the default evaluation metric used with the objective 'binary:logistic' was changed from 'error' to 'logloss'. Explicitly set eval_metric if you'd like to restore the old behavior.\n",
      "[CV 5/5] END colsample_bytree=0.3, gamma=0.2, learning_rate=0.25, max_depth=4, min_child_weight=5;, score=0.949 total time=   0.2s\n"
     ]
    },
    {
     "name": "stderr",
     "output_type": "stream",
     "text": [
      "/opt/anaconda3/lib/python3.8/site-packages/xgboost/sklearn.py:888: UserWarning: The use of label encoder in XGBClassifier is deprecated and will be removed in a future release. To remove this warning, do the following: 1) Pass option use_label_encoder=False when constructing XGBClassifier object; and 2) Encode your labels (y) as integers starting with 0, i.e. 0, 1, 2, ..., [num_class - 1].\n",
      "  warnings.warn(label_encoder_deprecation_msg, UserWarning)\n"
     ]
    },
    {
     "name": "stdout",
     "output_type": "stream",
     "text": [
      "[14:53:33] WARNING: /Users/travis/build/dmlc/xgboost/src/learner.cc:1061: Starting in XGBoost 1.3.0, the default evaluation metric used with the objective 'binary:logistic' was changed from 'error' to 'logloss'. Explicitly set eval_metric if you'd like to restore the old behavior.\n",
      "[CV 1/5] END colsample_bytree=0.3, gamma=0.0, learning_rate=0.1, max_depth=2, min_child_weight=7;, score=0.880 total time=   0.1s\n",
      "[14:53:34] WARNING: /Users/travis/build/dmlc/xgboost/src/learner.cc:1061: Starting in XGBoost 1.3.0, the default evaluation metric used with the objective 'binary:logistic' was changed from 'error' to 'logloss'. Explicitly set eval_metric if you'd like to restore the old behavior.\n"
     ]
    },
    {
     "name": "stderr",
     "output_type": "stream",
     "text": [
      "/opt/anaconda3/lib/python3.8/site-packages/xgboost/sklearn.py:888: UserWarning: The use of label encoder in XGBClassifier is deprecated and will be removed in a future release. To remove this warning, do the following: 1) Pass option use_label_encoder=False when constructing XGBClassifier object; and 2) Encode your labels (y) as integers starting with 0, i.e. 0, 1, 2, ..., [num_class - 1].\n",
      "  warnings.warn(label_encoder_deprecation_msg, UserWarning)\n",
      "/opt/anaconda3/lib/python3.8/site-packages/xgboost/sklearn.py:888: UserWarning: The use of label encoder in XGBClassifier is deprecated and will be removed in a future release. To remove this warning, do the following: 1) Pass option use_label_encoder=False when constructing XGBClassifier object; and 2) Encode your labels (y) as integers starting with 0, i.e. 0, 1, 2, ..., [num_class - 1].\n",
      "  warnings.warn(label_encoder_deprecation_msg, UserWarning)\n",
      "/opt/anaconda3/lib/python3.8/site-packages/xgboost/sklearn.py:888: UserWarning: The use of label encoder in XGBClassifier is deprecated and will be removed in a future release. To remove this warning, do the following: 1) Pass option use_label_encoder=False when constructing XGBClassifier object; and 2) Encode your labels (y) as integers starting with 0, i.e. 0, 1, 2, ..., [num_class - 1].\n",
      "  warnings.warn(label_encoder_deprecation_msg, UserWarning)\n"
     ]
    },
    {
     "name": "stdout",
     "output_type": "stream",
     "text": [
      "[CV 2/5] END colsample_bytree=0.3, gamma=0.0, learning_rate=0.1, max_depth=2, min_child_weight=7;, score=0.932 total time=   0.1s\n",
      "[14:53:34] WARNING: /Users/travis/build/dmlc/xgboost/src/learner.cc:1061: Starting in XGBoost 1.3.0, the default evaluation metric used with the objective 'binary:logistic' was changed from 'error' to 'logloss'. Explicitly set eval_metric if you'd like to restore the old behavior.\n",
      "[CV 3/5] END colsample_bytree=0.3, gamma=0.0, learning_rate=0.1, max_depth=2, min_child_weight=7;, score=0.933 total time=   0.1s\n",
      "[14:53:34] WARNING: /Users/travis/build/dmlc/xgboost/src/learner.cc:1061: Starting in XGBoost 1.3.0, the default evaluation metric used with the objective 'binary:logistic' was changed from 'error' to 'logloss'. Explicitly set eval_metric if you'd like to restore the old behavior.\n"
     ]
    },
    {
     "name": "stderr",
     "output_type": "stream",
     "text": [
      "/opt/anaconda3/lib/python3.8/site-packages/xgboost/sklearn.py:888: UserWarning: The use of label encoder in XGBClassifier is deprecated and will be removed in a future release. To remove this warning, do the following: 1) Pass option use_label_encoder=False when constructing XGBClassifier object; and 2) Encode your labels (y) as integers starting with 0, i.e. 0, 1, 2, ..., [num_class - 1].\n",
      "  warnings.warn(label_encoder_deprecation_msg, UserWarning)\n",
      "/opt/anaconda3/lib/python3.8/site-packages/xgboost/sklearn.py:888: UserWarning: The use of label encoder in XGBClassifier is deprecated and will be removed in a future release. To remove this warning, do the following: 1) Pass option use_label_encoder=False when constructing XGBClassifier object; and 2) Encode your labels (y) as integers starting with 0, i.e. 0, 1, 2, ..., [num_class - 1].\n",
      "  warnings.warn(label_encoder_deprecation_msg, UserWarning)\n"
     ]
    },
    {
     "name": "stdout",
     "output_type": "stream",
     "text": [
      "[CV 4/5] END colsample_bytree=0.3, gamma=0.0, learning_rate=0.1, max_depth=2, min_child_weight=7;, score=0.925 total time=   0.1s\n",
      "[14:53:34] WARNING: /Users/travis/build/dmlc/xgboost/src/learner.cc:1061: Starting in XGBoost 1.3.0, the default evaluation metric used with the objective 'binary:logistic' was changed from 'error' to 'logloss'. Explicitly set eval_metric if you'd like to restore the old behavior.\n",
      "[CV 5/5] END colsample_bytree=0.3, gamma=0.0, learning_rate=0.1, max_depth=2, min_child_weight=7;, score=0.922 total time=   0.1s\n",
      "[14:53:34] WARNING: /Users/travis/build/dmlc/xgboost/src/learner.cc:1061: Starting in XGBoost 1.3.0, the default evaluation metric used with the objective 'binary:logistic' was changed from 'error' to 'logloss'. Explicitly set eval_metric if you'd like to restore the old behavior.\n"
     ]
    },
    {
     "name": "stderr",
     "output_type": "stream",
     "text": [
      "/opt/anaconda3/lib/python3.8/site-packages/xgboost/sklearn.py:888: UserWarning: The use of label encoder in XGBClassifier is deprecated and will be removed in a future release. To remove this warning, do the following: 1) Pass option use_label_encoder=False when constructing XGBClassifier object; and 2) Encode your labels (y) as integers starting with 0, i.e. 0, 1, 2, ..., [num_class - 1].\n",
      "  warnings.warn(label_encoder_deprecation_msg, UserWarning)\n"
     ]
    },
    {
     "name": "stdout",
     "output_type": "stream",
     "text": [
      "[CV 1/5] END colsample_bytree=0.7, gamma=0.0, learning_rate=0.2, max_depth=5, min_child_weight=1;, score=0.920 total time=   0.3s\n",
      "[14:53:34] WARNING: /Users/travis/build/dmlc/xgboost/src/learner.cc:1061: Starting in XGBoost 1.3.0, the default evaluation metric used with the objective 'binary:logistic' was changed from 'error' to 'logloss'. Explicitly set eval_metric if you'd like to restore the old behavior.\n"
     ]
    },
    {
     "name": "stderr",
     "output_type": "stream",
     "text": [
      "/opt/anaconda3/lib/python3.8/site-packages/xgboost/sklearn.py:888: UserWarning: The use of label encoder in XGBClassifier is deprecated and will be removed in a future release. To remove this warning, do the following: 1) Pass option use_label_encoder=False when constructing XGBClassifier object; and 2) Encode your labels (y) as integers starting with 0, i.e. 0, 1, 2, ..., [num_class - 1].\n",
      "  warnings.warn(label_encoder_deprecation_msg, UserWarning)\n"
     ]
    },
    {
     "name": "stdout",
     "output_type": "stream",
     "text": [
      "[CV 2/5] END colsample_bytree=0.7, gamma=0.0, learning_rate=0.2, max_depth=5, min_child_weight=1;, score=0.964 total time=   0.3s\n",
      "[14:53:35] WARNING: /Users/travis/build/dmlc/xgboost/src/learner.cc:1061: Starting in XGBoost 1.3.0, the default evaluation metric used with the objective 'binary:logistic' was changed from 'error' to 'logloss'. Explicitly set eval_metric if you'd like to restore the old behavior.\n"
     ]
    },
    {
     "name": "stderr",
     "output_type": "stream",
     "text": [
      "/opt/anaconda3/lib/python3.8/site-packages/xgboost/sklearn.py:888: UserWarning: The use of label encoder in XGBClassifier is deprecated and will be removed in a future release. To remove this warning, do the following: 1) Pass option use_label_encoder=False when constructing XGBClassifier object; and 2) Encode your labels (y) as integers starting with 0, i.e. 0, 1, 2, ..., [num_class - 1].\n",
      "  warnings.warn(label_encoder_deprecation_msg, UserWarning)\n"
     ]
    },
    {
     "name": "stdout",
     "output_type": "stream",
     "text": [
      "[CV 3/5] END colsample_bytree=0.7, gamma=0.0, learning_rate=0.2, max_depth=5, min_child_weight=1;, score=0.966 total time=   0.3s\n",
      "[14:53:35] WARNING: /Users/travis/build/dmlc/xgboost/src/learner.cc:1061: Starting in XGBoost 1.3.0, the default evaluation metric used with the objective 'binary:logistic' was changed from 'error' to 'logloss'. Explicitly set eval_metric if you'd like to restore the old behavior.\n"
     ]
    },
    {
     "name": "stderr",
     "output_type": "stream",
     "text": [
      "/opt/anaconda3/lib/python3.8/site-packages/xgboost/sklearn.py:888: UserWarning: The use of label encoder in XGBClassifier is deprecated and will be removed in a future release. To remove this warning, do the following: 1) Pass option use_label_encoder=False when constructing XGBClassifier object; and 2) Encode your labels (y) as integers starting with 0, i.e. 0, 1, 2, ..., [num_class - 1].\n",
      "  warnings.warn(label_encoder_deprecation_msg, UserWarning)\n"
     ]
    },
    {
     "name": "stdout",
     "output_type": "stream",
     "text": [
      "[CV 4/5] END colsample_bytree=0.7, gamma=0.0, learning_rate=0.2, max_depth=5, min_child_weight=1;, score=0.962 total time=   0.3s\n",
      "[14:53:35] WARNING: /Users/travis/build/dmlc/xgboost/src/learner.cc:1061: Starting in XGBoost 1.3.0, the default evaluation metric used with the objective 'binary:logistic' was changed from 'error' to 'logloss'. Explicitly set eval_metric if you'd like to restore the old behavior.\n"
     ]
    },
    {
     "name": "stderr",
     "output_type": "stream",
     "text": [
      "/opt/anaconda3/lib/python3.8/site-packages/xgboost/sklearn.py:888: UserWarning: The use of label encoder in XGBClassifier is deprecated and will be removed in a future release. To remove this warning, do the following: 1) Pass option use_label_encoder=False when constructing XGBClassifier object; and 2) Encode your labels (y) as integers starting with 0, i.e. 0, 1, 2, ..., [num_class - 1].\n",
      "  warnings.warn(label_encoder_deprecation_msg, UserWarning)\n"
     ]
    },
    {
     "name": "stdout",
     "output_type": "stream",
     "text": [
      "[CV 5/5] END colsample_bytree=0.7, gamma=0.0, learning_rate=0.2, max_depth=5, min_child_weight=1;, score=0.962 total time=   0.3s\n",
      "[14:53:36] WARNING: /Users/travis/build/dmlc/xgboost/src/learner.cc:1061: Starting in XGBoost 1.3.0, the default evaluation metric used with the objective 'binary:logistic' was changed from 'error' to 'logloss'. Explicitly set eval_metric if you'd like to restore the old behavior.\n"
     ]
    },
    {
     "name": "stderr",
     "output_type": "stream",
     "text": [
      "/opt/anaconda3/lib/python3.8/site-packages/xgboost/sklearn.py:888: UserWarning: The use of label encoder in XGBClassifier is deprecated and will be removed in a future release. To remove this warning, do the following: 1) Pass option use_label_encoder=False when constructing XGBClassifier object; and 2) Encode your labels (y) as integers starting with 0, i.e. 0, 1, 2, ..., [num_class - 1].\n",
      "  warnings.warn(label_encoder_deprecation_msg, UserWarning)\n"
     ]
    },
    {
     "data": {
      "text/html": [
       "<style>#sk-container-id-4 {color: black;background-color: white;}#sk-container-id-4 pre{padding: 0;}#sk-container-id-4 div.sk-toggleable {background-color: white;}#sk-container-id-4 label.sk-toggleable__label {cursor: pointer;display: block;width: 100%;margin-bottom: 0;padding: 0.3em;box-sizing: border-box;text-align: center;}#sk-container-id-4 label.sk-toggleable__label-arrow:before {content: \"▸\";float: left;margin-right: 0.25em;color: #696969;}#sk-container-id-4 label.sk-toggleable__label-arrow:hover:before {color: black;}#sk-container-id-4 div.sk-estimator:hover label.sk-toggleable__label-arrow:before {color: black;}#sk-container-id-4 div.sk-toggleable__content {max-height: 0;max-width: 0;overflow: hidden;text-align: left;background-color: #f0f8ff;}#sk-container-id-4 div.sk-toggleable__content pre {margin: 0.2em;color: black;border-radius: 0.25em;background-color: #f0f8ff;}#sk-container-id-4 input.sk-toggleable__control:checked~div.sk-toggleable__content {max-height: 200px;max-width: 100%;overflow: auto;}#sk-container-id-4 input.sk-toggleable__control:checked~label.sk-toggleable__label-arrow:before {content: \"▾\";}#sk-container-id-4 div.sk-estimator input.sk-toggleable__control:checked~label.sk-toggleable__label {background-color: #d4ebff;}#sk-container-id-4 div.sk-label input.sk-toggleable__control:checked~label.sk-toggleable__label {background-color: #d4ebff;}#sk-container-id-4 input.sk-hidden--visually {border: 0;clip: rect(1px 1px 1px 1px);clip: rect(1px, 1px, 1px, 1px);height: 1px;margin: -1px;overflow: hidden;padding: 0;position: absolute;width: 1px;}#sk-container-id-4 div.sk-estimator {font-family: monospace;background-color: #f0f8ff;border: 1px dotted black;border-radius: 0.25em;box-sizing: border-box;margin-bottom: 0.5em;}#sk-container-id-4 div.sk-estimator:hover {background-color: #d4ebff;}#sk-container-id-4 div.sk-parallel-item::after {content: \"\";width: 100%;border-bottom: 1px solid gray;flex-grow: 1;}#sk-container-id-4 div.sk-label:hover label.sk-toggleable__label {background-color: #d4ebff;}#sk-container-id-4 div.sk-serial::before {content: \"\";position: absolute;border-left: 1px solid gray;box-sizing: border-box;top: 0;bottom: 0;left: 50%;z-index: 0;}#sk-container-id-4 div.sk-serial {display: flex;flex-direction: column;align-items: center;background-color: white;padding-right: 0.2em;padding-left: 0.2em;position: relative;}#sk-container-id-4 div.sk-item {position: relative;z-index: 1;}#sk-container-id-4 div.sk-parallel {display: flex;align-items: stretch;justify-content: center;background-color: white;position: relative;}#sk-container-id-4 div.sk-item::before, #sk-container-id-4 div.sk-parallel-item::before {content: \"\";position: absolute;border-left: 1px solid gray;box-sizing: border-box;top: 0;bottom: 0;left: 50%;z-index: -1;}#sk-container-id-4 div.sk-parallel-item {display: flex;flex-direction: column;z-index: 1;position: relative;background-color: white;}#sk-container-id-4 div.sk-parallel-item:first-child::after {align-self: flex-end;width: 50%;}#sk-container-id-4 div.sk-parallel-item:last-child::after {align-self: flex-start;width: 50%;}#sk-container-id-4 div.sk-parallel-item:only-child::after {width: 0;}#sk-container-id-4 div.sk-dashed-wrapped {border: 1px dashed gray;margin: 0 0.4em 0.5em 0.4em;box-sizing: border-box;padding-bottom: 0.4em;background-color: white;}#sk-container-id-4 div.sk-label label {font-family: monospace;font-weight: bold;display: inline-block;line-height: 1.2em;}#sk-container-id-4 div.sk-label-container {text-align: center;}#sk-container-id-4 div.sk-container {/* jupyter's `normalize.less` sets `[hidden] { display: none; }` but bootstrap.min.css set `[hidden] { display: none !important; }` so we also need the `!important` here to be able to override the default hidden behavior on the sphinx rendered scikit-learn.org. See: https://github.com/scikit-learn/scikit-learn/issues/21755 */display: inline-block !important;position: relative;}#sk-container-id-4 div.sk-text-repr-fallback {display: none;}</style><div id=\"sk-container-id-4\" class=\"sk-top-container\"><div class=\"sk-text-repr-fallback\"><pre>RandomizedSearchCV(cv=5,\n",
       "                   estimator=XGBClassifier(base_score=None, booster=None,\n",
       "                                           colsample_bylevel=None,\n",
       "                                           colsample_bynode=None,\n",
       "                                           colsample_bytree=None, gamma=None,\n",
       "                                           gpu_id=None, importance_type=&#x27;gain&#x27;,\n",
       "                                           interaction_constraints=None,\n",
       "                                           learning_rate=None,\n",
       "                                           max_delta_step=None, max_depth=None,\n",
       "                                           min_child_weight=None, missing=nan,\n",
       "                                           monotone_constraints=None,\n",
       "                                           n_estimators=100,...\n",
       "                                           random_state=None, reg_alpha=None,\n",
       "                                           reg_lambda=None,\n",
       "                                           scale_pos_weight=None,\n",
       "                                           subsample=None, tree_method=None,\n",
       "                                           validate_parameters=None,\n",
       "                                           verbosity=None),\n",
       "                   n_iter=5,\n",
       "                   param_distributions={&#x27;colsample_bytree&#x27;: [0.3, 0.4, 0.5,\n",
       "                                                             0.7],\n",
       "                                        &#x27;gamma&#x27;: [0.0, 0.1, 0.2, 0.3, 0.4],\n",
       "                                        &#x27;learning_rate&#x27;: [0.05, 0.1, 0.15, 0.2,\n",
       "                                                          0.25, 0.3],\n",
       "                                        &#x27;max_depth&#x27;: [2, 3, 4, 5, 6, 8, 10, 12,\n",
       "                                                      15],\n",
       "                                        &#x27;min_child_weight&#x27;: [1, 3, 5, 7]},\n",
       "                   scoring=&#x27;roc_auc&#x27;, verbose=3)</pre><b>In a Jupyter environment, please rerun this cell to show the HTML representation or trust the notebook. <br />On GitHub, the HTML representation is unable to render, please try loading this page with nbviewer.org.</b></div><div class=\"sk-container\" hidden><div class=\"sk-item sk-dashed-wrapped\"><div class=\"sk-label-container\"><div class=\"sk-label sk-toggleable\"><input class=\"sk-toggleable__control sk-hidden--visually\" id=\"sk-estimator-id-6\" type=\"checkbox\" ><label for=\"sk-estimator-id-6\" class=\"sk-toggleable__label sk-toggleable__label-arrow\">RandomizedSearchCV</label><div class=\"sk-toggleable__content\"><pre>RandomizedSearchCV(cv=5,\n",
       "                   estimator=XGBClassifier(base_score=None, booster=None,\n",
       "                                           colsample_bylevel=None,\n",
       "                                           colsample_bynode=None,\n",
       "                                           colsample_bytree=None, gamma=None,\n",
       "                                           gpu_id=None, importance_type=&#x27;gain&#x27;,\n",
       "                                           interaction_constraints=None,\n",
       "                                           learning_rate=None,\n",
       "                                           max_delta_step=None, max_depth=None,\n",
       "                                           min_child_weight=None, missing=nan,\n",
       "                                           monotone_constraints=None,\n",
       "                                           n_estimators=100,...\n",
       "                                           random_state=None, reg_alpha=None,\n",
       "                                           reg_lambda=None,\n",
       "                                           scale_pos_weight=None,\n",
       "                                           subsample=None, tree_method=None,\n",
       "                                           validate_parameters=None,\n",
       "                                           verbosity=None),\n",
       "                   n_iter=5,\n",
       "                   param_distributions={&#x27;colsample_bytree&#x27;: [0.3, 0.4, 0.5,\n",
       "                                                             0.7],\n",
       "                                        &#x27;gamma&#x27;: [0.0, 0.1, 0.2, 0.3, 0.4],\n",
       "                                        &#x27;learning_rate&#x27;: [0.05, 0.1, 0.15, 0.2,\n",
       "                                                          0.25, 0.3],\n",
       "                                        &#x27;max_depth&#x27;: [2, 3, 4, 5, 6, 8, 10, 12,\n",
       "                                                      15],\n",
       "                                        &#x27;min_child_weight&#x27;: [1, 3, 5, 7]},\n",
       "                   scoring=&#x27;roc_auc&#x27;, verbose=3)</pre></div></div></div><div class=\"sk-parallel\"><div class=\"sk-parallel-item\"><div class=\"sk-item\"><div class=\"sk-label-container\"><div class=\"sk-label sk-toggleable\"><input class=\"sk-toggleable__control sk-hidden--visually\" id=\"sk-estimator-id-7\" type=\"checkbox\" ><label for=\"sk-estimator-id-7\" class=\"sk-toggleable__label sk-toggleable__label-arrow\">estimator: XGBClassifier</label><div class=\"sk-toggleable__content\"><pre>XGBClassifier(base_score=None, booster=None, colsample_bylevel=None,\n",
       "              colsample_bynode=None, colsample_bytree=None, gamma=None,\n",
       "              gpu_id=None, importance_type=&#x27;gain&#x27;, interaction_constraints=None,\n",
       "              learning_rate=None, max_delta_step=None, max_depth=None,\n",
       "              min_child_weight=None, missing=nan, monotone_constraints=None,\n",
       "              n_estimators=100, n_jobs=None, num_parallel_tree=None,\n",
       "              random_state=None, reg_alpha=None, reg_lambda=None,\n",
       "              scale_pos_weight=None, subsample=None, tree_method=None,\n",
       "              validate_parameters=None, verbosity=None)</pre></div></div></div><div class=\"sk-serial\"><div class=\"sk-item\"><div class=\"sk-estimator sk-toggleable\"><input class=\"sk-toggleable__control sk-hidden--visually\" id=\"sk-estimator-id-8\" type=\"checkbox\" ><label for=\"sk-estimator-id-8\" class=\"sk-toggleable__label sk-toggleable__label-arrow\">XGBClassifier</label><div class=\"sk-toggleable__content\"><pre>XGBClassifier(base_score=None, booster=None, colsample_bylevel=None,\n",
       "              colsample_bynode=None, colsample_bytree=None, gamma=None,\n",
       "              gpu_id=None, importance_type=&#x27;gain&#x27;, interaction_constraints=None,\n",
       "              learning_rate=None, max_delta_step=None, max_depth=None,\n",
       "              min_child_weight=None, missing=nan, monotone_constraints=None,\n",
       "              n_estimators=100, n_jobs=None, num_parallel_tree=None,\n",
       "              random_state=None, reg_alpha=None, reg_lambda=None,\n",
       "              scale_pos_weight=None, subsample=None, tree_method=None,\n",
       "              validate_parameters=None, verbosity=None)</pre></div></div></div></div></div></div></div></div></div></div>"
      ],
      "text/plain": [
       "RandomizedSearchCV(cv=5,\n",
       "                   estimator=XGBClassifier(base_score=None, booster=None,\n",
       "                                           colsample_bylevel=None,\n",
       "                                           colsample_bynode=None,\n",
       "                                           colsample_bytree=None, gamma=None,\n",
       "                                           gpu_id=None, importance_type='gain',\n",
       "                                           interaction_constraints=None,\n",
       "                                           learning_rate=None,\n",
       "                                           max_delta_step=None, max_depth=None,\n",
       "                                           min_child_weight=None, missing=nan,\n",
       "                                           monotone_constraints=None,\n",
       "                                           n_estimators=100,...\n",
       "                                           random_state=None, reg_alpha=None,\n",
       "                                           reg_lambda=None,\n",
       "                                           scale_pos_weight=None,\n",
       "                                           subsample=None, tree_method=None,\n",
       "                                           validate_parameters=None,\n",
       "                                           verbosity=None),\n",
       "                   n_iter=5,\n",
       "                   param_distributions={'colsample_bytree': [0.3, 0.4, 0.5,\n",
       "                                                             0.7],\n",
       "                                        'gamma': [0.0, 0.1, 0.2, 0.3, 0.4],\n",
       "                                        'learning_rate': [0.05, 0.1, 0.15, 0.2,\n",
       "                                                          0.25, 0.3],\n",
       "                                        'max_depth': [2, 3, 4, 5, 6, 8, 10, 12,\n",
       "                                                      15],\n",
       "                                        'min_child_weight': [1, 3, 5, 7]},\n",
       "                   scoring='roc_auc', verbose=3)"
      ]
     },
     "execution_count": 43,
     "metadata": {},
     "output_type": "execute_result"
    }
   ],
   "source": [
    "classifier=xgboost.XGBClassifier()\n",
    "\n",
    "params={\n",
    "    \"learning_rate\":[0.05,0.10,0.15,0.20,0.25,0.30],\n",
    "    \"max_depth\":[2,3,4,5,6,8,10,12,15],\n",
    "    \"min_child_weight\":[1,3,5,7],\n",
    "    \"gamma\":[0.0,0.1,0.2,0.3,0.4],\n",
    "    \"colsample_bytree\":[0.3,0.4,0.5,0.7]}\n",
    "\n",
    "#provides the best possible parameters\n",
    "clf =RandomizedSearchCV(classifier,param_distributions=params,n_iter=5,scoring='roc_auc',cv=5,verbose=3)\n",
    "\n",
    "# fitting it\n",
    "clf.fit(X_train_sm,y_train_sm)\n",
    "\n",
    "# best parameters\n",
    "# clf.best_params_"
   ]
  },
  {
   "cell_type": "code",
   "execution_count": 44,
   "metadata": {},
   "outputs": [
    {
     "data": {
      "text/plain": [
       "{'min_child_weight': 1,\n",
       " 'max_depth': 8,\n",
       " 'learning_rate': 0.25,\n",
       " 'gamma': 0.4,\n",
       " 'colsample_bytree': 0.5}"
      ]
     },
     "execution_count": 44,
     "metadata": {},
     "output_type": "execute_result"
    }
   ],
   "source": [
    "# best parameters\n",
    "clf.best_params_"
   ]
  },
  {
   "cell_type": "code",
   "execution_count": 45,
   "metadata": {},
   "outputs": [
    {
     "data": {
      "text/html": [
       "<style>#sk-container-id-5 {color: black;background-color: white;}#sk-container-id-5 pre{padding: 0;}#sk-container-id-5 div.sk-toggleable {background-color: white;}#sk-container-id-5 label.sk-toggleable__label {cursor: pointer;display: block;width: 100%;margin-bottom: 0;padding: 0.3em;box-sizing: border-box;text-align: center;}#sk-container-id-5 label.sk-toggleable__label-arrow:before {content: \"▸\";float: left;margin-right: 0.25em;color: #696969;}#sk-container-id-5 label.sk-toggleable__label-arrow:hover:before {color: black;}#sk-container-id-5 div.sk-estimator:hover label.sk-toggleable__label-arrow:before {color: black;}#sk-container-id-5 div.sk-toggleable__content {max-height: 0;max-width: 0;overflow: hidden;text-align: left;background-color: #f0f8ff;}#sk-container-id-5 div.sk-toggleable__content pre {margin: 0.2em;color: black;border-radius: 0.25em;background-color: #f0f8ff;}#sk-container-id-5 input.sk-toggleable__control:checked~div.sk-toggleable__content {max-height: 200px;max-width: 100%;overflow: auto;}#sk-container-id-5 input.sk-toggleable__control:checked~label.sk-toggleable__label-arrow:before {content: \"▾\";}#sk-container-id-5 div.sk-estimator input.sk-toggleable__control:checked~label.sk-toggleable__label {background-color: #d4ebff;}#sk-container-id-5 div.sk-label input.sk-toggleable__control:checked~label.sk-toggleable__label {background-color: #d4ebff;}#sk-container-id-5 input.sk-hidden--visually {border: 0;clip: rect(1px 1px 1px 1px);clip: rect(1px, 1px, 1px, 1px);height: 1px;margin: -1px;overflow: hidden;padding: 0;position: absolute;width: 1px;}#sk-container-id-5 div.sk-estimator {font-family: monospace;background-color: #f0f8ff;border: 1px dotted black;border-radius: 0.25em;box-sizing: border-box;margin-bottom: 0.5em;}#sk-container-id-5 div.sk-estimator:hover {background-color: #d4ebff;}#sk-container-id-5 div.sk-parallel-item::after {content: \"\";width: 100%;border-bottom: 1px solid gray;flex-grow: 1;}#sk-container-id-5 div.sk-label:hover label.sk-toggleable__label {background-color: #d4ebff;}#sk-container-id-5 div.sk-serial::before {content: \"\";position: absolute;border-left: 1px solid gray;box-sizing: border-box;top: 0;bottom: 0;left: 50%;z-index: 0;}#sk-container-id-5 div.sk-serial {display: flex;flex-direction: column;align-items: center;background-color: white;padding-right: 0.2em;padding-left: 0.2em;position: relative;}#sk-container-id-5 div.sk-item {position: relative;z-index: 1;}#sk-container-id-5 div.sk-parallel {display: flex;align-items: stretch;justify-content: center;background-color: white;position: relative;}#sk-container-id-5 div.sk-item::before, #sk-container-id-5 div.sk-parallel-item::before {content: \"\";position: absolute;border-left: 1px solid gray;box-sizing: border-box;top: 0;bottom: 0;left: 50%;z-index: -1;}#sk-container-id-5 div.sk-parallel-item {display: flex;flex-direction: column;z-index: 1;position: relative;background-color: white;}#sk-container-id-5 div.sk-parallel-item:first-child::after {align-self: flex-end;width: 50%;}#sk-container-id-5 div.sk-parallel-item:last-child::after {align-self: flex-start;width: 50%;}#sk-container-id-5 div.sk-parallel-item:only-child::after {width: 0;}#sk-container-id-5 div.sk-dashed-wrapped {border: 1px dashed gray;margin: 0 0.4em 0.5em 0.4em;box-sizing: border-box;padding-bottom: 0.4em;background-color: white;}#sk-container-id-5 div.sk-label label {font-family: monospace;font-weight: bold;display: inline-block;line-height: 1.2em;}#sk-container-id-5 div.sk-label-container {text-align: center;}#sk-container-id-5 div.sk-container {/* jupyter's `normalize.less` sets `[hidden] { display: none; }` but bootstrap.min.css set `[hidden] { display: none !important; }` so we also need the `!important` here to be able to override the default hidden behavior on the sphinx rendered scikit-learn.org. See: https://github.com/scikit-learn/scikit-learn/issues/21755 */display: inline-block !important;position: relative;}#sk-container-id-5 div.sk-text-repr-fallback {display: none;}</style><div id=\"sk-container-id-5\" class=\"sk-top-container\"><div class=\"sk-text-repr-fallback\"><pre>XGBClassifier(base_score=0.5, booster=&#x27;gbtree&#x27;, colsample_bylevel=1,\n",
       "              colsample_bynode=1, colsample_bytree=0.5, gamma=0.4, gpu_id=-1,\n",
       "              importance_type=&#x27;gain&#x27;, interaction_constraints=&#x27;&#x27;,\n",
       "              learning_rate=0.25, max_delta_step=0, max_depth=8,\n",
       "              min_child_weight=1, missing=nan, monotone_constraints=&#x27;()&#x27;,\n",
       "              n_estimators=100, n_jobs=8, num_parallel_tree=1, random_state=0,\n",
       "              reg_alpha=0, reg_lambda=1, scale_pos_weight=1, subsample=1,\n",
       "              tree_method=&#x27;exact&#x27;, validate_parameters=1, verbosity=None)</pre><b>In a Jupyter environment, please rerun this cell to show the HTML representation or trust the notebook. <br />On GitHub, the HTML representation is unable to render, please try loading this page with nbviewer.org.</b></div><div class=\"sk-container\" hidden><div class=\"sk-item\"><div class=\"sk-estimator sk-toggleable\"><input class=\"sk-toggleable__control sk-hidden--visually\" id=\"sk-estimator-id-9\" type=\"checkbox\" checked><label for=\"sk-estimator-id-9\" class=\"sk-toggleable__label sk-toggleable__label-arrow\">XGBClassifier</label><div class=\"sk-toggleable__content\"><pre>XGBClassifier(base_score=0.5, booster=&#x27;gbtree&#x27;, colsample_bylevel=1,\n",
       "              colsample_bynode=1, colsample_bytree=0.5, gamma=0.4, gpu_id=-1,\n",
       "              importance_type=&#x27;gain&#x27;, interaction_constraints=&#x27;&#x27;,\n",
       "              learning_rate=0.25, max_delta_step=0, max_depth=8,\n",
       "              min_child_weight=1, missing=nan, monotone_constraints=&#x27;()&#x27;,\n",
       "              n_estimators=100, n_jobs=8, num_parallel_tree=1, random_state=0,\n",
       "              reg_alpha=0, reg_lambda=1, scale_pos_weight=1, subsample=1,\n",
       "              tree_method=&#x27;exact&#x27;, validate_parameters=1, verbosity=None)</pre></div></div></div></div></div>"
      ],
      "text/plain": [
       "XGBClassifier(base_score=0.5, booster='gbtree', colsample_bylevel=1,\n",
       "              colsample_bynode=1, colsample_bytree=0.5, gamma=0.4, gpu_id=-1,\n",
       "              importance_type='gain', interaction_constraints='',\n",
       "              learning_rate=0.25, max_delta_step=0, max_depth=8,\n",
       "              min_child_weight=1, missing=nan, monotone_constraints='()',\n",
       "              n_estimators=100, n_jobs=8, num_parallel_tree=1, random_state=0,\n",
       "              reg_alpha=0, reg_lambda=1, scale_pos_weight=1, subsample=1,\n",
       "              tree_method='exact', validate_parameters=1, verbosity=None)"
      ]
     },
     "execution_count": 45,
     "metadata": {},
     "output_type": "execute_result"
    }
   ],
   "source": [
    "#derive model with best parameter\n",
    "clf.best_estimator_"
   ]
  },
  {
   "cell_type": "code",
   "execution_count": 46,
   "metadata": {},
   "outputs": [
    {
     "name": "stdout",
     "output_type": "stream",
     "text": [
      "[14:53:36] WARNING: /Users/travis/build/dmlc/xgboost/src/learner.cc:1061: Starting in XGBoost 1.3.0, the default evaluation metric used with the objective 'binary:logistic' was changed from 'error' to 'logloss'. Explicitly set eval_metric if you'd like to restore the old behavior.\n"
     ]
    }
   ],
   "source": [
    "xgb_new = xgboost.XGBClassifier(base_score=0.5, booster='gbtree', colsample_bylevel=1,\n",
    "              colsample_bynode=1, colsample_bytree=0.3, gamma=0.1, gpu_id=-1,\n",
    "              importance_type='gain', interaction_constraints='',\n",
    "              learning_rate=0.25, max_delta_step=0, max_depth=12,\n",
    "              min_child_weight=5, monotone_constraints='()',\n",
    "              n_estimators=100, n_jobs=8, num_parallel_tree=1, random_state=0,\n",
    "              reg_alpha=0, reg_lambda=1, scale_pos_weight=1, subsample=1,\n",
    "              tree_method='exact', validate_parameters=1, verbosity=None)\n",
    "xgb_new.fit(X_train_sm, y_train_sm)\n",
    "\n",
    "y_pred_xgb_new = xgb_new.predict(x_test)\n",
    "\n",
    "pred_proba_xgb_new = xgb_new.predict_proba(x_test)"
   ]
  },
  {
   "cell_type": "code",
   "execution_count": 47,
   "metadata": {},
   "outputs": [
    {
     "name": "stdout",
     "output_type": "stream",
     "text": [
      "The training Accuracy is:  0.9094298245614035\n",
      "The test Accuracy is:  0.8428447903156074\n",
      "              precision    recall  f1-score   support\n",
      "\n",
      "           0       0.97      0.86      0.91      4349\n",
      "           1       0.19      0.51      0.28       277\n",
      "\n",
      "    accuracy                           0.84      4626\n",
      "   macro avg       0.58      0.69      0.60      4626\n",
      "weighted avg       0.92      0.84      0.87      4626\n",
      "\n",
      "AUCROC: 0.8171101203397104\n"
     ]
    }
   ],
   "source": [
    "#evaluate model\n",
    "#on training set\n",
    "print(\"The training Accuracy is: \", xgb_new.score(X_train_sm, y_train_sm))\n",
    "\n",
    "#test the model on unseen data - higher accuracy than training data?\n",
    "print(\"The test Accuracy is: \", xgb_new.score(x_test, y_test))\n",
    "\n",
    "#classification report\n",
    "print(classification_report(y_test, y_pred_xgb_new))\n",
    "\n",
    "#roc_auc\n",
    "print(\"AUCROC:\",roc_auc_score(y_test, pred_proba_xgb_new[:,1]))"
   ]
  },
  {
   "cell_type": "code",
   "execution_count": 48,
   "metadata": {},
   "outputs": [
    {
     "data": {
      "image/png": "[encoded data removed]",
      "text/plain": [
       "<Figure size 432x288 with 2 Axes>"
      ]
     },
     "metadata": {
      "needs_background": "light"
     },
     "output_type": "display_data"
    }
   ],
   "source": [
    "cm = confusion_matrix(y_test, y_pred_xgb_new)\n",
    "cm_norm = cm / cm.sum(axis=1).reshape(-1,1)\n",
    "\n",
    "plot_confusion_matrix(cm_norm,classes=xgb_new.classes_, title='Confusion Matrix')"
   ]
  },
  {
   "cell_type": "markdown",
   "metadata": {},
   "source": [
    "## Plot ROC curves"
   ]
  },
  {
   "cell_type": "code",
   "execution_count": 49,
   "metadata": {},
   "outputs": [
    {
     "data": {
      "text/plain": [
       "<matplotlib.legend.Legend at 0x7fe0b3572250>"
      ]
     },
     "execution_count": 49,
     "metadata": {},
     "output_type": "execute_result"
    },
    {
     "data": {
      "image/png": "[encoded data removed]",
      "text/plain": [
       "<Figure size 432x288 with 1 Axes>"
      ]
     },
     "metadata": {
      "needs_background": "light"
     },
     "output_type": "display_data"
    }
   ],
   "source": [
    "from sklearn import metrics\n",
    "\n",
    "#logreg\n",
    "fpr, tpr, _ = metrics.roc_curve(y_test, y_pred_new)\n",
    "auc = round(metrics.roc_auc_score(y_test, y_pred_new), 4)\n",
    "plt.plot(fpr,tpr,label=\"Logistic Regression with SMOTE, AUC=\"+str(auc))\n",
    "\n",
    "#rf\n",
    "\n",
    "fpr, tpr, _ = metrics.roc_curve(y_test, y_pred_rf_new)\n",
    "auc = round(metrics.roc_auc_score(y_test, y_pred_rf_new), 4)\n",
    "plt.plot(fpr,tpr,label=\"Random Forest, AUC=\"+str(auc))\n",
    "\n",
    "\n",
    "#xgboost\n",
    "fpr, tpr, _ = metrics.roc_curve(y_test, y_pred_xgb_new)\n",
    "auc = round(metrics.roc_auc_score(y_test, y_pred_xgb_new), 4)\n",
    "plt.plot(fpr,tpr,label=\"XGBoost, AUC=\"+str(auc))\n",
    "\n",
    "\n",
    "#srf\n",
    "fpr, tpr, _ = metrics.roc_curve(Y_test, y_pred_srf)\n",
    "auc = round(metrics.roc_auc_score(Y_test, y_pred_srf), 4)\n",
    "plt.plot(fpr,tpr,label=\"Random Forest with SMOTE, AUC=\"+str(auc))\n",
    "\n",
    "plt.legend()"
   ]
  },
  {
   "cell_type": "code",
   "execution_count": 50,
   "metadata": {},
   "outputs": [
    {
     "name": "stdout",
     "output_type": "stream",
     "text": [
      "              precision    recall  f1-score   support\n",
      "\n",
      "           0       0.97      0.79      0.87      4349\n",
      "           1       0.15      0.58      0.24       277\n",
      "\n",
      "    accuracy                           0.78      4626\n",
      "   macro avg       0.56      0.69      0.56      4626\n",
      "weighted avg       0.92      0.78      0.83      4626\n",
      "\n",
      "              precision    recall  f1-score   support\n",
      "\n",
      "           0       0.97      0.79      0.87      4349\n",
      "           1       0.15      0.58      0.24       277\n",
      "\n",
      "    accuracy                           0.78      4626\n",
      "   macro avg       0.56      0.69      0.56      4626\n",
      "weighted avg       0.92      0.78      0.83      4626\n",
      "\n",
      "              precision    recall  f1-score   support\n",
      "\n",
      "           0       0.95      0.92      0.94      4349\n",
      "           1       0.16      0.24      0.19       277\n",
      "\n",
      "    accuracy                           0.88      4626\n",
      "   macro avg       0.56      0.58      0.56      4626\n",
      "weighted avg       0.90      0.88      0.89      4626\n",
      "\n",
      "              precision    recall  f1-score   support\n",
      "\n",
      "           0       0.95      0.92      0.93      4349\n",
      "           1       0.15      0.23      0.18       277\n",
      "\n",
      "    accuracy                           0.88      4626\n",
      "   macro avg       0.55      0.57      0.56      4626\n",
      "weighted avg       0.90      0.88      0.89      4626\n",
      "\n",
      "              precision    recall  f1-score   support\n",
      "\n",
      "           0       0.96      0.88      0.92      4349\n",
      "           1       0.19      0.43      0.26       277\n",
      "\n",
      "    accuracy                           0.86      4626\n",
      "   macro avg       0.58      0.66      0.59      4626\n",
      "weighted avg       0.91      0.86      0.88      4626\n",
      "\n",
      "              precision    recall  f1-score   support\n",
      "\n",
      "           0       0.97      0.86      0.91      4349\n",
      "           1       0.19      0.51      0.28       277\n",
      "\n",
      "    accuracy                           0.84      4626\n",
      "   macro avg       0.58      0.69      0.60      4626\n",
      "weighted avg       0.92      0.84      0.87      4626\n",
      "\n",
      "              precision    recall  f1-score   support\n",
      "\n",
      "           0       0.99      0.95      0.97      1450\n",
      "           1       0.53      0.84      0.65        92\n",
      "\n",
      "    accuracy                           0.95      1542\n",
      "   macro avg       0.76      0.90      0.81      1542\n",
      "weighted avg       0.96      0.95      0.95      1542\n",
      "\n"
     ]
    }
   ],
   "source": [
    "#classification report\n",
    "print(classification_report(y_test, pred_log))\n",
    "print(classification_report(y_test, y_pred_new))\n",
    "print(classification_report(y_test, y_pred_rf))\n",
    "print(classification_report(y_test, y_pred_rf_new))\n",
    "print(classification_report(y_test, y_pred_xgb))\n",
    "print(classification_report(y_test, y_pred_xgb_new))\n",
    "print(classification_report(Y_test, y_pred_srf))"
   ]
  },
  {
   "cell_type": "code",
   "execution_count": 51,
   "metadata": {},
   "outputs": [
    {
     "name": "stdout",
     "output_type": "stream",
     "text": [
      "Feature: 0, Score: -0.02335\n",
      "Feature: 1, Score: 0.00042\n",
      "Feature: 2, Score: -0.00532\n",
      "Feature: 3, Score: -0.29498\n",
      "Feature: 4, Score: -0.17357\n",
      "Feature: 5, Score: -3.78504\n",
      "Feature: 6, Score: -1.39258\n",
      "Feature: 7, Score: -2.79190\n",
      "Feature: 8, Score: -1.93592\n",
      "Feature: 9, Score: -1.22767\n",
      "Feature: 10, Score: -1.40487\n",
      "Feature: 11, Score: -2.05541\n",
      "Feature: 12, Score: -1.21236\n",
      "Feature: 13, Score: -0.88597\n",
      "Feature: 14, Score: -0.19204\n"
     ]
    },
    {
     "data": {
      "image/png": "[encoded data removed]",
      "text/plain": [
       "<Figure size 432x288 with 1 Axes>"
      ]
     },
     "metadata": {
      "needs_background": "light"
     },
     "output_type": "display_data"
    }
   ],
   "source": [
    "#FEATURE IMPORTANCE\n",
    "from matplotlib import pyplot\n",
    "\n",
    "# logistic regression for feature importance\n",
    "# get importance\n",
    "importance = logregnew.coef_[0]\n",
    "# summarize feature importance\n",
    "for i,v in enumerate(importance):\n",
    "\tprint('Feature: %0d, Score: %.5f' % (i,v))\n",
    "# plot feature importance\n",
    "pyplot.bar([x for x in range(len(importance))], importance)\n",
    "pyplot.show()"
   ]
  },
  {
   "cell_type": "markdown",
   "metadata": {},
   "source": [
    "Random Forest"
   ]
  },
  {
   "cell_type": "code",
   "execution_count": 52,
   "metadata": {},
   "outputs": [],
   "source": [
    "import shap\n",
    "explainer = shap.TreeExplainer(rf_new)\n",
    "shap_values = explainer.shap_values(x_test)"
   ]
  },
  {
   "cell_type": "code",
   "execution_count": 53,
   "metadata": {},
   "outputs": [
    {
     "data": {
      "image/png": "[encoded data removed]",
      "text/plain": [
       "<Figure size 576x540 with 1 Axes>"
      ]
     },
     "metadata": {
      "needs_background": "light"
     },
     "output_type": "display_data"
    }
   ],
   "source": [
    "shap.summary_plot(shap_values, x_test, plot_type=\"bar\")"
   ]
  },
  {
   "cell_type": "markdown",
   "metadata": {},
   "source": [
    "Random Forest with SMOTE"
   ]
  },
  {
   "cell_type": "code",
   "execution_count": 54,
   "metadata": {},
   "outputs": [],
   "source": [
    "explainer2 = shap.TreeExplainer(SMOTE_SRF)\n",
    "shap_values2 = explainer2.shap_values(X_test)"
   ]
  },
  {
   "cell_type": "code",
   "execution_count": 55,
   "metadata": {},
   "outputs": [
    {
     "data": {
      "image/png": "[encoded data removed]",
      "text/plain": [
       "<Figure size 576x540 with 1 Axes>"
      ]
     },
     "metadata": {
      "needs_background": "light"
     },
     "output_type": "display_data"
    }
   ],
   "source": [
    "shap.summary_plot(shap_values2, X_test, plot_type=\"bar\")"
   ]
  },
  {
   "cell_type": "markdown",
   "metadata": {},
   "source": [
    "XGBoost"
   ]
  },
  {
   "cell_type": "code",
   "execution_count": 56,
   "metadata": {},
   "outputs": [],
   "source": [
    "explainer3 = shap.TreeExplainer(xgb_new)\n",
    "shap_values3 = explainer3.shap_values(x_test)"
   ]
  },
  {
   "cell_type": "code",
   "execution_count": 57,
   "metadata": {},
   "outputs": [
    {
     "data": {
      "image/png": "[encoded data removed]",
      "text/plain": [
       "<Figure size 576x540 with 1 Axes>"
      ]
     },
     "metadata": {
      "needs_background": "light"
     },
     "output_type": "display_data"
    }
   ],
   "source": [
    "shap.summary_plot(shap_values3, x_test, plot_type=\"bar\")"
   ]
  },
  {
   "cell_type": "markdown",
   "metadata": {},
   "source": [
    "## Running Final Model on unseen data"
   ]
  },
  {
   "cell_type": "markdown",
   "metadata": {},
   "source": [
    "https://github.com/Pitsillides91/Python-Tutorials/blob/master/Decision%20Tree%20Tutorials/Decision%20Trees%20-%20Random%20Forest%20-%20XGBoost.ipynb"
   ]
  },
  {
   "cell_type": "code",
   "execution_count": 58,
   "metadata": {},
   "outputs": [
    {
     "name": "stdout",
     "output_type": "stream",
     "text": [
      "Testing Accuracy: 0.7792909641158668\n"
     ]
    },
    {
     "data": {
      "text/plain": [
       "0.9435185185185185"
      ]
     },
     "execution_count": 58,
     "metadata": {},
     "output_type": "execute_result"
    }
   ],
   "source": [
    "y_pred_smsrf = SMOTE_SRF.score(x_valid, y_valid)\n",
    "\n",
    "pred_proba_smsrf = SMOTE_SRF.predict_proba(x_valid)\n",
    "\n",
    "print(\"Testing Accuracy:\", score)\n",
    "y_pred_smsrf"
   ]
  },
  {
   "cell_type": "code",
   "execution_count": 59,
   "metadata": {},
   "outputs": [],
   "source": [
    "pred_smsrf = SMOTE_SRF.predict(x_valid)"
   ]
  },
  {
   "cell_type": "code",
   "execution_count": 65,
   "metadata": {},
   "outputs": [
    {
     "data": {
      "text/plain": [
       "<matplotlib.legend.Legend at 0x7fe0d1c77b80>"
      ]
     },
     "execution_count": 65,
     "metadata": {},
     "output_type": "execute_result"
    },
    {
     "data": {
      "image/png": "[encoded data removed]",
      "text/plain": [
       "<Figure size 432x288 with 1 Axes>"
      ]
     },
     "metadata": {
      "needs_background": "light"
     },
     "output_type": "display_data"
    }
   ],
   "source": [
    "#srf\n",
    "fpr, tpr, _ = metrics.roc_curve(y_valid, pred_smsrf)\n",
    "auc = round(metrics.roc_auc_score(y_valid, pred_smsrf), 4)\n",
    "plt.plot(fpr,tpr,label=\"Random Forest with SMOTE Validation, AUC=\"+str(auc))\n",
    "\n",
    "plt.legend()"
   ]
  },
  {
   "cell_type": "code",
   "execution_count": 66,
   "metadata": {},
   "outputs": [
    {
     "name": "stdout",
     "output_type": "stream",
     "text": [
      "              precision    recall  f1-score   support\n",
      "\n",
      "           0       0.99      0.95      0.97      1028\n",
      "           1       0.45      0.83      0.59        52\n",
      "\n",
      "    accuracy                           0.94      1080\n",
      "   macro avg       0.72      0.89      0.78      1080\n",
      "weighted avg       0.96      0.94      0.95      1080\n",
      "\n"
     ]
    }
   ],
   "source": [
    "print(classification_report(y_valid, pred_smsrf))"
   ]
  },
  {
   "cell_type": "code",
   "execution_count": 60,
   "metadata": {},
   "outputs": [
    {
     "data": {
      "text/plain": [
       "array([0, 0, 0, ..., 0, 0, 0])"
      ]
     },
     "execution_count": 60,
     "metadata": {},
     "output_type": "execute_result"
    }
   ],
   "source": [
    "pred_smsrf"
   ]
  },
  {
   "cell_type": "code",
   "execution_count": 61,
   "metadata": {},
   "outputs": [
    {
     "data": {
      "text/plain": [
       "array([[0.96666667, 0.03333333],\n",
       "       [0.969     , 0.031     ],\n",
       "       [0.99333333, 0.00666667],\n",
       "       ...,\n",
       "       [0.91333333, 0.08666667],\n",
       "       [0.91944587, 0.08055413],\n",
       "       [1.        , 0.        ]])"
      ]
     },
     "execution_count": 61,
     "metadata": {},
     "output_type": "execute_result"
    }
   ],
   "source": [
    "pred_proba_smsrf"
   ]
  },
  {
   "cell_type": "code",
   "execution_count": 62,
   "metadata": {},
   "outputs": [
    {
     "data": {
      "text/plain": [
       "[0.03333333333333333,\n",
       " 0.031000000000000003,\n",
       " 0.006666666666666667,\n",
       " 0.0,\n",
       " 0.0,\n",
       " 0.0,\n",
       " 0.0,\n",
       " 0.08025396825396826,\n",
       " 0.0,\n",
       " 0.6888884078884078,\n",
       " 0.0,\n",
       " 0.12,\n",
       " 0.5518757973479337,\n",
       " 0.006666666666666667,\n",
       " 0.0,\n",
       " 0.03,\n",
       " 0.029722222222222226,\n",
       " 0.05333333333333334,\n",
       " 0.05925925925925926,\n",
       " 0.06,\n",
       " 0.023333333333333334,\n",
       " 0.5814444444444444,\n",
       " 0.99,\n",
       " 0.006666666666666667,\n",
       " 0.10866666666666668,\n",
       " 0.0,\n",
       " 0.0,\n",
       " 0.24666666666666667,\n",
       " 0.058333333333333334,\n",
       " 0.02,\n",
       " 0.0,\n",
       " 0.0,\n",
       " 0.6796217801806037,\n",
       " 0.0,\n",
       " 0.0,\n",
       " 0.0,\n",
       " 0.0,\n",
       " 0.0,\n",
       " 0.0,\n",
       " 0.0,\n",
       " 0.0,\n",
       " 0.16666666666666666,\n",
       " 0.0,\n",
       " 0.0,\n",
       " 0.013333333333333334,\n",
       " 0.4146666666666667,\n",
       " 0.8619305509305506,\n",
       " 0.011666666666666667,\n",
       " 0.518011669158728,\n",
       " 0.0,\n",
       " 0.006666666666666667,\n",
       " 0.0,\n",
       " 0.0,\n",
       " 0.0,\n",
       " 0.0,\n",
       " 0.006666666666666667,\n",
       " 0.010909090909090908,\n",
       " 0.6342222222222222,\n",
       " 0.8569341954341947,\n",
       " 0.6466666666666666,\n",
       " 0.0,\n",
       " 0.006666666666666667,\n",
       " 0.0,\n",
       " 0.9764,\n",
       " 0.5477777777777778,\n",
       " 0.0,\n",
       " 0.58,\n",
       " 0.006666666666666667,\n",
       " 0.8990521375769053,\n",
       " 0.0,\n",
       " 0.12666666666666668,\n",
       " 0.008888888888888889,\n",
       " 0.0,\n",
       " 0.05333333333333334,\n",
       " 0.0,\n",
       " 0.0,\n",
       " 0.0,\n",
       " 0.0,\n",
       " 0.0,\n",
       " 0.06666666666666667,\n",
       " 0.828505300822328,\n",
       " 0.049873015873015875,\n",
       " 0.0,\n",
       " 0.0,\n",
       " 0.0,\n",
       " 0.0,\n",
       " 0.013333333333333334,\n",
       " 0.11111111111111109,\n",
       " 0.00814814814814815,\n",
       " 0.02666666666666667,\n",
       " 0.07460317460317462,\n",
       " 0.23811111111111113,\n",
       " 0.013333333333333334,\n",
       " 0.006666666666666667,\n",
       " 0.13333333333333333,\n",
       " 0.006666666666666667,\n",
       " 0.041666666666666664,\n",
       " 0.0,\n",
       " 0.0,\n",
       " 0.0,\n",
       " 0.0,\n",
       " 0.0,\n",
       " 0.10166666666666667,\n",
       " 1.0,\n",
       " 0.0,\n",
       " 0.17333333333333334,\n",
       " 0.03333333333333333,\n",
       " 0.0,\n",
       " 0.10866666666666668,\n",
       " 0.02,\n",
       " 0.03333333333333333,\n",
       " 0.0,\n",
       " 0.013333333333333334,\n",
       " 0.06,\n",
       " 0.25777777777777783,\n",
       " 0.0,\n",
       " 0.0,\n",
       " 0.0,\n",
       " 0.0,\n",
       " 0.0,\n",
       " 0.0,\n",
       " 0.11812121212121213,\n",
       " 0.0,\n",
       " 0.12666666666666668,\n",
       " 1.0,\n",
       " 0.0,\n",
       " 0.0,\n",
       " 0.0,\n",
       " 0.04253968253968254,\n",
       " 0.4510000000000001,\n",
       " 0.7134259917642265,\n",
       " 0.0,\n",
       " 0.08666666666666667,\n",
       " 0.0,\n",
       " 0.04505555555555555,\n",
       " 0.10833333333333334,\n",
       " 0.0,\n",
       " 0.10815079365079365,\n",
       " 0.2793417932169782,\n",
       " 0.11904761904761905,\n",
       " 0.5206666666666667,\n",
       " 0.0,\n",
       " 0.0,\n",
       " 0.0,\n",
       " 0.0,\n",
       " 0.0,\n",
       " 0.06666666666666667,\n",
       " 0.006666666666666667,\n",
       " 0.0,\n",
       " 0.02666666666666667,\n",
       " 0.0,\n",
       " 0.0,\n",
       " 0.0,\n",
       " 0.006666666666666667,\n",
       " 0.06,\n",
       " 0.03333333333333333,\n",
       " 0.0,\n",
       " 0.0,\n",
       " 0.006666666666666667,\n",
       " 0.04666666666666667,\n",
       " 1.0,\n",
       " 0.0,\n",
       " 0.25700534759358284,\n",
       " 0.0,\n",
       " 0.22001587301587297,\n",
       " 0.265,\n",
       " 0.0,\n",
       " 0.013333333333333334,\n",
       " 0.30251772954714135,\n",
       " 0.006666666666666667,\n",
       " 0.3498148148148148,\n",
       " 0.14,\n",
       " 0.0,\n",
       " 0.0,\n",
       " 0.6796217801806037,\n",
       " 0.0,\n",
       " 0.0,\n",
       " 0.0,\n",
       " 0.006666666666666667,\n",
       " 0.06,\n",
       " 0.0,\n",
       " 0.0,\n",
       " 0.07377777777777778,\n",
       " 0.006666666666666667,\n",
       " 0.0,\n",
       " 0.0,\n",
       " 0.0,\n",
       " 0.01,\n",
       " 0.02599206349206349,\n",
       " 0.0,\n",
       " 0.0,\n",
       " 0.006666666666666667,\n",
       " 0.04666666666666667,\n",
       " 0.08666666666666667,\n",
       " 0.0,\n",
       " 0.013333333333333334,\n",
       " 0.0,\n",
       " 0.0,\n",
       " 0.0,\n",
       " 0.0,\n",
       " 0.013174603174603176,\n",
       " 0.03333333333333333,\n",
       " 0.08666666666666667,\n",
       " 0.7524090909090906,\n",
       " 0.013333333333333334,\n",
       " 0.04666666666666667,\n",
       " 0.0,\n",
       " 0.0,\n",
       " 0.0,\n",
       " 0.12666666666666668,\n",
       " 0.03333333333333333,\n",
       " 0.0,\n",
       " 0.013333333333333334,\n",
       " 0.0,\n",
       " 0.04666666666666667,\n",
       " 0.02666666666666667,\n",
       " 0.0,\n",
       " 0.05722222222222222,\n",
       " 0.0,\n",
       " 0.0651851851851852,\n",
       " 0.013333333333333334,\n",
       " 0.0,\n",
       " 0.13147108512020794,\n",
       " 0.11344444444444444,\n",
       " 0.0,\n",
       " 0.0,\n",
       " 0.0,\n",
       " 0.0,\n",
       " 0.0,\n",
       " 0.04,\n",
       " 0.04666666666666667,\n",
       " 0.05333333333333334,\n",
       " 0.02666666666666667,\n",
       " 0.0,\n",
       " 0.0,\n",
       " 0.40166666666666667,\n",
       " 0.006666666666666667,\n",
       " 0.664968253968254,\n",
       " 0.008888888888888889,\n",
       " 0.0,\n",
       " 0.105,\n",
       " 0.02,\n",
       " 0.0,\n",
       " 0.0,\n",
       " 0.0,\n",
       " 0.16,\n",
       " 0.0,\n",
       " 0.0,\n",
       " 0.0,\n",
       " 0.0,\n",
       " 0.021111111111111112,\n",
       " 0.0,\n",
       " 0.015796055796055794,\n",
       " 0.02,\n",
       " 0.035555555555555556,\n",
       " 0.03333333333333333,\n",
       " 0.0,\n",
       " 0.0,\n",
       " 0.0,\n",
       " 0.0,\n",
       " 0.0,\n",
       " 0.0,\n",
       " 0.02,\n",
       " 0.0,\n",
       " 0.0,\n",
       " 0.0,\n",
       " 0.0,\n",
       " 0.0,\n",
       " 0.0,\n",
       " 0.03333333333333333,\n",
       " 0.0,\n",
       " 0.04666666666666667,\n",
       " 0.006666666666666667,\n",
       " 0.0,\n",
       " 0.0,\n",
       " 0.006190476190476191,\n",
       " 0.0,\n",
       " 0.0,\n",
       " 0.0,\n",
       " 0.02666666666666667,\n",
       " 0.0,\n",
       " 0.04666666666666667,\n",
       " 0.0,\n",
       " 0.02253968253968254,\n",
       " 0.006666666666666667,\n",
       " 0.024444444444444442,\n",
       " 0.030555555555555555,\n",
       " 0.09333333333333334,\n",
       " 0.028333333333333332,\n",
       " 0.28615384615384615,\n",
       " 0.009259259259259259,\n",
       " 0.0,\n",
       " 0.6133333333333333,\n",
       " 0.006666666666666667,\n",
       " 0.5703333333333334,\n",
       " 0.014629629629629631,\n",
       " 0.0,\n",
       " 0.0,\n",
       " 0.0,\n",
       " 0.04555555555555555,\n",
       " 0.0,\n",
       " 1.0,\n",
       " 0.0,\n",
       " 0.0,\n",
       " 0.08444444444444445,\n",
       " 0.006666666666666667,\n",
       " 0.0,\n",
       " 0.8266666666666667,\n",
       " 0.02,\n",
       " 0.006222222222222223,\n",
       " 0.11111111111111109,\n",
       " 0.0,\n",
       " 0.0,\n",
       " 0.04,\n",
       " 0.0,\n",
       " 0.0,\n",
       " 0.0,\n",
       " 0.013333333333333334,\n",
       " 0.39,\n",
       " 0.0,\n",
       " 0.22,\n",
       " 0.0,\n",
       " 0.013333333333333334,\n",
       " 0.0033333333333333335,\n",
       " 0.03333333333333333,\n",
       " 0.0,\n",
       " 0.93,\n",
       " 0.0,\n",
       " 0.2636825396825397,\n",
       " 0.0,\n",
       " 0.7167712842712841,\n",
       " 0.006666666666666667,\n",
       " 0.05203298420817603,\n",
       " 0.0,\n",
       " 0.09238095238095238,\n",
       " 0.03333333333333333,\n",
       " 0.4259206349206349,\n",
       " 0.4553333333333333,\n",
       " 0.35333333333333333,\n",
       " 0.4374444444444444,\n",
       " 0.0,\n",
       " 0.3555873015873016,\n",
       " 0.05333333333333334,\n",
       " 0.0,\n",
       " 0.0,\n",
       " 0.0,\n",
       " 0.0,\n",
       " 0.04666666666666667,\n",
       " 0.0,\n",
       " 0.006666666666666667,\n",
       " 0.0,\n",
       " 0.0,\n",
       " 0.0,\n",
       " 0.0,\n",
       " 0.17546560846560846,\n",
       " 0.3933333333333333,\n",
       " 0.006666666666666667,\n",
       " 0.0,\n",
       " 0.006666666666666667,\n",
       " 0.013333333333333334,\n",
       " 0.013333333333333334,\n",
       " 0.013333333333333334,\n",
       " 0.01111111111111111,\n",
       " 0.005454545454545455,\n",
       " 0.03333333333333333,\n",
       " 0.7858328446865598,\n",
       " 0.18,\n",
       " 0.013333333333333334,\n",
       " 0.03133333333333333,\n",
       " 0.0,\n",
       " 0.0,\n",
       " 0.0,\n",
       " 0.0,\n",
       " 0.24666666666666667,\n",
       " 0.006666666666666667,\n",
       " 0.38666666666666666,\n",
       " 0.0,\n",
       " 0.0,\n",
       " 0.26666666666666666,\n",
       " 0.01,\n",
       " 0.0016666666666666668,\n",
       " 0.006666666666666667,\n",
       " 0.0,\n",
       " 0.0,\n",
       " 0.02666666666666667,\n",
       " 0.19104761904761905,\n",
       " 0.017777777777777778,\n",
       " 0.8961541606541605,\n",
       " 0.0,\n",
       " 0.2866666666666667,\n",
       " 0.11333333333333333,\n",
       " 0.13333333333333333,\n",
       " 0.013333333333333334,\n",
       " 0.0,\n",
       " 0.04,\n",
       " 0.0,\n",
       " 0.0,\n",
       " 0.05333333333333334,\n",
       " 0.0,\n",
       " 0.5054444444444445,\n",
       " 0.12666666666666668,\n",
       " 0.031111111111111114,\n",
       " 0.006666666666666667,\n",
       " 0.0,\n",
       " 0.0,\n",
       " 0.0,\n",
       " 0.9333333333333333,\n",
       " 0.013333333333333334,\n",
       " 0.013333333333333334,\n",
       " 0.0011111111111111111,\n",
       " 0.0,\n",
       " 0.0,\n",
       " 0.0,\n",
       " 0.0,\n",
       " 0.008888888888888889,\n",
       " 0.0,\n",
       " 0.0,\n",
       " 0.0,\n",
       " 0.013333333333333334,\n",
       " 0.0,\n",
       " 0.0033333333333333335,\n",
       " 0.38388888888888895,\n",
       " 0.07333333333333333,\n",
       " 0.510713762272586,\n",
       " 0.0,\n",
       " 0.013333333333333334,\n",
       " 0.108,\n",
       " 0.25333333333333335,\n",
       " 0.06226984126984127,\n",
       " 0.7424617234617231,\n",
       " 0.0,\n",
       " 0.0,\n",
       " 0.0,\n",
       " 0.0,\n",
       " 0.0,\n",
       " 0.0016666666666666668,\n",
       " 0.0,\n",
       " 0.0,\n",
       " 0.0,\n",
       " 0.006666666666666667,\n",
       " 0.0,\n",
       " 0.0,\n",
       " 0.022333333333333334,\n",
       " 0.0,\n",
       " 0.0,\n",
       " 0.48333333333333345,\n",
       " 0.0,\n",
       " 0.0,\n",
       " 0.02666666666666667,\n",
       " 0.0,\n",
       " 0.006666666666666667,\n",
       " 0.0,\n",
       " 0.0,\n",
       " 0.034444444444444444,\n",
       " 0.13333333333333333,\n",
       " 0.8860056357429704,\n",
       " 0.0,\n",
       " 0.0,\n",
       " 0.006666666666666667,\n",
       " 0.9021769177388367,\n",
       " 0.0,\n",
       " 0.0,\n",
       " 0.013333333333333334,\n",
       " 0.0,\n",
       " 0.08666666666666667,\n",
       " 0.0,\n",
       " 0.013333333333333334,\n",
       " 0.04888888888888889,\n",
       " 0.42930158730158735,\n",
       " 0.0,\n",
       " 0.7884410774410775,\n",
       " 1.0,\n",
       " 0.40444444444444444,\n",
       " 0.22,\n",
       " 0.0,\n",
       " 0.17811111111111114,\n",
       " 0.006666666666666667,\n",
       " 0.2752962962962964,\n",
       " 0.0,\n",
       " 0.0,\n",
       " 0.0,\n",
       " 0.0,\n",
       " 0.0,\n",
       " 0.25333333333333335,\n",
       " 0.8551819016991872,\n",
       " 0.0,\n",
       " 0.04666666666666667,\n",
       " 0.0,\n",
       " 0.0,\n",
       " 0.0,\n",
       " 0.07,\n",
       " 0.8853976829270941,\n",
       " 0.013333333333333334,\n",
       " 0.882266672590282,\n",
       " 0.0,\n",
       " 0.006666666666666667,\n",
       " 0.02666666666666667,\n",
       " 0.006666666666666667,\n",
       " 0.06666666666666667,\n",
       " 0.0,\n",
       " 0.0,\n",
       " 0.0,\n",
       " 0.05619047619047619,\n",
       " 0.08666666666666667,\n",
       " 0.0,\n",
       " 0.09333333333333334,\n",
       " 0.006666666666666667,\n",
       " 0.0,\n",
       " 0.5004454064454066,\n",
       " 0.2731892736892737,\n",
       " 0.08,\n",
       " 0.006666666666666667,\n",
       " 0.0,\n",
       " 0.006666666666666667,\n",
       " 0.0,\n",
       " 0.006666666666666667,\n",
       " 0.0,\n",
       " 0.0,\n",
       " 0.0,\n",
       " 0.0,\n",
       " 0.04666666666666667,\n",
       " 0.0,\n",
       " 0.0,\n",
       " 0.0,\n",
       " 0.0,\n",
       " 0.18,\n",
       " 0.0,\n",
       " 0.06564102564102564,\n",
       " 0.0,\n",
       " 0.0,\n",
       " 0.06833333333333333,\n",
       " 0.0,\n",
       " 0.9925925925925926,\n",
       " 1.0,\n",
       " 0.0,\n",
       " 0.0,\n",
       " 0.02666666666666667,\n",
       " 0.0,\n",
       " 0.0,\n",
       " 0.0,\n",
       " 0.52,\n",
       " 0.0,\n",
       " 0.0,\n",
       " 0.03333333333333333,\n",
       " 0.02,\n",
       " 0.11437037037037037,\n",
       " 0.5311111111111111,\n",
       " 0.0,\n",
       " 0.15057539682539683,\n",
       " 0.0,\n",
       " 0.0,\n",
       " 0.0,\n",
       " 0.0,\n",
       " 0.0,\n",
       " 0.03333333333333333,\n",
       " 0.12666666666666668,\n",
       " 0.0,\n",
       " 0.013333333333333334,\n",
       " 0.0,\n",
       " 0.05333333333333334,\n",
       " 0.02666666666666667,\n",
       " 0.0,\n",
       " 0.0,\n",
       " 0.02,\n",
       " 0.006666666666666667,\n",
       " 0.6691166426166423,\n",
       " 0.08587301587301588,\n",
       " 0.12666666666666668,\n",
       " 0.49588265438265416,\n",
       " 0.005555555555555555,\n",
       " 0.0,\n",
       " 0.84,\n",
       " 1.0,\n",
       " 0.16147109100050275,\n",
       " 0.0,\n",
       " 0.2428888888888889,\n",
       " 0.006666666666666667,\n",
       " 0.36,\n",
       " 0.11979020979020978,\n",
       " 0.0,\n",
       " 0.05568783068783068,\n",
       " 0.0,\n",
       " 0.0,\n",
       " 0.0,\n",
       " 0.0,\n",
       " 0.0,\n",
       " 0.0,\n",
       " 0.006666666666666667,\n",
       " 0.0,\n",
       " 0.0,\n",
       " 0.0,\n",
       " 0.03333333333333333,\n",
       " 0.0,\n",
       " 0.0,\n",
       " 0.03333333333333333,\n",
       " 0.0,\n",
       " 0.02,\n",
       " 0.06,\n",
       " 0.0,\n",
       " 0.0,\n",
       " 0.0,\n",
       " 0.0,\n",
       " 0.08,\n",
       " 0.0,\n",
       " 0.0,\n",
       " 0.006666666666666667,\n",
       " 0.29333333333333333,\n",
       " 0.0,\n",
       " 0.08888888888888889,\n",
       " 0.2703703703703703,\n",
       " 0.3463636363636364,\n",
       " 0.9088888888888887,\n",
       " 0.0,\n",
       " 0.42766666666666653,\n",
       " 0.07148148148148148,\n",
       " 0.5681111111111112,\n",
       " 0.0,\n",
       " 0.0,\n",
       " 0.0,\n",
       " 0.14666666666666667,\n",
       " 0.0,\n",
       " 0.38160317460317456,\n",
       " 0.0,\n",
       " 0.42799999999999994,\n",
       " 0.0,\n",
       " 0.20222222222222222,\n",
       " 0.0,\n",
       " 0.26666666666666666,\n",
       " 0.0,\n",
       " 0.0,\n",
       " 0.0,\n",
       " 0.12,\n",
       " 0.14,\n",
       " 0.06888888888888887,\n",
       " 0.03333333333333333,\n",
       " 0.0,\n",
       " 0.0,\n",
       " 0.14,\n",
       " 0.0,\n",
       " 0.013333333333333334,\n",
       " 0.10712962962962962,\n",
       " 0.0,\n",
       " 0.0,\n",
       " 0.9324941696503144,\n",
       " 0.012222222222222223,\n",
       " 0.006666666666666667,\n",
       " 0.0,\n",
       " 0.0,\n",
       " 0.0,\n",
       " 0.854527047027047,\n",
       " 0.0,\n",
       " 0.16666666666666666,\n",
       " 0.0,\n",
       " 0.0,\n",
       " 0.0,\n",
       " 1.0,\n",
       " 0.0,\n",
       " 0.0,\n",
       " 0.0,\n",
       " 0.8866666666666667,\n",
       " 0.0,\n",
       " 0.006666666666666667,\n",
       " 0.023888888888888887,\n",
       " 0.08666666666666667,\n",
       " 0.0,\n",
       " 0.006666666666666667,\n",
       " 0.0,\n",
       " 0.5731111111111112,\n",
       " 0.0,\n",
       " 0.041666666666666664,\n",
       " 0.006666666666666667,\n",
       " 0.0,\n",
       " 0.0,\n",
       " 0.14,\n",
       " 0.0,\n",
       " 0.683546583046583,\n",
       " 0.03333333333333333,\n",
       " 0.0,\n",
       " 0.0,\n",
       " 0.0,\n",
       " 0.2396666666666667,\n",
       " 0.008888888888888889,\n",
       " 0.03333333333333333,\n",
       " 0.0,\n",
       " 0.0,\n",
       " 0.0,\n",
       " 0.0,\n",
       " 0.0,\n",
       " 0.0,\n",
       " 0.0,\n",
       " 0.006666666666666667,\n",
       " 0.0,\n",
       " 0.02,\n",
       " 0.0,\n",
       " 0.0,\n",
       " 1.0,\n",
       " 0.0,\n",
       " 0.0022222222222222222,\n",
       " 0.06666666666666667,\n",
       " 0.0,\n",
       " 0.24,\n",
       " 0.3026666666666667,\n",
       " 0.2,\n",
       " 0.0013333333333333335,\n",
       " 0.0,\n",
       " 0.017861111111111112,\n",
       " 0.0,\n",
       " 0.013333333333333334,\n",
       " 0.03015873015873016,\n",
       " 0.0,\n",
       " 0.0,\n",
       " 0.0,\n",
       " 0.04666666666666667,\n",
       " 0.9340035827369407,\n",
       " 0.0,\n",
       " 0.62,\n",
       " 0.0,\n",
       " 0.039851851851851854,\n",
       " 0.0,\n",
       " 0.0,\n",
       " 0.0,\n",
       " 0.006666666666666667,\n",
       " 0.013333333333333334,\n",
       " 0.8758345331139444,\n",
       " 0.0,\n",
       " 0.3984444444444446,\n",
       " 0.0,\n",
       " 0.7699681561382932,\n",
       " 0.0,\n",
       " 0.013333333333333334,\n",
       " 0.006666666666666667,\n",
       " 0.0,\n",
       " 0.0,\n",
       " 0.004285714285714286,\n",
       " 0.9638888888888889,\n",
       " 0.035555555555555556,\n",
       " 0.0,\n",
       " 0.0,\n",
       " 0.013333333333333334,\n",
       " 0.0,\n",
       " 0.9,\n",
       " 0.05333333333333334,\n",
       " 0.8234323446877624,\n",
       " 0.0,\n",
       " 0.0,\n",
       " 0.0,\n",
       " 0.1,\n",
       " 0.006666666666666667,\n",
       " 0.0,\n",
       " 0.006666666666666667,\n",
       " 0.0,\n",
       " 0.013333333333333334,\n",
       " 0.03666666666666667,\n",
       " 0.0,\n",
       " 0.0,\n",
       " 0.0,\n",
       " 0.0,\n",
       " 0.015333333333333332,\n",
       " 0.0,\n",
       " 0.0,\n",
       " 0.0,\n",
       " 0.006666666666666667,\n",
       " 0.1522222222222222,\n",
       " 0.0,\n",
       " 0.0,\n",
       " 0.0,\n",
       " 0.0,\n",
       " 0.12093650793650793,\n",
       " 0.0,\n",
       " 0.7295476190476189,\n",
       " 0.04666666666666667,\n",
       " 0.8804167499167493,\n",
       " 0.0,\n",
       " 0.0075,\n",
       " 0.05333333333333334,\n",
       " 0.02,\n",
       " 0.0,\n",
       " 0.006666666666666667,\n",
       " 0.0,\n",
       " 0.02,\n",
       " 0.02666666666666667,\n",
       " 0.006666666666666667,\n",
       " 0.06,\n",
       " 1.0,\n",
       " 0.7533333333333333,\n",
       " 0.0,\n",
       " 0.0,\n",
       " 0.0,\n",
       " 0.006666666666666667,\n",
       " 0.006666666666666667,\n",
       " 0.648,\n",
       " 0.0,\n",
       " 0.0,\n",
       " 0.0,\n",
       " 0.0,\n",
       " 0.20666666666666667,\n",
       " 0.0,\n",
       " 0.06,\n",
       " 0.0,\n",
       " 0.0,\n",
       " 0.0,\n",
       " 0.07333333333333333,\n",
       " 0.006666666666666667,\n",
       " 0.0,\n",
       " 0.0,\n",
       " 0.0,\n",
       " 0.8534312169312166,\n",
       " 0.02631578947368421,\n",
       " 0.0,\n",
       " 0.0,\n",
       " 0.0,\n",
       " 0.04875213675213675,\n",
       " 0.7294444444444443,\n",
       " 0.34222222222222226,\n",
       " 0.06,\n",
       " 0.04666666666666667,\n",
       " 0.03133333333333333,\n",
       " 0.11408730158730158,\n",
       " 1.0,\n",
       " 0.0,\n",
       " 0.0,\n",
       " 0.0,\n",
       " 0.0,\n",
       " 0.20831818181818176,\n",
       " 0.0,\n",
       " 0.03294117647058824,\n",
       " 0.006666666666666667,\n",
       " 0.043333333333333335,\n",
       " 0.3,\n",
       " 0.0,\n",
       " 0.11888888888888888,\n",
       " 0.0,\n",
       " 0.0,\n",
       " 0.0,\n",
       " 0.09,\n",
       " 0.0,\n",
       " 0.07500000000000001,\n",
       " 0.0,\n",
       " 0.0,\n",
       " 0.013333333333333334,\n",
       " 0.0,\n",
       " 1.0,\n",
       " 0.0,\n",
       " 0.03333333333333333,\n",
       " 0.0,\n",
       " 0.0,\n",
       " 0.0,\n",
       " 0.0,\n",
       " 0.0,\n",
       " 0.013333333333333334,\n",
       " 0.0,\n",
       " 0.0,\n",
       " 0.02666666666666667,\n",
       " 0.0,\n",
       " 0.12,\n",
       " 0.008888888888888889,\n",
       " 0.0,\n",
       " 0.0013333333333333335,\n",
       " 0.02,\n",
       " 0.07333333333333333,\n",
       " 0.6052974987974987,\n",
       " 0.05333333333333334,\n",
       " 0.0,\n",
       " 0.08,\n",
       " 0.0,\n",
       " 0.02666666666666667,\n",
       " 0.12377777777777778,\n",
       " 0.006666666666666667,\n",
       " 0.0,\n",
       " 0.5642380952380951,\n",
       " 1.0,\n",
       " 0.0,\n",
       " 0.0,\n",
       " 0.0,\n",
       " 0.02,\n",
       " 0.006666666666666667,\n",
       " 0.006666666666666667,\n",
       " 0.3822222222222222,\n",
       " 0.006666666666666667,\n",
       " 0.15333333333333332,\n",
       " 0.0,\n",
       " 0.29088888888888886,\n",
       " 0.18,\n",
       " 1.0,\n",
       " 0.14014670514670516,\n",
       " 0.0,\n",
       " 0.05333333333333334,\n",
       " 0.0,\n",
       " 0.04,\n",
       " 0.0,\n",
       " 0.0,\n",
       " 0.061111111111111116,\n",
       " 0.02666666666666667,\n",
       " 0.3302857142857144,\n",
       " 0.0,\n",
       " 0.0,\n",
       " 0.0,\n",
       " 0.0,\n",
       " 0.0,\n",
       " 0.0,\n",
       " 0.0,\n",
       " 0.26,\n",
       " 0.7897356197906873,\n",
       " 0.8826569305021315,\n",
       " 0.0,\n",
       " 0.6533333333333333,\n",
       " 0.0,\n",
       " 0.14600000000000002,\n",
       " 0.939313038936096,\n",
       " 0.0,\n",
       " 0.048674603174603176,\n",
       " 0.0,\n",
       " 0.02666666666666667,\n",
       " 0.013333333333333334,\n",
       " 0.0,\n",
       " 0.1747142857142857,\n",
       " 0.0,\n",
       " 0.0,\n",
       " 0.0,\n",
       " 0.4481269841269841,\n",
       " 0.006666666666666667,\n",
       " 0.013333333333333334,\n",
       " 0.0,\n",
       " 0.013333333333333334,\n",
       " 0.0,\n",
       " 0.0,\n",
       " 0.0,\n",
       " 0.04,\n",
       " 0.0,\n",
       " 0.0,\n",
       " 0.98,\n",
       " 0.0,\n",
       " 1.0,\n",
       " 0.07777777777777778,\n",
       " 0.2866666666666667,\n",
       " 0.0,\n",
       " 0.0,\n",
       " 0.0,\n",
       " 0.18888888888888888,\n",
       " 0.011666666666666667,\n",
       " 0.0,\n",
       " 0.0,\n",
       " 0.045476190476190476,\n",
       " 0.013333333333333334,\n",
       " 0.006666666666666667,\n",
       " 0.0075,\n",
       " 0.006666666666666667,\n",
       " 0.0,\n",
       " 0.536425925925926,\n",
       " 0.0,\n",
       " 0.09333333333333334,\n",
       " 0.11892063492063493,\n",
       " 0.006666666666666667,\n",
       " 0.0,\n",
       " 0.029722222222222226,\n",
       " 0.0,\n",
       " 0.49588265438265416,\n",
       " 0.0,\n",
       " 0.0,\n",
       " 0.2,\n",
       " 0.013333333333333334,\n",
       " 0.0,\n",
       " 0.0,\n",
       " 0.02666666666666667,\n",
       " 0.8570193678924928,\n",
       " 0.0,\n",
       " 0.03866666666666667,\n",
       " 0.0456984126984127,\n",
       " 0.0,\n",
       " 0.006666666666666667,\n",
       " 0.005,\n",
       " 0.0,\n",
       " 0.0,\n",
       " 0.0,\n",
       " 0.14666666666666667,\n",
       " 0.0,\n",
       " 0.0,\n",
       " 0.0,\n",
       " 0.30111111111111116,\n",
       " 0.115,\n",
       " 0.9933333333333333,\n",
       " 0.0,\n",
       " 0.0022222222222222222,\n",
       " 0.0,\n",
       " 0.0,\n",
       " 0.1,\n",
       " 0.0,\n",
       " 0.0,\n",
       " 0.06,\n",
       " 0.2124882154882154,\n",
       " 0.006666666666666667,\n",
       " 0.0,\n",
       " 0.0,\n",
       " 0.21333333333333335,\n",
       " 0.0,\n",
       " 0.0,\n",
       " 0.02,\n",
       " 0.047333333333333324,\n",
       " 0.0,\n",
       " 0.0,\n",
       " ...]"
      ]
     },
     "execution_count": 62,
     "metadata": {},
     "output_type": "execute_result"
    }
   ],
   "source": [
    "def column(matrix, i):\n",
    "    return [row[i] for row in matrix]\n",
    "\n",
    "column(pred_proba_smsrf, 1)"
   ]
  },
  {
   "cell_type": "code",
   "execution_count": 63,
   "metadata": {},
   "outputs": [
    {
     "ename": "IndexError",
     "evalue": "only integers, slices (`:`), ellipsis (`...`), numpy.newaxis (`None`) and integer or boolean arrays are valid indices",
     "output_type": "error",
     "traceback": [
      "\u001b[0;31m---------------------------------------------------------------------------\u001b[0m",
      "\u001b[0;31mIndexError\u001b[0m                                Traceback (most recent call last)",
      "\u001b[0;32m<ipython-input-63-adc7b47c0da6>\u001b[0m in \u001b[0;36m<module>\u001b[0;34m\u001b[0m\n\u001b[1;32m      1\u001b[0m \u001b[0moutput\u001b[0m \u001b[0;34m=\u001b[0m \u001b[0mx_valid\u001b[0m\u001b[0;34m.\u001b[0m\u001b[0mcopy\u001b[0m\u001b[0;34m(\u001b[0m\u001b[0;34m)\u001b[0m\u001b[0;34m\u001b[0m\u001b[0;34m\u001b[0m\u001b[0m\n\u001b[0;32m----> 2\u001b[0;31m \u001b[0moutput\u001b[0m\u001b[0;34m[\u001b[0m\u001b[0;34m'Predictions - Fraud or Not'\u001b[0m\u001b[0;34m]\u001b[0m \u001b[0;34m=\u001b[0m \u001b[0mpred_smsrf\u001b[0m\u001b[0;34m\u001b[0m\u001b[0;34m\u001b[0m\u001b[0m\n\u001b[0m\u001b[1;32m      3\u001b[0m \u001b[0moutput\u001b[0m\u001b[0;34m[\u001b[0m\u001b[0;34m'Predictions - Probability to Fraud'\u001b[0m\u001b[0;34m]\u001b[0m \u001b[0;34m=\u001b[0m \u001b[0mcolumn\u001b[0m\u001b[0;34m(\u001b[0m\u001b[0mpred_proba_smsrf\u001b[0m\u001b[0;34m,\u001b[0m \u001b[0;36m1\u001b[0m\u001b[0;34m)\u001b[0m\u001b[0;34m\u001b[0m\u001b[0;34m\u001b[0m\u001b[0m\n\u001b[1;32m      4\u001b[0m \u001b[0moutput\u001b[0m\u001b[0;34m.\u001b[0m\u001b[0mhead\u001b[0m\u001b[0;34m\u001b[0m\u001b[0;34m\u001b[0m\u001b[0m\n",
      "\u001b[0;31mIndexError\u001b[0m: only integers, slices (`:`), ellipsis (`...`), numpy.newaxis (`None`) and integer or boolean arrays are valid indices"
     ]
    }
   ],
   "source": [
    "output = x_valid.copy()\n",
    "output['Predictions - Fraud or Not'] = pred_smsrf\n",
    "output['Predictions - Probability to Fraud'] = column(pred_proba_smsrf, 1)\n",
    "output.head"
   ]
  },
  {
   "cell_type": "code",
   "execution_count": null,
   "metadata": {},
   "outputs": [],
   "source": [
    "# 9.4. Joining the raw data witht the predictions\n",
    "\n",
    "\n",
    "output = unseen_data.copy()\n",
    "output['Predictions - Churn or Not'] = pred_xgboost\n",
    "output['Predictions - Probability to Churn'] = column(pred_prob_xgboost, 1)\n",
    "output['Predictions - Churn or Not Desc'] = 'Empty'\n",
    "output['Predictions - Churn or Not Desc'][output['Predictions - Churn or Not'] == 0] = 'Retention'\n",
    "output['Predictions - Churn or Not Desc'][output['Predictions - Churn or Not'] == 1] = 'Churn'\n",
    "output.head()"
   ]
  }
 ],
 "metadata": {
  "kernelspec": {
   "display_name": "Python 3.8.5 ('base')",
   "language": "python",
   "name": "python3"
  },
  "language_info": {
   "codemirror_mode": {
    "name": "ipython",
    "version": 3
   },
   "file_extension": ".py",
   "mimetype": "text/x-python",
   "name": "python",
   "nbconvert_exporter": "python",
   "pygments_lexer": "ipython3",
   "version": "3.8.5"
  },
  "orig_nbformat": 4,
  "vscode": {
   "interpreter": {
    "hash": "40d3a090f54c6569ab1632332b64b2c03c39dcf918b08424e98f38b5ae0af88f"
   }
  }
 },
 "nbformat": 4,
 "nbformat_minor": 2
}
