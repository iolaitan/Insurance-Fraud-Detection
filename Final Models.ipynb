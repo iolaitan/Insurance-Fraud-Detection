{
 "cells": [
  {
   "cell_type": "markdown",
   "metadata": {},
   "source": [
    "Model Balanced Final Script - SMOTE Method Used"
   ]
  },
  {
   "cell_type": "markdown",
   "metadata": {},
   "source": [
    "SMOTE"
   ]
  },
  {
   "cell_type": "code",
   "execution_count": 1,
   "metadata": {},
   "outputs": [],
   "source": [
    "#dataframe manipulation\n",
    "import pandas as pd \n",
    "import numpy as np \n",
    "import matplotlib.pyplot as plt\n",
    "import seaborn as sns\n",
    "\n",
    "from sklearn.linear_model import LogisticRegression\n",
    "from sklearn.tree import DecisionTreeClassifier\n",
    "from sklearn.ensemble import RandomForestClassifier\n",
    "from sklearn.metrics import accuracy_score, f1_score, precision_score, recall_score\n",
    "from sklearn.metrics import confusion_matrix, roc_auc_score, roc_curve, classification_report, precision_recall_curve\n",
    "from sklearn.model_selection import train_test_split, cross_val_score, StratifiedKFold, GridSearchCV, RandomizedSearchCV"
   ]
  },
  {
   "cell_type": "code",
   "execution_count": 2,
   "metadata": {},
   "outputs": [
    {
     "data": {
      "text/html": [
       "<div>\n",
       "<style scoped>\n",
       "    .dataframe tbody tr th:only-of-type {\n",
       "        vertical-align: middle;\n",
       "    }\n",
       "\n",
       "    .dataframe tbody tr th {\n",
       "        vertical-align: top;\n",
       "    }\n",
       "\n",
       "    .dataframe thead th {\n",
       "        text-align: right;\n",
       "    }\n",
       "</style>\n",
       "<table border=\"1\" class=\"dataframe\">\n",
       "  <thead>\n",
       "    <tr style=\"text-align: right;\">\n",
       "      <th></th>\n",
       "      <th>Age</th>\n",
       "      <th>GDP</th>\n",
       "      <th>DelayInReporting</th>\n",
       "      <th>AccidentArea_Urban</th>\n",
       "      <th>Sex_Male</th>\n",
       "      <th>Fault_Third Party</th>\n",
       "      <th>BasePolicy_Collision</th>\n",
       "      <th>BasePolicy_Liability</th>\n",
       "      <th>VehicleCategory_Sport</th>\n",
       "      <th>VehicleCategory_Utility</th>\n",
       "      <th>PastNumberOfClaims_2 to 4</th>\n",
       "      <th>PastNumberOfClaims_more than 4</th>\n",
       "      <th>PastNumberOfClaims_none</th>\n",
       "      <th>PoliceReportFiled_Yes</th>\n",
       "      <th>WitnessPresent_Yes</th>\n",
       "      <th>FraudFound_P</th>\n",
       "    </tr>\n",
       "  </thead>\n",
       "  <tbody>\n",
       "    <tr>\n",
       "      <th>0</th>\n",
       "      <td>21</td>\n",
       "      <td>7455</td>\n",
       "      <td>31</td>\n",
       "      <td>1</td>\n",
       "      <td>0</td>\n",
       "      <td>0</td>\n",
       "      <td>0</td>\n",
       "      <td>1</td>\n",
       "      <td>1</td>\n",
       "      <td>0</td>\n",
       "      <td>0</td>\n",
       "      <td>0</td>\n",
       "      <td>1</td>\n",
       "      <td>0</td>\n",
       "      <td>0</td>\n",
       "      <td>0</td>\n",
       "    </tr>\n",
       "    <tr>\n",
       "      <th>1</th>\n",
       "      <td>34</td>\n",
       "      <td>7115</td>\n",
       "      <td>0</td>\n",
       "      <td>1</td>\n",
       "      <td>1</td>\n",
       "      <td>0</td>\n",
       "      <td>1</td>\n",
       "      <td>0</td>\n",
       "      <td>1</td>\n",
       "      <td>0</td>\n",
       "      <td>0</td>\n",
       "      <td>0</td>\n",
       "      <td>1</td>\n",
       "      <td>1</td>\n",
       "      <td>0</td>\n",
       "      <td>0</td>\n",
       "    </tr>\n",
       "    <tr>\n",
       "      <th>2</th>\n",
       "      <td>47</td>\n",
       "      <td>7455</td>\n",
       "      <td>31</td>\n",
       "      <td>1</td>\n",
       "      <td>1</td>\n",
       "      <td>0</td>\n",
       "      <td>1</td>\n",
       "      <td>0</td>\n",
       "      <td>1</td>\n",
       "      <td>0</td>\n",
       "      <td>0</td>\n",
       "      <td>0</td>\n",
       "      <td>0</td>\n",
       "      <td>0</td>\n",
       "      <td>0</td>\n",
       "      <td>0</td>\n",
       "    </tr>\n",
       "  </tbody>\n",
       "</table>\n",
       "</div>"
      ],
      "text/plain": [
       "   Age   GDP  DelayInReporting  AccidentArea_Urban  Sex_Male  \\\n",
       "0   21  7455                31                   1         0   \n",
       "1   34  7115                 0                   1         1   \n",
       "2   47  7455                31                   1         1   \n",
       "\n",
       "   Fault_Third Party  BasePolicy_Collision  BasePolicy_Liability  \\\n",
       "0                  0                     0                     1   \n",
       "1                  0                     1                     0   \n",
       "2                  0                     1                     0   \n",
       "\n",
       "   VehicleCategory_Sport  VehicleCategory_Utility  PastNumberOfClaims_2 to 4  \\\n",
       "0                      1                        0                          0   \n",
       "1                      1                        0                          0   \n",
       "2                      1                        0                          0   \n",
       "\n",
       "   PastNumberOfClaims_more than 4  PastNumberOfClaims_none  \\\n",
       "0                               0                        1   \n",
       "1                               0                        1   \n",
       "2                               0                        0   \n",
       "\n",
       "   PoliceReportFiled_Yes  WitnessPresent_Yes  FraudFound_P  \n",
       "0                      0                   0             0  \n",
       "1                      1                   0             0  \n",
       "2                      0                   0             0  "
      ]
     },
     "execution_count": 2,
     "metadata": {},
     "output_type": "execute_result"
    }
   ],
   "source": [
    "df=pd.read_excel(\"CleanData.xlsx\")\n",
    "df.head(3)"
   ]
  },
  {
   "cell_type": "code",
   "execution_count": 3,
   "metadata": {},
   "outputs": [
    {
     "name": "stdout",
     "output_type": "stream",
     "text": [
      "(15420, 16)\n"
     ]
    }
   ],
   "source": [
    "print(df.shape)"
   ]
  },
  {
   "cell_type": "code",
   "execution_count": 4,
   "metadata": {},
   "outputs": [
    {
     "data": {
      "text/plain": [
       "Age                               int64\n",
       "GDP                               int64\n",
       "DelayInReporting                  int64\n",
       "AccidentArea_Urban                int64\n",
       "Sex_Male                          int64\n",
       "Fault_Third Party                 int64\n",
       "BasePolicy_Collision              int64\n",
       "BasePolicy_Liability              int64\n",
       "VehicleCategory_Sport             int64\n",
       "VehicleCategory_Utility           int64\n",
       "PastNumberOfClaims_2 to 4         int64\n",
       "PastNumberOfClaims_more than 4    int64\n",
       "PastNumberOfClaims_none           int64\n",
       "PoliceReportFiled_Yes             int64\n",
       "WitnessPresent_Yes                int64\n",
       "FraudFound_P                      int64\n",
       "dtype: object"
      ]
     },
     "execution_count": 4,
     "metadata": {},
     "output_type": "execute_result"
    }
   ],
   "source": [
    "df.dtypes"
   ]
  },
  {
   "cell_type": "code",
   "execution_count": 5,
   "metadata": {},
   "outputs": [],
   "source": [
    "cols = ['Age', 'GDP', 'DelayInReporting', 'AccidentArea_Urban', 'Sex_Male', 'Fault_Third Party', 'BasePolicy_Collision',\n",
    "         'BasePolicy_Liability', 'VehicleCategory_Sport', 'VehicleCategory_Utility', 'PastNumberOfClaims_2 to 4',\n",
    "         'PastNumberOfClaims_more than 4', 'PastNumberOfClaims_none', 'PoliceReportFiled_Yes', 'WitnessPresent_Yes']"
   ]
  },
  {
   "cell_type": "code",
   "execution_count": 6,
   "metadata": {},
   "outputs": [
    {
     "name": "stdout",
     "output_type": "stream",
     "text": [
      "(15420, 15)\n",
      "(15420,)\n"
     ]
    }
   ],
   "source": [
    "#split data into x and y\n",
    "#also make x into a numpy array so it can be fit onto the model\n",
    "x =  df[cols].values\n",
    "x\n",
    "\n",
    "y = df['FraudFound_P']\n",
    "y\n",
    "\n",
    "print(x.shape)\n",
    "print(y.shape)"
   ]
  },
  {
   "cell_type": "code",
   "execution_count": 7,
   "metadata": {},
   "outputs": [
    {
     "name": "stdout",
     "output_type": "stream",
     "text": [
      "(9714, 15)\n",
      "(4626, 15)\n",
      "(1080, 15)\n",
      "(9714,)\n",
      "(4626,)\n",
      "(1080,)\n"
     ]
    }
   ],
   "source": [
    "#hold out validation technique - 70-20-10\n",
    "#train model on 70, test on 20\n",
    "from sklearn.model_selection import train_test_split\n",
    "#test data\n",
    "x_train, x_test, y_train, y_test =  train_test_split(x, y, train_size=0.7, test_size=0.3, random_state=7, stratify=y)\n",
    "\n",
    "#after hyperparameter tuning - and after best parameters\n",
    "x_train, x_valid, y_train, y_valid =  train_test_split(x_train, y_train, train_size=0.9, test_size=0.1, random_state=7)\n",
    "\n",
    "print(x_train.shape)\n",
    "print(x_test.shape)\n",
    "print(x_valid.shape)\n",
    "\n",
    "print(y_train.shape)\n",
    "print(y_test.shape)\n",
    "print(y_valid.shape)"
   ]
  },
  {
   "cell_type": "code",
   "execution_count": 8,
   "metadata": {},
   "outputs": [
    {
     "data": {
      "image/png": "[encoded data removed]",
      "text/plain": [
       "<Figure size 432x288 with 1 Axes>"
      ]
     },
     "metadata": {
      "needs_background": "light"
     },
     "output_type": "display_data"
    }
   ],
   "source": [
    "ax =  sns.countplot(x=y_train, palette=\"Set3\")"
   ]
  },
  {
   "cell_type": "code",
   "execution_count": 9,
   "metadata": {},
   "outputs": [
    {
     "name": "stdout",
     "output_type": "stream",
     "text": [
      "Before Counter({0: 9120, 1: 594})\n",
      "After Counter({0: 9120, 1: 9120})\n"
     ]
    }
   ],
   "source": [
    "from imblearn.over_sampling import SMOTE\n",
    "from collections import Counter\n",
    "\n",
    "\n",
    "counter = Counter(y_train)\n",
    "print('Before',counter)\n",
    "# oversampling the train dataset using SMOTE\n",
    "smt = SMOTE()\n",
    "#X_train, y_train = smt.fit_resample(X_train, y_train)\n",
    "X_train_sm, y_train_sm = smt.fit_resample(x_train, y_train)\n",
    "\n",
    "counter = Counter(y_train_sm)\n",
    "print('After',counter)"
   ]
  },
  {
   "cell_type": "code",
   "execution_count": 10,
   "metadata": {},
   "outputs": [
    {
     "data": {
      "image/png": "[encoded data removed]",
      "text/plain": [
       "<Figure size 432x288 with 1 Axes>"
      ]
     },
     "metadata": {
      "needs_background": "light"
     },
     "output_type": "display_data"
    }
   ],
   "source": [
    "ax =  sns.countplot(x=y_train_sm, palette=\"Set3\")"
   ]
  },
  {
   "cell_type": "markdown",
   "metadata": {},
   "source": [
    "## Logistic Regression"
   ]
  },
  {
   "cell_type": "code",
   "execution_count": 11,
   "metadata": {},
   "outputs": [
    {
     "data": {
      "text/html": [
       "<style>#sk-container-id-1 {color: black;background-color: white;}#sk-container-id-1 pre{padding: 0;}#sk-container-id-1 div.sk-toggleable {background-color: white;}#sk-container-id-1 label.sk-toggleable__label {cursor: pointer;display: block;width: 100%;margin-bottom: 0;padding: 0.3em;box-sizing: border-box;text-align: center;}#sk-container-id-1 label.sk-toggleable__label-arrow:before {content: \"▸\";float: left;margin-right: 0.25em;color: #696969;}#sk-container-id-1 label.sk-toggleable__label-arrow:hover:before {color: black;}#sk-container-id-1 div.sk-estimator:hover label.sk-toggleable__label-arrow:before {color: black;}#sk-container-id-1 div.sk-toggleable__content {max-height: 0;max-width: 0;overflow: hidden;text-align: left;background-color: #f0f8ff;}#sk-container-id-1 div.sk-toggleable__content pre {margin: 0.2em;color: black;border-radius: 0.25em;background-color: #f0f8ff;}#sk-container-id-1 input.sk-toggleable__control:checked~div.sk-toggleable__content {max-height: 200px;max-width: 100%;overflow: auto;}#sk-container-id-1 input.sk-toggleable__control:checked~label.sk-toggleable__label-arrow:before {content: \"▾\";}#sk-container-id-1 div.sk-estimator input.sk-toggleable__control:checked~label.sk-toggleable__label {background-color: #d4ebff;}#sk-container-id-1 div.sk-label input.sk-toggleable__control:checked~label.sk-toggleable__label {background-color: #d4ebff;}#sk-container-id-1 input.sk-hidden--visually {border: 0;clip: rect(1px 1px 1px 1px);clip: rect(1px, 1px, 1px, 1px);height: 1px;margin: -1px;overflow: hidden;padding: 0;position: absolute;width: 1px;}#sk-container-id-1 div.sk-estimator {font-family: monospace;background-color: #f0f8ff;border: 1px dotted black;border-radius: 0.25em;box-sizing: border-box;margin-bottom: 0.5em;}#sk-container-id-1 div.sk-estimator:hover {background-color: #d4ebff;}#sk-container-id-1 div.sk-parallel-item::after {content: \"\";width: 100%;border-bottom: 1px solid gray;flex-grow: 1;}#sk-container-id-1 div.sk-label:hover label.sk-toggleable__label {background-color: #d4ebff;}#sk-container-id-1 div.sk-serial::before {content: \"\";position: absolute;border-left: 1px solid gray;box-sizing: border-box;top: 0;bottom: 0;left: 50%;z-index: 0;}#sk-container-id-1 div.sk-serial {display: flex;flex-direction: column;align-items: center;background-color: white;padding-right: 0.2em;padding-left: 0.2em;position: relative;}#sk-container-id-1 div.sk-item {position: relative;z-index: 1;}#sk-container-id-1 div.sk-parallel {display: flex;align-items: stretch;justify-content: center;background-color: white;position: relative;}#sk-container-id-1 div.sk-item::before, #sk-container-id-1 div.sk-parallel-item::before {content: \"\";position: absolute;border-left: 1px solid gray;box-sizing: border-box;top: 0;bottom: 0;left: 50%;z-index: -1;}#sk-container-id-1 div.sk-parallel-item {display: flex;flex-direction: column;z-index: 1;position: relative;background-color: white;}#sk-container-id-1 div.sk-parallel-item:first-child::after {align-self: flex-end;width: 50%;}#sk-container-id-1 div.sk-parallel-item:last-child::after {align-self: flex-start;width: 50%;}#sk-container-id-1 div.sk-parallel-item:only-child::after {width: 0;}#sk-container-id-1 div.sk-dashed-wrapped {border: 1px dashed gray;margin: 0 0.4em 0.5em 0.4em;box-sizing: border-box;padding-bottom: 0.4em;background-color: white;}#sk-container-id-1 div.sk-label label {font-family: monospace;font-weight: bold;display: inline-block;line-height: 1.2em;}#sk-container-id-1 div.sk-label-container {text-align: center;}#sk-container-id-1 div.sk-container {/* jupyter's `normalize.less` sets `[hidden] { display: none; }` but bootstrap.min.css set `[hidden] { display: none !important; }` so we also need the `!important` here to be able to override the default hidden behavior on the sphinx rendered scikit-learn.org. See: https://github.com/scikit-learn/scikit-learn/issues/21755 */display: inline-block !important;position: relative;}#sk-container-id-1 div.sk-text-repr-fallback {display: none;}</style><div id=\"sk-container-id-1\" class=\"sk-top-container\"><div class=\"sk-text-repr-fallback\"><pre>LogisticRegression(max_iter=10000, random_state=10)</pre><b>In a Jupyter environment, please rerun this cell to show the HTML representation or trust the notebook. <br />On GitHub, the HTML representation is unable to render, please try loading this page with nbviewer.org.</b></div><div class=\"sk-container\" hidden><div class=\"sk-item\"><div class=\"sk-estimator sk-toggleable\"><input class=\"sk-toggleable__control sk-hidden--visually\" id=\"sk-estimator-id-1\" type=\"checkbox\" checked><label for=\"sk-estimator-id-1\" class=\"sk-toggleable__label sk-toggleable__label-arrow\">LogisticRegression</label><div class=\"sk-toggleable__content\"><pre>LogisticRegression(max_iter=10000, random_state=10)</pre></div></div></div></div></div>"
      ],
      "text/plain": [
       "LogisticRegression(max_iter=10000, random_state=10)"
      ]
     },
     "execution_count": 11,
     "metadata": {},
     "output_type": "execute_result"
    }
   ],
   "source": [
    "#Build model\n",
    "logreg = LogisticRegression(random_state=10, solver='lbfgs', max_iter=10000)\n",
    "logreg.fit(X_train_sm, y_train_sm)"
   ]
  },
  {
   "cell_type": "code",
   "execution_count": 12,
   "metadata": {},
   "outputs": [
    {
     "data": {
      "text/plain": [
       "array([[-2.15462822e-02,  4.60315132e-04, -4.57598068e-03,\n",
       "        -8.17200521e-01, -1.03593499e-01, -2.40135244e+00,\n",
       "        -9.16848143e-01, -3.07079717e+00, -3.17298638e+00,\n",
       "        -1.92480460e-01, -1.98903931e+00, -1.08382086e+00,\n",
       "        -8.18644008e-01, -2.53444150e-01, -5.54808931e-02]])"
      ]
     },
     "execution_count": 12,
     "metadata": {},
     "output_type": "execute_result"
    }
   ],
   "source": [
    "#make predictions\n",
    "pred_log = logreg.predict(x_test)\n",
    "\n",
    "#probabilities\n",
    "pred_proba = logreg.predict_proba(x_test)\n",
    "\n",
    "logreg.coef_"
   ]
  },
  {
   "cell_type": "code",
   "execution_count": 13,
   "metadata": {},
   "outputs": [
    {
     "name": "stdout",
     "output_type": "stream",
     "text": [
      "The training Accuracy is:  0.7976425438596492\n",
      "The test Accuracy is:  0.7492434068309555\n",
      "              precision    recall  f1-score   support\n",
      "\n",
      "           0       0.97      0.76      0.85      4349\n",
      "           1       0.13      0.58      0.22       277\n",
      "\n",
      "    accuracy                           0.75      4626\n",
      "   macro avg       0.55      0.67      0.53      4626\n",
      "weighted avg       0.92      0.75      0.81      4626\n",
      "\n",
      "AUCROC: 0.7643132202680728\n"
     ]
    }
   ],
   "source": [
    "#evaluate model\n",
    "#on training set\n",
    "print(\"The training Accuracy is: \", logreg.score(X_train_sm, y_train_sm))\n",
    "\n",
    "#test the model on unseen data - higher accuracy than training data?\n",
    "print(\"The test Accuracy is: \", logreg.score(x_test, y_test))\n",
    "\n",
    "#classification report\n",
    "print(classification_report(y_test, pred_log))\n",
    "\n",
    "#roc_auc\n",
    "print(\"AUCROC:\",roc_auc_score(y_test, pred_proba[:,1]))"
   ]
  },
  {
   "cell_type": "code",
   "execution_count": 14,
   "metadata": {},
   "outputs": [],
   "source": [
    "#confusion matrix to show how well the model predicts each class\n",
    "def plot_confusion_matrix(cm, classes=None, title='Confusion Matrix'):\n",
    "    if classes is not None:\n",
    "        sns.heatmap(cm, xticklabels=classes, yticklabels=classes, vmin=0., vmax=1., annot=True, annot_kws={'size':50})\n",
    "    else:\n",
    "        sns.heatmap(cm, vmin=0., vmax=1.)\n",
    "    plt.title(title)\n",
    "    plt.ylabel('True label')\n",
    "    plt.xlabel('Predicted label')"
   ]
  },
  {
   "cell_type": "code",
   "execution_count": 15,
   "metadata": {},
   "outputs": [
    {
     "data": {
      "image/png": "[encoded data removed]",
      "text/plain": [
       "<Figure size 432x288 with 2 Axes>"
      ]
     },
     "metadata": {
      "needs_background": "light"
     },
     "output_type": "display_data"
    }
   ],
   "source": [
    "cm = confusion_matrix(y_test, pred_log)\n",
    "cm_norm = cm / cm.sum(axis=1).reshape(-1,1)\n",
    "\n",
    "plot_confusion_matrix(cm_norm,classes=logreg.classes_, title='Confusion Matrix')"
   ]
  },
  {
   "cell_type": "code",
   "execution_count": 16,
   "metadata": {},
   "outputs": [
    {
     "name": "stdout",
     "output_type": "stream",
     "text": [
      "The log loss on Training is:  0.41325054913044845\n",
      "The log loss on Test is:  0.4499119489325489\n"
     ]
    }
   ],
   "source": [
    "#Log Loss - log loss went up for unseen data. shouldnt be better than training data - so makes sense\n",
    "from sklearn.metrics import log_loss\n",
    "\n",
    "pred_proba_t = logreg.predict_proba(X_train_sm)\n",
    "print(\"The log loss on Training is: \", log_loss(y_train_sm,pred_proba_t))\n",
    "\n",
    "print(\"The log loss on Test is: \", log_loss(y_test,pred_proba))"
   ]
  },
  {
   "cell_type": "markdown",
   "metadata": {},
   "source": [
    "Tuning the hyperparameters for logistic model"
   ]
  },
  {
   "cell_type": "code",
   "execution_count": 17,
   "metadata": {},
   "outputs": [
    {
     "data": {
      "text/plain": [
       "array([1.00000000e-05, 3.35981829e-05, 1.12883789e-04, 3.79269019e-04,\n",
       "       1.27427499e-03, 4.28133240e-03, 1.43844989e-02, 4.83293024e-02,\n",
       "       1.62377674e-01, 5.45559478e-01, 1.83298071e+00, 6.15848211e+00,\n",
       "       2.06913808e+01, 6.95192796e+01, 2.33572147e+02, 7.84759970e+02,\n",
       "       2.63665090e+03, 8.85866790e+03, 2.97635144e+04, 1.00000000e+05])"
      ]
     },
     "execution_count": 17,
     "metadata": {},
     "output_type": "execute_result"
    }
   ],
   "source": [
    "#regularisation strength - helps to avoid overfitting\n",
    "#range for c-values\n",
    "np.geomspace(1e-5, 1e5, num=20)"
   ]
  },
  {
   "cell_type": "code",
   "execution_count": 18,
   "metadata": {},
   "outputs": [
    {
     "name": "stdout",
     "output_type": "stream",
     "text": [
      "The classification accuracy of c parameter 1e-05 is 0.504755728491137\n",
      "The log loss of c parameter 1e-05 is 0.6834277930694388\n",
      "\n",
      "The classification accuracy of c parameter 3.359818286283781e-05 is 0.5575010808473844\n",
      "The log loss of c parameter 3.359818286283781e-05 is 0.6739013317642452\n",
      "\n",
      "The classification accuracy of c parameter 0.00011288378916846884 is 0.6642888024210981\n",
      "The log loss of c parameter 0.00011288378916846884 is 0.6470395556833095\n",
      "\n",
      "The classification accuracy of c parameter 0.000379269019073225 is 0.7003891050583657\n",
      "The log loss of c parameter 0.000379269019073225 is 0.5895120551015584\n",
      "\n",
      "The classification accuracy of c parameter 0.0012742749857031334 is 0.6869865974924341\n",
      "The log loss of c parameter 0.0012742749857031334 is 0.5276465920803488\n",
      "\n",
      "The classification accuracy of c parameter 0.004281332398719391 is 0.7561608300907912\n",
      "The log loss of c parameter 0.004281332398719391 is 0.45659891214547094\n",
      "\n",
      "The classification accuracy of c parameter 0.01438449888287663 is 0.7250324254215305\n",
      "The log loss of c parameter 0.01438449888287663 is 0.4579432455600881\n",
      "\n",
      "The classification accuracy of c parameter 0.04832930238571752 is 0.7410289667099006\n",
      "The log loss of c parameter 0.04832930238571752 is 0.4507249833869367\n",
      "\n"
     ]
    },
    {
     "name": "stderr",
     "output_type": "stream",
     "text": [
      "/opt/anaconda3/lib/python3.8/site-packages/sklearn/linear_model/_logistic.py:444: ConvergenceWarning: lbfgs failed to converge (status=1):\n",
      "STOP: TOTAL NO. of ITERATIONS REACHED LIMIT.\n",
      "\n",
      "Increase the number of iterations (max_iter) or scale the data as shown in:\n",
      "    https://scikit-learn.org/stable/modules/preprocessing.html\n",
      "Please also refer to the documentation for alternative solver options:\n",
      "    https://scikit-learn.org/stable/modules/linear_model.html#logistic-regression\n",
      "  n_iter_i = _check_optimize_result(\n"
     ]
    },
    {
     "name": "stdout",
     "output_type": "stream",
     "text": [
      "The classification accuracy of c parameter 0.1623776739188721 is 0.7760484219628189\n",
      "The log loss of c parameter 0.1623776739188721 is 0.42478541548587545\n",
      "\n",
      "The classification accuracy of c parameter 0.5455594781168515 is 0.7490272373540856\n",
      "The log loss of c parameter 0.5455594781168515 is 0.4498624269161413\n",
      "\n",
      "The classification accuracy of c parameter 1.8329807108324339 is 0.7494595763078253\n",
      "The log loss of c parameter 1.8329807108324339 is 0.44994063711796145\n",
      "\n",
      "The classification accuracy of c parameter 6.1584821106602545 is 0.7498919152615651\n",
      "The log loss of c parameter 6.1584821106602545 is 0.44996754212753387\n",
      "\n",
      "The classification accuracy of c parameter 20.6913808111479 is 0.7498919152615651\n",
      "The log loss of c parameter 20.6913808111479 is 0.44997603600335884\n",
      "\n",
      "The classification accuracy of c parameter 69.51927961775606 is 0.7498919152615651\n",
      "The log loss of c parameter 69.51927961775606 is 0.4499786075177287\n",
      "\n",
      "The classification accuracy of c parameter 233.57214690901213 is 0.7498919152615651\n",
      "The log loss of c parameter 233.57214690901213 is 0.4499793767587354\n",
      "\n",
      "The classification accuracy of c parameter 784.7599703514607 is 0.7498919152615651\n",
      "The log loss of c parameter 784.7599703514607 is 0.44997960605123377\n",
      "\n",
      "The classification accuracy of c parameter 2636.6508987303555 is 0.7498919152615651\n",
      "The log loss of c parameter 2636.6508987303555 is 0.4499796743275192\n",
      "\n",
      "The classification accuracy of c parameter 8858.667904100832 is 0.7498919152615651\n",
      "The log loss of c parameter 8858.667904100832 is 0.44997969465123033\n",
      "\n",
      "The classification accuracy of c parameter 29763.51441631313 is 0.7498919152615651\n",
      "The log loss of c parameter 29763.51441631313 is 0.4499797006978897\n",
      "\n",
      "The classification accuracy of c parameter 100000.0 is 0.7498919152615651\n",
      "The log loss of c parameter 100000.0 is 0.44997970249991315\n",
      "\n"
     ]
    }
   ],
   "source": [
    "c_list = np.geomspace(1e-5, 1e5, num=20)\n",
    "CA = []\n",
    "logarithmic_loss =[]\n",
    "\n",
    "for c in c_list:\n",
    "    logreg2 = LogisticRegression(random_state=10,C=c)\n",
    "    logreg2.fit(X_train_sm, y_train_sm)\n",
    "    score =  logreg2.score(x_test, y_test)\n",
    "    CA.append(score)\n",
    "    print(\"The classification accuracy of c parameter {} is {}\".format(c, score))\n",
    "    pred_proba_t = logreg2.predict_proba(x_test)\n",
    "    log_loss2 = log_loss(y_test,pred_proba_t)\n",
    "    logarithmic_loss.append(log_loss2)\n",
    "    print(\"The log loss of c parameter {} is {}\".format(c, log_loss2))\n",
    "    print(\"\")"
   ]
  },
  {
   "cell_type": "code",
   "execution_count": 19,
   "metadata": {},
   "outputs": [
    {
     "data": {
      "text/html": [
       "<div>\n",
       "<style scoped>\n",
       "    .dataframe tbody tr th:only-of-type {\n",
       "        vertical-align: middle;\n",
       "    }\n",
       "\n",
       "    .dataframe tbody tr th {\n",
       "        vertical-align: top;\n",
       "    }\n",
       "\n",
       "    .dataframe thead th {\n",
       "        text-align: right;\n",
       "    }\n",
       "</style>\n",
       "<table border=\"1\" class=\"dataframe\">\n",
       "  <thead>\n",
       "    <tr style=\"text-align: right;\">\n",
       "      <th></th>\n",
       "      <th>index</th>\n",
       "      <th>C_List</th>\n",
       "      <th>CA2</th>\n",
       "      <th>LOG LOSS2</th>\n",
       "    </tr>\n",
       "  </thead>\n",
       "  <tbody>\n",
       "    <tr>\n",
       "      <th>0</th>\n",
       "      <td>8</td>\n",
       "      <td>0.162378</td>\n",
       "      <td>0.776048</td>\n",
       "      <td>0.424785</td>\n",
       "    </tr>\n",
       "    <tr>\n",
       "      <th>1</th>\n",
       "      <td>9</td>\n",
       "      <td>0.545559</td>\n",
       "      <td>0.749027</td>\n",
       "      <td>0.449862</td>\n",
       "    </tr>\n",
       "    <tr>\n",
       "      <th>2</th>\n",
       "      <td>10</td>\n",
       "      <td>1.832981</td>\n",
       "      <td>0.749460</td>\n",
       "      <td>0.449941</td>\n",
       "    </tr>\n",
       "    <tr>\n",
       "      <th>3</th>\n",
       "      <td>11</td>\n",
       "      <td>6.158482</td>\n",
       "      <td>0.749892</td>\n",
       "      <td>0.449968</td>\n",
       "    </tr>\n",
       "    <tr>\n",
       "      <th>4</th>\n",
       "      <td>12</td>\n",
       "      <td>20.691381</td>\n",
       "      <td>0.749892</td>\n",
       "      <td>0.449976</td>\n",
       "    </tr>\n",
       "    <tr>\n",
       "      <th>5</th>\n",
       "      <td>13</td>\n",
       "      <td>69.519280</td>\n",
       "      <td>0.749892</td>\n",
       "      <td>0.449979</td>\n",
       "    </tr>\n",
       "    <tr>\n",
       "      <th>6</th>\n",
       "      <td>14</td>\n",
       "      <td>233.572147</td>\n",
       "      <td>0.749892</td>\n",
       "      <td>0.449979</td>\n",
       "    </tr>\n",
       "    <tr>\n",
       "      <th>7</th>\n",
       "      <td>15</td>\n",
       "      <td>784.759970</td>\n",
       "      <td>0.749892</td>\n",
       "      <td>0.449980</td>\n",
       "    </tr>\n",
       "    <tr>\n",
       "      <th>8</th>\n",
       "      <td>16</td>\n",
       "      <td>2636.650899</td>\n",
       "      <td>0.749892</td>\n",
       "      <td>0.449980</td>\n",
       "    </tr>\n",
       "    <tr>\n",
       "      <th>9</th>\n",
       "      <td>17</td>\n",
       "      <td>8858.667904</td>\n",
       "      <td>0.749892</td>\n",
       "      <td>0.449980</td>\n",
       "    </tr>\n",
       "    <tr>\n",
       "      <th>10</th>\n",
       "      <td>18</td>\n",
       "      <td>29763.514416</td>\n",
       "      <td>0.749892</td>\n",
       "      <td>0.449980</td>\n",
       "    </tr>\n",
       "    <tr>\n",
       "      <th>11</th>\n",
       "      <td>19</td>\n",
       "      <td>100000.000000</td>\n",
       "      <td>0.749892</td>\n",
       "      <td>0.449980</td>\n",
       "    </tr>\n",
       "    <tr>\n",
       "      <th>12</th>\n",
       "      <td>7</td>\n",
       "      <td>0.048329</td>\n",
       "      <td>0.741029</td>\n",
       "      <td>0.450725</td>\n",
       "    </tr>\n",
       "    <tr>\n",
       "      <th>13</th>\n",
       "      <td>5</td>\n",
       "      <td>0.004281</td>\n",
       "      <td>0.756161</td>\n",
       "      <td>0.456599</td>\n",
       "    </tr>\n",
       "    <tr>\n",
       "      <th>14</th>\n",
       "      <td>6</td>\n",
       "      <td>0.014384</td>\n",
       "      <td>0.725032</td>\n",
       "      <td>0.457943</td>\n",
       "    </tr>\n",
       "    <tr>\n",
       "      <th>15</th>\n",
       "      <td>4</td>\n",
       "      <td>0.001274</td>\n",
       "      <td>0.686987</td>\n",
       "      <td>0.527647</td>\n",
       "    </tr>\n",
       "    <tr>\n",
       "      <th>16</th>\n",
       "      <td>3</td>\n",
       "      <td>0.000379</td>\n",
       "      <td>0.700389</td>\n",
       "      <td>0.589512</td>\n",
       "    </tr>\n",
       "    <tr>\n",
       "      <th>17</th>\n",
       "      <td>2</td>\n",
       "      <td>0.000113</td>\n",
       "      <td>0.664289</td>\n",
       "      <td>0.647040</td>\n",
       "    </tr>\n",
       "    <tr>\n",
       "      <th>18</th>\n",
       "      <td>1</td>\n",
       "      <td>0.000034</td>\n",
       "      <td>0.557501</td>\n",
       "      <td>0.673901</td>\n",
       "    </tr>\n",
       "    <tr>\n",
       "      <th>19</th>\n",
       "      <td>0</td>\n",
       "      <td>0.000010</td>\n",
       "      <td>0.504756</td>\n",
       "      <td>0.683428</td>\n",
       "    </tr>\n",
       "  </tbody>\n",
       "</table>\n",
       "</div>"
      ],
      "text/plain": [
       "    index         C_List       CA2  LOG LOSS2\n",
       "0       8       0.162378  0.776048   0.424785\n",
       "1       9       0.545559  0.749027   0.449862\n",
       "2      10       1.832981  0.749460   0.449941\n",
       "3      11       6.158482  0.749892   0.449968\n",
       "4      12      20.691381  0.749892   0.449976\n",
       "5      13      69.519280  0.749892   0.449979\n",
       "6      14     233.572147  0.749892   0.449979\n",
       "7      15     784.759970  0.749892   0.449980\n",
       "8      16    2636.650899  0.749892   0.449980\n",
       "9      17    8858.667904  0.749892   0.449980\n",
       "10     18   29763.514416  0.749892   0.449980\n",
       "11     19  100000.000000  0.749892   0.449980\n",
       "12      7       0.048329  0.741029   0.450725\n",
       "13      5       0.004281  0.756161   0.456599\n",
       "14      6       0.014384  0.725032   0.457943\n",
       "15      4       0.001274  0.686987   0.527647\n",
       "16      3       0.000379  0.700389   0.589512\n",
       "17      2       0.000113  0.664289   0.647040\n",
       "18      1       0.000034  0.557501   0.673901\n",
       "19      0       0.000010  0.504756   0.683428"
      ]
     },
     "execution_count": 19,
     "metadata": {},
     "output_type": "execute_result"
    }
   ],
   "source": [
    "CA2 = np.array(CA).reshape(20,)\n",
    "logarithmic_loss2 = np.array(logarithmic_loss).reshape(20,)\n",
    "\n",
    "outcomes =  zip(c_list, CA2, logarithmic_loss2)\n",
    "\n",
    "df_outcomes = pd.DataFrame(outcomes, columns=['C_List', 'CA2', 'LOG LOSS2'])\n",
    "df_outcomes\n",
    "df_outcomes.sort_values(\"LOG LOSS2\", ascending=True).reset_index()"
   ]
  },
  {
   "cell_type": "markdown",
   "metadata": {},
   "source": [
    "c=8 is the optimal as it has the lowest log loss and very close to highest classification accuracy"
   ]
  },
  {
   "cell_type": "code",
   "execution_count": 20,
   "metadata": {},
   "outputs": [
    {
     "name": "stdout",
     "output_type": "stream",
     "text": [
      "Testing Accuracy: 0.7751837440553394\n",
      "Log Loss: 0.4254806703623069\n"
     ]
    }
   ],
   "source": [
    "#run new logistic regression using optimal paramaters\n",
    "logregnew = LogisticRegression(random_state=10,solver='lbfgs', C=0.162378, max_iter=10000)\n",
    "logregnew.fit(X_train_sm, y_train_sm)\n",
    "score =  logregnew.score(x_test, y_test)\n",
    "\n",
    "pred_proba_tnew = logregnew.predict_proba(x_test)\n",
    "log_lossnew = log_loss(y_test,pred_proba_tnew)\n",
    "\n",
    "\n",
    "print(\"Testing Accuracy:\", score) \n",
    "print(\"Log Loss:\", log_lossnew)"
   ]
  },
  {
   "cell_type": "code",
   "execution_count": 21,
   "metadata": {},
   "outputs": [],
   "source": [
    "y_pred_new = logregnew.predict(x_test)"
   ]
  },
  {
   "cell_type": "code",
   "execution_count": 22,
   "metadata": {},
   "outputs": [
    {
     "data": {
      "image/png": "[encoded data removed]",
      "text/plain": [
       "<Figure size 432x288 with 2 Axes>"
      ]
     },
     "metadata": {
      "needs_background": "light"
     },
     "output_type": "display_data"
    }
   ],
   "source": [
    "cm = confusion_matrix(y_test, y_pred_new)\n",
    "cm_norm = cm / cm.sum(axis=1).reshape(-1,1)\n",
    "cm_norm\n",
    "plot_confusion_matrix(cm_norm,classes=logregnew.classes_, title='Confusion Matrix Random Forest')"
   ]
  },
  {
   "cell_type": "markdown",
   "metadata": {},
   "source": [
    "## Random Forest"
   ]
  },
  {
   "cell_type": "code",
   "execution_count": 23,
   "metadata": {},
   "outputs": [],
   "source": [
    "rf = RandomForestClassifier(n_estimators=100)\n",
    "rf.fit(X_train_sm, y_train_sm)\n",
    "\n",
    "y_pred_rf = rf.predict(X=x_test)\n",
    "\n",
    "#probabilities\n",
    "pred_proba_rf = rf.predict_proba(x_test)\n"
   ]
  },
  {
   "cell_type": "code",
   "execution_count": 24,
   "metadata": {},
   "outputs": [
    {
     "name": "stdout",
     "output_type": "stream",
     "text": [
      "The training Accuracy is:  0.9759320175438596\n",
      "The test Accuracy is:  0.8787289234760052\n",
      "              precision    recall  f1-score   support\n",
      "\n",
      "           0       0.95      0.92      0.93      4349\n",
      "           1       0.17      0.25      0.20       277\n",
      "\n",
      "    accuracy                           0.88      4626\n",
      "   macro avg       0.56      0.59      0.57      4626\n",
      "weighted avg       0.90      0.88      0.89      4626\n",
      "\n",
      "AUCROC: 0.766659915180302\n"
     ]
    }
   ],
   "source": [
    "#evaluate model\n",
    "#on training set\n",
    "print(\"The training Accuracy is: \", rf.score(X_train_sm, y_train_sm))\n",
    "\n",
    "#test the model on unseen data - higher accuracy than training data?\n",
    "print(\"The test Accuracy is: \", rf.score(x_test, y_test))\n",
    "\n",
    "#classification report\n",
    "print(classification_report(y_test, y_pred_rf))\n",
    "\n",
    "#roc_auc\n",
    "print(\"AUCROC:\",roc_auc_score(y_test, pred_proba_rf[:,1]))"
   ]
  },
  {
   "cell_type": "code",
   "execution_count": 25,
   "metadata": {},
   "outputs": [
    {
     "data": {
      "image/png": "[encoded data removed]",
      "text/plain": [
       "<Figure size 432x288 with 2 Axes>"
      ]
     },
     "metadata": {
      "needs_background": "light"
     },
     "output_type": "display_data"
    }
   ],
   "source": [
    "cm = confusion_matrix(y_test, y_pred_rf)\n",
    "cm_norm = cm / cm.sum(axis=1).reshape(-1,1)\n",
    "cm_norm\n",
    "plot_confusion_matrix(cm_norm,classes=rf.classes_, title='Confusion Matrix Random Forest')"
   ]
  },
  {
   "cell_type": "markdown",
   "metadata": {},
   "source": [
    "Tune Parameters to find best model"
   ]
  },
  {
   "cell_type": "code",
   "execution_count": 26,
   "metadata": {},
   "outputs": [],
   "source": [
    "max_features_range = np.arange(1,6,1)\n",
    "n_estimators_range = np.arange(10,110,10)\n",
    "param_grid = dict(max_features=max_features_range, n_estimators=n_estimators_range)\n",
    "\n",
    "rf = RandomForestClassifier()\n",
    "\n",
    "grid = GridSearchCV(estimator=rf, param_grid=param_grid, cv=5)"
   ]
  },
  {
   "cell_type": "code",
   "execution_count": 27,
   "metadata": {},
   "outputs": [
    {
     "data": {
      "text/html": [
       "<style>#sk-container-id-2 {color: black;background-color: white;}#sk-container-id-2 pre{padding: 0;}#sk-container-id-2 div.sk-toggleable {background-color: white;}#sk-container-id-2 label.sk-toggleable__label {cursor: pointer;display: block;width: 100%;margin-bottom: 0;padding: 0.3em;box-sizing: border-box;text-align: center;}#sk-container-id-2 label.sk-toggleable__label-arrow:before {content: \"▸\";float: left;margin-right: 0.25em;color: #696969;}#sk-container-id-2 label.sk-toggleable__label-arrow:hover:before {color: black;}#sk-container-id-2 div.sk-estimator:hover label.sk-toggleable__label-arrow:before {color: black;}#sk-container-id-2 div.sk-toggleable__content {max-height: 0;max-width: 0;overflow: hidden;text-align: left;background-color: #f0f8ff;}#sk-container-id-2 div.sk-toggleable__content pre {margin: 0.2em;color: black;border-radius: 0.25em;background-color: #f0f8ff;}#sk-container-id-2 input.sk-toggleable__control:checked~div.sk-toggleable__content {max-height: 200px;max-width: 100%;overflow: auto;}#sk-container-id-2 input.sk-toggleable__control:checked~label.sk-toggleable__label-arrow:before {content: \"▾\";}#sk-container-id-2 div.sk-estimator input.sk-toggleable__control:checked~label.sk-toggleable__label {background-color: #d4ebff;}#sk-container-id-2 div.sk-label input.sk-toggleable__control:checked~label.sk-toggleable__label {background-color: #d4ebff;}#sk-container-id-2 input.sk-hidden--visually {border: 0;clip: rect(1px 1px 1px 1px);clip: rect(1px, 1px, 1px, 1px);height: 1px;margin: -1px;overflow: hidden;padding: 0;position: absolute;width: 1px;}#sk-container-id-2 div.sk-estimator {font-family: monospace;background-color: #f0f8ff;border: 1px dotted black;border-radius: 0.25em;box-sizing: border-box;margin-bottom: 0.5em;}#sk-container-id-2 div.sk-estimator:hover {background-color: #d4ebff;}#sk-container-id-2 div.sk-parallel-item::after {content: \"\";width: 100%;border-bottom: 1px solid gray;flex-grow: 1;}#sk-container-id-2 div.sk-label:hover label.sk-toggleable__label {background-color: #d4ebff;}#sk-container-id-2 div.sk-serial::before {content: \"\";position: absolute;border-left: 1px solid gray;box-sizing: border-box;top: 0;bottom: 0;left: 50%;z-index: 0;}#sk-container-id-2 div.sk-serial {display: flex;flex-direction: column;align-items: center;background-color: white;padding-right: 0.2em;padding-left: 0.2em;position: relative;}#sk-container-id-2 div.sk-item {position: relative;z-index: 1;}#sk-container-id-2 div.sk-parallel {display: flex;align-items: stretch;justify-content: center;background-color: white;position: relative;}#sk-container-id-2 div.sk-item::before, #sk-container-id-2 div.sk-parallel-item::before {content: \"\";position: absolute;border-left: 1px solid gray;box-sizing: border-box;top: 0;bottom: 0;left: 50%;z-index: -1;}#sk-container-id-2 div.sk-parallel-item {display: flex;flex-direction: column;z-index: 1;position: relative;background-color: white;}#sk-container-id-2 div.sk-parallel-item:first-child::after {align-self: flex-end;width: 50%;}#sk-container-id-2 div.sk-parallel-item:last-child::after {align-self: flex-start;width: 50%;}#sk-container-id-2 div.sk-parallel-item:only-child::after {width: 0;}#sk-container-id-2 div.sk-dashed-wrapped {border: 1px dashed gray;margin: 0 0.4em 0.5em 0.4em;box-sizing: border-box;padding-bottom: 0.4em;background-color: white;}#sk-container-id-2 div.sk-label label {font-family: monospace;font-weight: bold;display: inline-block;line-height: 1.2em;}#sk-container-id-2 div.sk-label-container {text-align: center;}#sk-container-id-2 div.sk-container {/* jupyter's `normalize.less` sets `[hidden] { display: none; }` but bootstrap.min.css set `[hidden] { display: none !important; }` so we also need the `!important` here to be able to override the default hidden behavior on the sphinx rendered scikit-learn.org. See: https://github.com/scikit-learn/scikit-learn/issues/21755 */display: inline-block !important;position: relative;}#sk-container-id-2 div.sk-text-repr-fallback {display: none;}</style><div id=\"sk-container-id-2\" class=\"sk-top-container\"><div class=\"sk-text-repr-fallback\"><pre>GridSearchCV(cv=5, estimator=RandomForestClassifier(),\n",
       "             param_grid={&#x27;max_features&#x27;: array([1, 2, 3, 4, 5]),\n",
       "                         &#x27;n_estimators&#x27;: array([ 10,  20,  30,  40,  50,  60,  70,  80,  90, 100])})</pre><b>In a Jupyter environment, please rerun this cell to show the HTML representation or trust the notebook. <br />On GitHub, the HTML representation is unable to render, please try loading this page with nbviewer.org.</b></div><div class=\"sk-container\" hidden><div class=\"sk-item sk-dashed-wrapped\"><div class=\"sk-label-container\"><div class=\"sk-label sk-toggleable\"><input class=\"sk-toggleable__control sk-hidden--visually\" id=\"sk-estimator-id-2\" type=\"checkbox\" ><label for=\"sk-estimator-id-2\" class=\"sk-toggleable__label sk-toggleable__label-arrow\">GridSearchCV</label><div class=\"sk-toggleable__content\"><pre>GridSearchCV(cv=5, estimator=RandomForestClassifier(),\n",
       "             param_grid={&#x27;max_features&#x27;: array([1, 2, 3, 4, 5]),\n",
       "                         &#x27;n_estimators&#x27;: array([ 10,  20,  30,  40,  50,  60,  70,  80,  90, 100])})</pre></div></div></div><div class=\"sk-parallel\"><div class=\"sk-parallel-item\"><div class=\"sk-item\"><div class=\"sk-label-container\"><div class=\"sk-label sk-toggleable\"><input class=\"sk-toggleable__control sk-hidden--visually\" id=\"sk-estimator-id-3\" type=\"checkbox\" ><label for=\"sk-estimator-id-3\" class=\"sk-toggleable__label sk-toggleable__label-arrow\">estimator: RandomForestClassifier</label><div class=\"sk-toggleable__content\"><pre>RandomForestClassifier()</pre></div></div></div><div class=\"sk-serial\"><div class=\"sk-item\"><div class=\"sk-estimator sk-toggleable\"><input class=\"sk-toggleable__control sk-hidden--visually\" id=\"sk-estimator-id-4\" type=\"checkbox\" ><label for=\"sk-estimator-id-4\" class=\"sk-toggleable__label sk-toggleable__label-arrow\">RandomForestClassifier</label><div class=\"sk-toggleable__content\"><pre>RandomForestClassifier()</pre></div></div></div></div></div></div></div></div></div></div>"
      ],
      "text/plain": [
       "GridSearchCV(cv=5, estimator=RandomForestClassifier(),\n",
       "             param_grid={'max_features': array([1, 2, 3, 4, 5]),\n",
       "                         'n_estimators': array([ 10,  20,  30,  40,  50,  60,  70,  80,  90, 100])})"
      ]
     },
     "execution_count": 27,
     "metadata": {},
     "output_type": "execute_result"
    }
   ],
   "source": [
    "grid.fit(X_train_sm,y_train_sm)"
   ]
  },
  {
   "cell_type": "code",
   "execution_count": 28,
   "metadata": {},
   "outputs": [
    {
     "name": "stdout",
     "output_type": "stream",
     "text": [
      "The best parameters are {'max_features': 2, 'n_estimators': 70} with a score of 0.93\n"
     ]
    }
   ],
   "source": [
    "print(\"The best parameters are %s with a score of %0.2f\"\n",
    "      % (grid.best_params_, grid.best_score_))"
   ]
  },
  {
   "cell_type": "markdown",
   "metadata": {},
   "source": [
    "Pass best parameters into random classifier"
   ]
  },
  {
   "cell_type": "code",
   "execution_count": 29,
   "metadata": {},
   "outputs": [
    {
     "data": {
      "text/html": [
       "<style>#sk-container-id-3 {color: black;background-color: white;}#sk-container-id-3 pre{padding: 0;}#sk-container-id-3 div.sk-toggleable {background-color: white;}#sk-container-id-3 label.sk-toggleable__label {cursor: pointer;display: block;width: 100%;margin-bottom: 0;padding: 0.3em;box-sizing: border-box;text-align: center;}#sk-container-id-3 label.sk-toggleable__label-arrow:before {content: \"▸\";float: left;margin-right: 0.25em;color: #696969;}#sk-container-id-3 label.sk-toggleable__label-arrow:hover:before {color: black;}#sk-container-id-3 div.sk-estimator:hover label.sk-toggleable__label-arrow:before {color: black;}#sk-container-id-3 div.sk-toggleable__content {max-height: 0;max-width: 0;overflow: hidden;text-align: left;background-color: #f0f8ff;}#sk-container-id-3 div.sk-toggleable__content pre {margin: 0.2em;color: black;border-radius: 0.25em;background-color: #f0f8ff;}#sk-container-id-3 input.sk-toggleable__control:checked~div.sk-toggleable__content {max-height: 200px;max-width: 100%;overflow: auto;}#sk-container-id-3 input.sk-toggleable__control:checked~label.sk-toggleable__label-arrow:before {content: \"▾\";}#sk-container-id-3 div.sk-estimator input.sk-toggleable__control:checked~label.sk-toggleable__label {background-color: #d4ebff;}#sk-container-id-3 div.sk-label input.sk-toggleable__control:checked~label.sk-toggleable__label {background-color: #d4ebff;}#sk-container-id-3 input.sk-hidden--visually {border: 0;clip: rect(1px 1px 1px 1px);clip: rect(1px, 1px, 1px, 1px);height: 1px;margin: -1px;overflow: hidden;padding: 0;position: absolute;width: 1px;}#sk-container-id-3 div.sk-estimator {font-family: monospace;background-color: #f0f8ff;border: 1px dotted black;border-radius: 0.25em;box-sizing: border-box;margin-bottom: 0.5em;}#sk-container-id-3 div.sk-estimator:hover {background-color: #d4ebff;}#sk-container-id-3 div.sk-parallel-item::after {content: \"\";width: 100%;border-bottom: 1px solid gray;flex-grow: 1;}#sk-container-id-3 div.sk-label:hover label.sk-toggleable__label {background-color: #d4ebff;}#sk-container-id-3 div.sk-serial::before {content: \"\";position: absolute;border-left: 1px solid gray;box-sizing: border-box;top: 0;bottom: 0;left: 50%;z-index: 0;}#sk-container-id-3 div.sk-serial {display: flex;flex-direction: column;align-items: center;background-color: white;padding-right: 0.2em;padding-left: 0.2em;position: relative;}#sk-container-id-3 div.sk-item {position: relative;z-index: 1;}#sk-container-id-3 div.sk-parallel {display: flex;align-items: stretch;justify-content: center;background-color: white;position: relative;}#sk-container-id-3 div.sk-item::before, #sk-container-id-3 div.sk-parallel-item::before {content: \"\";position: absolute;border-left: 1px solid gray;box-sizing: border-box;top: 0;bottom: 0;left: 50%;z-index: -1;}#sk-container-id-3 div.sk-parallel-item {display: flex;flex-direction: column;z-index: 1;position: relative;background-color: white;}#sk-container-id-3 div.sk-parallel-item:first-child::after {align-self: flex-end;width: 50%;}#sk-container-id-3 div.sk-parallel-item:last-child::after {align-self: flex-start;width: 50%;}#sk-container-id-3 div.sk-parallel-item:only-child::after {width: 0;}#sk-container-id-3 div.sk-dashed-wrapped {border: 1px dashed gray;margin: 0 0.4em 0.5em 0.4em;box-sizing: border-box;padding-bottom: 0.4em;background-color: white;}#sk-container-id-3 div.sk-label label {font-family: monospace;font-weight: bold;display: inline-block;line-height: 1.2em;}#sk-container-id-3 div.sk-label-container {text-align: center;}#sk-container-id-3 div.sk-container {/* jupyter's `normalize.less` sets `[hidden] { display: none; }` but bootstrap.min.css set `[hidden] { display: none !important; }` so we also need the `!important` here to be able to override the default hidden behavior on the sphinx rendered scikit-learn.org. See: https://github.com/scikit-learn/scikit-learn/issues/21755 */display: inline-block !important;position: relative;}#sk-container-id-3 div.sk-text-repr-fallback {display: none;}</style><div id=\"sk-container-id-3\" class=\"sk-top-container\"><div class=\"sk-text-repr-fallback\"><pre>RandomForestClassifier(max_features=2, n_estimators=70)</pre><b>In a Jupyter environment, please rerun this cell to show the HTML representation or trust the notebook. <br />On GitHub, the HTML representation is unable to render, please try loading this page with nbviewer.org.</b></div><div class=\"sk-container\" hidden><div class=\"sk-item\"><div class=\"sk-estimator sk-toggleable\"><input class=\"sk-toggleable__control sk-hidden--visually\" id=\"sk-estimator-id-5\" type=\"checkbox\" checked><label for=\"sk-estimator-id-5\" class=\"sk-toggleable__label sk-toggleable__label-arrow\">RandomForestClassifier</label><div class=\"sk-toggleable__content\"><pre>RandomForestClassifier(max_features=2, n_estimators=70)</pre></div></div></div></div></div>"
      ],
      "text/plain": [
       "RandomForestClassifier(max_features=2, n_estimators=70)"
      ]
     },
     "execution_count": 29,
     "metadata": {},
     "output_type": "execute_result"
    }
   ],
   "source": [
    "rf_new = RandomForestClassifier(max_features=2, n_estimators=70)\n",
    "rf_new.fit(X_train_sm, y_train_sm)"
   ]
  },
  {
   "cell_type": "code",
   "execution_count": 30,
   "metadata": {},
   "outputs": [],
   "source": [
    "y_pred_rf_new = rf_new.predict(x_test)\n",
    "\n",
    "pred_proba_rf_new = rf_new.predict_proba(x_test)"
   ]
  },
  {
   "cell_type": "code",
   "execution_count": 31,
   "metadata": {},
   "outputs": [
    {
     "name": "stdout",
     "output_type": "stream",
     "text": [
      "The training Accuracy is:  0.9758771929824561\n",
      "The test Accuracy is:  0.8772157371379161\n",
      "              precision    recall  f1-score   support\n",
      "\n",
      "           0       0.95      0.92      0.93      4349\n",
      "           1       0.16      0.26      0.20       277\n",
      "\n",
      "    accuracy                           0.88      4626\n",
      "   macro avg       0.56      0.59      0.57      4626\n",
      "weighted avg       0.90      0.88      0.89      4626\n",
      "\n",
      "AUCROC: 0.7465312163549778\n"
     ]
    }
   ],
   "source": [
    "#evaluate model\n",
    "#on training set\n",
    "print(\"The training Accuracy is: \", rf_new.score(X_train_sm, y_train_sm))\n",
    "\n",
    "#test the model on unseen data - higher accuracy than training data?\n",
    "print(\"The test Accuracy is: \", rf_new.score(x_test, y_test))\n",
    "\n",
    "#classification report\n",
    "print(classification_report(y_test, y_pred_rf_new))\n",
    "\n",
    "#roc_auc\n",
    "print(\"AUCROC:\",roc_auc_score(y_test, pred_proba_rf_new[:,1]))"
   ]
  },
  {
   "cell_type": "markdown",
   "metadata": {},
   "source": [
    "## Random Forest with SMOTE"
   ]
  },
  {
   "cell_type": "code",
   "execution_count": 32,
   "metadata": {},
   "outputs": [
    {
     "name": "stdout",
     "output_type": "stream",
     "text": [
      "(15420, 15)\n",
      "(15420,)\n"
     ]
    }
   ],
   "source": [
    "print(x.shape)\n",
    "print(y.shape)"
   ]
  },
  {
   "cell_type": "code",
   "execution_count": 33,
   "metadata": {},
   "outputs": [
    {
     "name": "stdout",
     "output_type": "stream",
     "text": [
      "Mean f1: 0.931\n",
      "Mean recall: 0.954\n",
      "Mean precision: 0.909\n"
     ]
    }
   ],
   "source": [
    "from sklearn.model_selection import cross_validate\n",
    "from sklearn.model_selection import RepeatedStratifiedKFold\n",
    "from statistics import mean\n",
    "\n",
    "#Use SMOTE to oversample the minority class\n",
    "oversample = SMOTE()\n",
    "over_X, over_y = oversample.fit_resample(x, y)\n",
    "over_X_train, over_X_test, over_y_train, over_y_test = train_test_split(over_X, over_y, test_size=0.2, stratify=over_y)\n",
    "\n",
    "#Build SMOTE SRF model\n",
    "SMOTE_SRF = RandomForestClassifier(n_estimators=150, random_state=0)\n",
    "#Create Stratified K-fold cross validation\n",
    "cv = RepeatedStratifiedKFold(n_splits=10, n_repeats=3, random_state=1)\n",
    "scoring = ('f1', 'recall', 'precision')\n",
    "\n",
    "#Evaluate SMOTE SRF model\n",
    "scores = cross_validate(SMOTE_SRF, over_X, over_y, scoring=scoring, cv=cv)\n",
    "#Get average evaluation metrics\n",
    "print('Mean f1: %.3f' % mean(scores['test_f1']))\n",
    "print('Mean recall: %.3f' % mean(scores['test_recall']))\n",
    "print('Mean precision: %.3f' % mean(scores['test_precision']))"
   ]
  },
  {
   "cell_type": "code",
   "execution_count": 34,
   "metadata": {},
   "outputs": [],
   "source": [
    "#Randomly spilt dataset to test and train set\n",
    "X_train, X_test, y_train, Y_test = train_test_split(x, y, test_size=0.1, stratify=y)\n",
    "#Train SMOTE SRF\n",
    "SMOTE_SRF.fit(over_X_train, over_y_train)\n",
    "#SMOTE SRF prediction result\n",
    "y_pred_srf = SMOTE_SRF.predict(X_test)\n",
    "\n",
    "#probabilities\n",
    "pred_proba_srf = SMOTE_SRF.predict_proba(X_test)"
   ]
  },
  {
   "cell_type": "code",
   "execution_count": 35,
   "metadata": {},
   "outputs": [
    {
     "name": "stdout",
     "output_type": "stream",
     "text": [
      "The training Accuracy is:  0.9734425522741971\n",
      "The test Accuracy is:  0.9416342412451362\n",
      "              precision    recall  f1-score   support\n",
      "\n",
      "           0       0.99      0.95      0.97      1450\n",
      "           1       0.51      0.82      0.62        92\n",
      "\n",
      "    accuracy                           0.94      1542\n",
      "   macro avg       0.75      0.88      0.80      1542\n",
      "weighted avg       0.96      0.94      0.95      1542\n",
      "\n",
      "AUCROC: 0.9444452773613194\n"
     ]
    }
   ],
   "source": [
    "#evaluate model\n",
    "#on training set\n",
    "print(\"The training Accuracy is: \", SMOTE_SRF.score(over_X_train, over_y_train))\n",
    "\n",
    "#test the model on unseen data - higher accuracy than training data?\n",
    "print(\"The test Accuracy is: \", SMOTE_SRF.score(X_test, Y_test))\n",
    "\n",
    "#classification report\n",
    "print(classification_report(Y_test, y_pred_srf))\n",
    "\n",
    "#roc_auc\n",
    "print(\"AUCROC:\",roc_auc_score(Y_test, pred_proba_srf[:,1]))"
   ]
  },
  {
   "cell_type": "code",
   "execution_count": 36,
   "metadata": {},
   "outputs": [
    {
     "data": {
      "image/png": "[encoded data removed]",
      "text/plain": [
       "<Figure size 432x288 with 2 Axes>"
      ]
     },
     "metadata": {
      "needs_background": "light"
     },
     "output_type": "display_data"
    }
   ],
   "source": [
    "cm = confusion_matrix(Y_test, y_pred_srf)\n",
    "cm_norm = cm / cm.sum(axis=1).reshape(-1,1)\n",
    "\n",
    "plot_confusion_matrix(cm_norm,classes=SMOTE_SRF.classes_, title='Confusion Matrix')\n",
    "plt.show()"
   ]
  },
  {
   "cell_type": "markdown",
   "metadata": {},
   "source": [
    "Significantly increased the performance of the test accuracy - 87% - 93%"
   ]
  },
  {
   "cell_type": "markdown",
   "metadata": {},
   "source": [
    "## XGBoost"
   ]
  },
  {
   "cell_type": "markdown",
   "metadata": {},
   "source": [
    "Uses randomised CV search to find the best parameters from the start - this is because it would require to build multiple models"
   ]
  },
  {
   "cell_type": "code",
   "execution_count": 37,
   "metadata": {},
   "outputs": [
    {
     "name": "stderr",
     "output_type": "stream",
     "text": [
      "/opt/anaconda3/lib/python3.8/site-packages/xgboost/sklearn.py:888: UserWarning: The use of label encoder in XGBClassifier is deprecated and will be removed in a future release. To remove this warning, do the following: 1) Pass option use_label_encoder=False when constructing XGBClassifier object; and 2) Encode your labels (y) as integers starting with 0, i.e. 0, 1, 2, ..., [num_class - 1].\n",
      "  warnings.warn(label_encoder_deprecation_msg, UserWarning)\n"
     ]
    },
    {
     "name": "stdout",
     "output_type": "stream",
     "text": [
      "[11:47:14] WARNING: /Users/travis/build/dmlc/xgboost/src/learner.cc:1061: Starting in XGBoost 1.3.0, the default evaluation metric used with the objective 'binary:logistic' was changed from 'error' to 'logloss'. Explicitly set eval_metric if you'd like to restore the old behavior.\n"
     ]
    }
   ],
   "source": [
    "import xgboost\n",
    "\n",
    "xgb=xgboost.XGBClassifier()\n",
    "\n",
    "xgb.fit(X_train_sm, y_train_sm)\n",
    "\n",
    "y_pred_xgb = xgb.predict(x_test)\n",
    "\n",
    "#probabilities\n",
    "pred_proba_xgb = xgb.predict_proba(x_test)\n"
   ]
  },
  {
   "cell_type": "code",
   "execution_count": 38,
   "metadata": {},
   "outputs": [
    {
     "name": "stdout",
     "output_type": "stream",
     "text": [
      "The training Accuracy is:  0.9360197368421053\n",
      "The test Accuracy is:  0.8573281452658884\n",
      "              precision    recall  f1-score   support\n",
      "\n",
      "           0       0.96      0.88      0.92      4349\n",
      "           1       0.19      0.43      0.26       277\n",
      "\n",
      "    accuracy                           0.86      4626\n",
      "   macro avg       0.58      0.66      0.59      4626\n",
      "weighted avg       0.91      0.86      0.88      4626\n",
      "\n",
      "AUCROC: 0.813482579920028\n"
     ]
    }
   ],
   "source": [
    "#evaluate model\n",
    "#on training set\n",
    "print(\"The training Accuracy is: \", xgb.score(X_train_sm, y_train_sm))\n",
    "\n",
    "#test the model on unseen data - higher accuracy than training data?\n",
    "print(\"The test Accuracy is: \", xgb.score(x_test, y_test))\n",
    "\n",
    "#classification report\n",
    "print(classification_report(y_test, y_pred_xgb))\n",
    "\n",
    "#roc_auc\n",
    "print(\"AUCROC:\",roc_auc_score(y_test, pred_proba_xgb[:,1]))"
   ]
  },
  {
   "cell_type": "code",
   "execution_count": 39,
   "metadata": {},
   "outputs": [
    {
     "data": {
      "image/png": "[encoded data removed]",
      "text/plain": [
       "<Figure size 432x288 with 2 Axes>"
      ]
     },
     "metadata": {
      "needs_background": "light"
     },
     "output_type": "display_data"
    }
   ],
   "source": [
    "cm = confusion_matrix(y_test, y_pred_xgb)\n",
    "cm_norm = cm / cm.sum(axis=1).reshape(-1,1)\n",
    "\n",
    "plot_confusion_matrix(cm_norm,classes=xgb.classes_, title='Confusion Matrix')"
   ]
  },
  {
   "cell_type": "markdown",
   "metadata": {},
   "source": [
    "Tune Model"
   ]
  },
  {
   "cell_type": "code",
   "execution_count": 40,
   "metadata": {},
   "outputs": [
    {
     "name": "stdout",
     "output_type": "stream",
     "text": [
      "Fitting 5 folds for each of 5 candidates, totalling 25 fits\n",
      "[11:47:32] WARNING: /Users/travis/build/dmlc/xgboost/src/learner.cc:1061: Starting in XGBoost 1.3.0, the default evaluation metric used with the objective 'binary:logistic' was changed from 'error' to 'logloss'. Explicitly set eval_metric if you'd like to restore the old behavior.\n",
      "[CV 1/5] END colsample_bytree=0.7, gamma=0.3, learning_rate=0.3, max_depth=2, min_child_weight=7;, score=0.898 total time=   0.2s\n",
      "[11:47:32] WARNING: /Users/travis/build/dmlc/xgboost/src/learner.cc:1061: Starting in XGBoost 1.3.0, the default evaluation metric used with the objective 'binary:logistic' was changed from 'error' to 'logloss'. Explicitly set eval_metric if you'd like to restore the old behavior.\n"
     ]
    },
    {
     "name": "stderr",
     "output_type": "stream",
     "text": [
      "/opt/anaconda3/lib/python3.8/site-packages/xgboost/sklearn.py:888: UserWarning: The use of label encoder in XGBClassifier is deprecated and will be removed in a future release. To remove this warning, do the following: 1) Pass option use_label_encoder=False when constructing XGBClassifier object; and 2) Encode your labels (y) as integers starting with 0, i.e. 0, 1, 2, ..., [num_class - 1].\n",
      "  warnings.warn(label_encoder_deprecation_msg, UserWarning)\n",
      "/opt/anaconda3/lib/python3.8/site-packages/xgboost/sklearn.py:888: UserWarning: The use of label encoder in XGBClassifier is deprecated and will be removed in a future release. To remove this warning, do the following: 1) Pass option use_label_encoder=False when constructing XGBClassifier object; and 2) Encode your labels (y) as integers starting with 0, i.e. 0, 1, 2, ..., [num_class - 1].\n",
      "  warnings.warn(label_encoder_deprecation_msg, UserWarning)\n"
     ]
    },
    {
     "name": "stdout",
     "output_type": "stream",
     "text": [
      "[CV 2/5] END colsample_bytree=0.7, gamma=0.3, learning_rate=0.3, max_depth=2, min_child_weight=7;, score=0.946 total time=   0.2s\n",
      "[11:47:32] WARNING: /Users/travis/build/dmlc/xgboost/src/learner.cc:1061: Starting in XGBoost 1.3.0, the default evaluation metric used with the objective 'binary:logistic' was changed from 'error' to 'logloss'. Explicitly set eval_metric if you'd like to restore the old behavior.\n",
      "[CV 3/5] END colsample_bytree=0.7, gamma=0.3, learning_rate=0.3, max_depth=2, min_child_weight=7;, score=0.946 total time=   0.1s\n",
      "[11:47:32] WARNING: /Users/travis/build/dmlc/xgboost/src/learner.cc:1061: Starting in XGBoost 1.3.0, the default evaluation metric used with the objective 'binary:logistic' was changed from 'error' to 'logloss'. Explicitly set eval_metric if you'd like to restore the old behavior.\n"
     ]
    },
    {
     "name": "stderr",
     "output_type": "stream",
     "text": [
      "/opt/anaconda3/lib/python3.8/site-packages/xgboost/sklearn.py:888: UserWarning: The use of label encoder in XGBClassifier is deprecated and will be removed in a future release. To remove this warning, do the following: 1) Pass option use_label_encoder=False when constructing XGBClassifier object; and 2) Encode your labels (y) as integers starting with 0, i.e. 0, 1, 2, ..., [num_class - 1].\n",
      "  warnings.warn(label_encoder_deprecation_msg, UserWarning)\n",
      "/opt/anaconda3/lib/python3.8/site-packages/xgboost/sklearn.py:888: UserWarning: The use of label encoder in XGBClassifier is deprecated and will be removed in a future release. To remove this warning, do the following: 1) Pass option use_label_encoder=False when constructing XGBClassifier object; and 2) Encode your labels (y) as integers starting with 0, i.e. 0, 1, 2, ..., [num_class - 1].\n",
      "  warnings.warn(label_encoder_deprecation_msg, UserWarning)\n"
     ]
    },
    {
     "name": "stdout",
     "output_type": "stream",
     "text": [
      "[CV 4/5] END colsample_bytree=0.7, gamma=0.3, learning_rate=0.3, max_depth=2, min_child_weight=7;, score=0.939 total time=   0.2s\n",
      "[11:47:33] WARNING: /Users/travis/build/dmlc/xgboost/src/learner.cc:1061: Starting in XGBoost 1.3.0, the default evaluation metric used with the objective 'binary:logistic' was changed from 'error' to 'logloss'. Explicitly set eval_metric if you'd like to restore the old behavior.\n",
      "[CV 5/5] END colsample_bytree=0.7, gamma=0.3, learning_rate=0.3, max_depth=2, min_child_weight=7;, score=0.941 total time=   0.1s\n",
      "[11:47:33] WARNING: /Users/travis/build/dmlc/xgboost/src/learner.cc:1061: Starting in XGBoost 1.3.0, the default evaluation metric used with the objective 'binary:logistic' was changed from 'error' to 'logloss'. Explicitly set eval_metric if you'd like to restore the old behavior.\n"
     ]
    },
    {
     "name": "stderr",
     "output_type": "stream",
     "text": [
      "/opt/anaconda3/lib/python3.8/site-packages/xgboost/sklearn.py:888: UserWarning: The use of label encoder in XGBClassifier is deprecated and will be removed in a future release. To remove this warning, do the following: 1) Pass option use_label_encoder=False when constructing XGBClassifier object; and 2) Encode your labels (y) as integers starting with 0, i.e. 0, 1, 2, ..., [num_class - 1].\n",
      "  warnings.warn(label_encoder_deprecation_msg, UserWarning)\n",
      "/opt/anaconda3/lib/python3.8/site-packages/xgboost/sklearn.py:888: UserWarning: The use of label encoder in XGBClassifier is deprecated and will be removed in a future release. To remove this warning, do the following: 1) Pass option use_label_encoder=False when constructing XGBClassifier object; and 2) Encode your labels (y) as integers starting with 0, i.e. 0, 1, 2, ..., [num_class - 1].\n",
      "  warnings.warn(label_encoder_deprecation_msg, UserWarning)\n"
     ]
    },
    {
     "name": "stdout",
     "output_type": "stream",
     "text": [
      "[CV 1/5] END colsample_bytree=0.3, gamma=0.3, learning_rate=0.2, max_depth=12, min_child_weight=7;, score=0.921 total time=   0.4s\n",
      "[11:47:33] WARNING: /Users/travis/build/dmlc/xgboost/src/learner.cc:1061: Starting in XGBoost 1.3.0, the default evaluation metric used with the objective 'binary:logistic' was changed from 'error' to 'logloss'. Explicitly set eval_metric if you'd like to restore the old behavior.\n"
     ]
    },
    {
     "name": "stderr",
     "output_type": "stream",
     "text": [
      "/opt/anaconda3/lib/python3.8/site-packages/xgboost/sklearn.py:888: UserWarning: The use of label encoder in XGBClassifier is deprecated and will be removed in a future release. To remove this warning, do the following: 1) Pass option use_label_encoder=False when constructing XGBClassifier object; and 2) Encode your labels (y) as integers starting with 0, i.e. 0, 1, 2, ..., [num_class - 1].\n",
      "  warnings.warn(label_encoder_deprecation_msg, UserWarning)\n"
     ]
    },
    {
     "name": "stdout",
     "output_type": "stream",
     "text": [
      "[CV 2/5] END colsample_bytree=0.3, gamma=0.3, learning_rate=0.2, max_depth=12, min_child_weight=7;, score=0.963 total time=   0.4s\n",
      "[11:47:34] WARNING: /Users/travis/build/dmlc/xgboost/src/learner.cc:1061: Starting in XGBoost 1.3.0, the default evaluation metric used with the objective 'binary:logistic' was changed from 'error' to 'logloss'. Explicitly set eval_metric if you'd like to restore the old behavior.\n"
     ]
    },
    {
     "name": "stderr",
     "output_type": "stream",
     "text": [
      "/opt/anaconda3/lib/python3.8/site-packages/xgboost/sklearn.py:888: UserWarning: The use of label encoder in XGBClassifier is deprecated and will be removed in a future release. To remove this warning, do the following: 1) Pass option use_label_encoder=False when constructing XGBClassifier object; and 2) Encode your labels (y) as integers starting with 0, i.e. 0, 1, 2, ..., [num_class - 1].\n",
      "  warnings.warn(label_encoder_deprecation_msg, UserWarning)\n"
     ]
    },
    {
     "name": "stdout",
     "output_type": "stream",
     "text": [
      "[CV 3/5] END colsample_bytree=0.3, gamma=0.3, learning_rate=0.2, max_depth=12, min_child_weight=7;, score=0.961 total time=   0.4s\n",
      "[11:47:34] WARNING: /Users/travis/build/dmlc/xgboost/src/learner.cc:1061: Starting in XGBoost 1.3.0, the default evaluation metric used with the objective 'binary:logistic' was changed from 'error' to 'logloss'. Explicitly set eval_metric if you'd like to restore the old behavior.\n"
     ]
    },
    {
     "name": "stderr",
     "output_type": "stream",
     "text": [
      "/opt/anaconda3/lib/python3.8/site-packages/xgboost/sklearn.py:888: UserWarning: The use of label encoder in XGBClassifier is deprecated and will be removed in a future release. To remove this warning, do the following: 1) Pass option use_label_encoder=False when constructing XGBClassifier object; and 2) Encode your labels (y) as integers starting with 0, i.e. 0, 1, 2, ..., [num_class - 1].\n",
      "  warnings.warn(label_encoder_deprecation_msg, UserWarning)\n"
     ]
    },
    {
     "name": "stdout",
     "output_type": "stream",
     "text": [
      "[CV 4/5] END colsample_bytree=0.3, gamma=0.3, learning_rate=0.2, max_depth=12, min_child_weight=7;, score=0.958 total time=   0.4s\n",
      "[11:47:34] WARNING: /Users/travis/build/dmlc/xgboost/src/learner.cc:1061: Starting in XGBoost 1.3.0, the default evaluation metric used with the objective 'binary:logistic' was changed from 'error' to 'logloss'. Explicitly set eval_metric if you'd like to restore the old behavior.\n"
     ]
    },
    {
     "name": "stderr",
     "output_type": "stream",
     "text": [
      "/opt/anaconda3/lib/python3.8/site-packages/xgboost/sklearn.py:888: UserWarning: The use of label encoder in XGBClassifier is deprecated and will be removed in a future release. To remove this warning, do the following: 1) Pass option use_label_encoder=False when constructing XGBClassifier object; and 2) Encode your labels (y) as integers starting with 0, i.e. 0, 1, 2, ..., [num_class - 1].\n",
      "  warnings.warn(label_encoder_deprecation_msg, UserWarning)\n"
     ]
    },
    {
     "name": "stdout",
     "output_type": "stream",
     "text": [
      "[CV 5/5] END colsample_bytree=0.3, gamma=0.3, learning_rate=0.2, max_depth=12, min_child_weight=7;, score=0.960 total time=   0.4s\n",
      "[11:47:35] WARNING: /Users/travis/build/dmlc/xgboost/src/learner.cc:1061: Starting in XGBoost 1.3.0, the default evaluation metric used with the objective 'binary:logistic' was changed from 'error' to 'logloss'. Explicitly set eval_metric if you'd like to restore the old behavior.\n"
     ]
    },
    {
     "name": "stderr",
     "output_type": "stream",
     "text": [
      "/opt/anaconda3/lib/python3.8/site-packages/xgboost/sklearn.py:888: UserWarning: The use of label encoder in XGBClassifier is deprecated and will be removed in a future release. To remove this warning, do the following: 1) Pass option use_label_encoder=False when constructing XGBClassifier object; and 2) Encode your labels (y) as integers starting with 0, i.e. 0, 1, 2, ..., [num_class - 1].\n",
      "  warnings.warn(label_encoder_deprecation_msg, UserWarning)\n"
     ]
    },
    {
     "name": "stdout",
     "output_type": "stream",
     "text": [
      "[CV 1/5] END colsample_bytree=0.3, gamma=0.1, learning_rate=0.25, max_depth=12, min_child_weight=5;, score=0.925 total time=   0.4s\n",
      "[11:47:35] WARNING: /Users/travis/build/dmlc/xgboost/src/learner.cc:1061: Starting in XGBoost 1.3.0, the default evaluation metric used with the objective 'binary:logistic' was changed from 'error' to 'logloss'. Explicitly set eval_metric if you'd like to restore the old behavior.\n"
     ]
    },
    {
     "name": "stderr",
     "output_type": "stream",
     "text": [
      "/opt/anaconda3/lib/python3.8/site-packages/xgboost/sklearn.py:888: UserWarning: The use of label encoder in XGBClassifier is deprecated and will be removed in a future release. To remove this warning, do the following: 1) Pass option use_label_encoder=False when constructing XGBClassifier object; and 2) Encode your labels (y) as integers starting with 0, i.e. 0, 1, 2, ..., [num_class - 1].\n",
      "  warnings.warn(label_encoder_deprecation_msg, UserWarning)\n"
     ]
    },
    {
     "name": "stdout",
     "output_type": "stream",
     "text": [
      "[CV 2/5] END colsample_bytree=0.3, gamma=0.1, learning_rate=0.25, max_depth=12, min_child_weight=5;, score=0.965 total time=   0.5s\n",
      "[11:47:36] WARNING: /Users/travis/build/dmlc/xgboost/src/learner.cc:1061: Starting in XGBoost 1.3.0, the default evaluation metric used with the objective 'binary:logistic' was changed from 'error' to 'logloss'. Explicitly set eval_metric if you'd like to restore the old behavior.\n"
     ]
    },
    {
     "name": "stderr",
     "output_type": "stream",
     "text": [
      "/opt/anaconda3/lib/python3.8/site-packages/xgboost/sklearn.py:888: UserWarning: The use of label encoder in XGBClassifier is deprecated and will be removed in a future release. To remove this warning, do the following: 1) Pass option use_label_encoder=False when constructing XGBClassifier object; and 2) Encode your labels (y) as integers starting with 0, i.e. 0, 1, 2, ..., [num_class - 1].\n",
      "  warnings.warn(label_encoder_deprecation_msg, UserWarning)\n"
     ]
    },
    {
     "name": "stdout",
     "output_type": "stream",
     "text": [
      "[CV 3/5] END colsample_bytree=0.3, gamma=0.1, learning_rate=0.25, max_depth=12, min_child_weight=5;, score=0.964 total time=   0.4s\n",
      "[11:47:36] WARNING: /Users/travis/build/dmlc/xgboost/src/learner.cc:1061: Starting in XGBoost 1.3.0, the default evaluation metric used with the objective 'binary:logistic' was changed from 'error' to 'logloss'. Explicitly set eval_metric if you'd like to restore the old behavior.\n"
     ]
    },
    {
     "name": "stderr",
     "output_type": "stream",
     "text": [
      "/opt/anaconda3/lib/python3.8/site-packages/xgboost/sklearn.py:888: UserWarning: The use of label encoder in XGBClassifier is deprecated and will be removed in a future release. To remove this warning, do the following: 1) Pass option use_label_encoder=False when constructing XGBClassifier object; and 2) Encode your labels (y) as integers starting with 0, i.e. 0, 1, 2, ..., [num_class - 1].\n",
      "  warnings.warn(label_encoder_deprecation_msg, UserWarning)\n"
     ]
    },
    {
     "name": "stdout",
     "output_type": "stream",
     "text": [
      "[CV 4/5] END colsample_bytree=0.3, gamma=0.1, learning_rate=0.25, max_depth=12, min_child_weight=5;, score=0.960 total time=   0.4s\n",
      "[11:47:37] WARNING: /Users/travis/build/dmlc/xgboost/src/learner.cc:1061: Starting in XGBoost 1.3.0, the default evaluation metric used with the objective 'binary:logistic' was changed from 'error' to 'logloss'. Explicitly set eval_metric if you'd like to restore the old behavior.\n"
     ]
    },
    {
     "name": "stderr",
     "output_type": "stream",
     "text": [
      "/opt/anaconda3/lib/python3.8/site-packages/xgboost/sklearn.py:888: UserWarning: The use of label encoder in XGBClassifier is deprecated and will be removed in a future release. To remove this warning, do the following: 1) Pass option use_label_encoder=False when constructing XGBClassifier object; and 2) Encode your labels (y) as integers starting with 0, i.e. 0, 1, 2, ..., [num_class - 1].\n",
      "  warnings.warn(label_encoder_deprecation_msg, UserWarning)\n"
     ]
    },
    {
     "name": "stdout",
     "output_type": "stream",
     "text": [
      "[CV 5/5] END colsample_bytree=0.3, gamma=0.1, learning_rate=0.25, max_depth=12, min_child_weight=5;, score=0.962 total time=   0.4s\n",
      "[11:47:37] WARNING: /Users/travis/build/dmlc/xgboost/src/learner.cc:1061: Starting in XGBoost 1.3.0, the default evaluation metric used with the objective 'binary:logistic' was changed from 'error' to 'logloss'. Explicitly set eval_metric if you'd like to restore the old behavior.\n"
     ]
    },
    {
     "name": "stderr",
     "output_type": "stream",
     "text": [
      "/opt/anaconda3/lib/python3.8/site-packages/xgboost/sklearn.py:888: UserWarning: The use of label encoder in XGBClassifier is deprecated and will be removed in a future release. To remove this warning, do the following: 1) Pass option use_label_encoder=False when constructing XGBClassifier object; and 2) Encode your labels (y) as integers starting with 0, i.e. 0, 1, 2, ..., [num_class - 1].\n",
      "  warnings.warn(label_encoder_deprecation_msg, UserWarning)\n"
     ]
    },
    {
     "name": "stdout",
     "output_type": "stream",
     "text": [
      "[CV 1/5] END colsample_bytree=0.3, gamma=0.2, learning_rate=0.25, max_depth=5, min_child_weight=5;, score=0.914 total time=   0.2s\n",
      "[11:47:37] WARNING: /Users/travis/build/dmlc/xgboost/src/learner.cc:1061: Starting in XGBoost 1.3.0, the default evaluation metric used with the objective 'binary:logistic' was changed from 'error' to 'logloss'. Explicitly set eval_metric if you'd like to restore the old behavior.\n"
     ]
    },
    {
     "name": "stderr",
     "output_type": "stream",
     "text": [
      "/opt/anaconda3/lib/python3.8/site-packages/xgboost/sklearn.py:888: UserWarning: The use of label encoder in XGBClassifier is deprecated and will be removed in a future release. To remove this warning, do the following: 1) Pass option use_label_encoder=False when constructing XGBClassifier object; and 2) Encode your labels (y) as integers starting with 0, i.e. 0, 1, 2, ..., [num_class - 1].\n",
      "  warnings.warn(label_encoder_deprecation_msg, UserWarning)\n"
     ]
    },
    {
     "name": "stdout",
     "output_type": "stream",
     "text": [
      "[CV 2/5] END colsample_bytree=0.3, gamma=0.2, learning_rate=0.25, max_depth=5, min_child_weight=5;, score=0.957 total time=   0.2s\n",
      "[11:47:37] WARNING: /Users/travis/build/dmlc/xgboost/src/learner.cc:1061: Starting in XGBoost 1.3.0, the default evaluation metric used with the objective 'binary:logistic' was changed from 'error' to 'logloss'. Explicitly set eval_metric if you'd like to restore the old behavior.\n"
     ]
    },
    {
     "name": "stderr",
     "output_type": "stream",
     "text": [
      "/opt/anaconda3/lib/python3.8/site-packages/xgboost/sklearn.py:888: UserWarning: The use of label encoder in XGBClassifier is deprecated and will be removed in a future release. To remove this warning, do the following: 1) Pass option use_label_encoder=False when constructing XGBClassifier object; and 2) Encode your labels (y) as integers starting with 0, i.e. 0, 1, 2, ..., [num_class - 1].\n",
      "  warnings.warn(label_encoder_deprecation_msg, UserWarning)\n"
     ]
    },
    {
     "name": "stdout",
     "output_type": "stream",
     "text": [
      "[CV 3/5] END colsample_bytree=0.3, gamma=0.2, learning_rate=0.25, max_depth=5, min_child_weight=5;, score=0.957 total time=   0.2s\n",
      "[11:47:38] WARNING: /Users/travis/build/dmlc/xgboost/src/learner.cc:1061: Starting in XGBoost 1.3.0, the default evaluation metric used with the objective 'binary:logistic' was changed from 'error' to 'logloss'. Explicitly set eval_metric if you'd like to restore the old behavior.\n"
     ]
    },
    {
     "name": "stderr",
     "output_type": "stream",
     "text": [
      "/opt/anaconda3/lib/python3.8/site-packages/xgboost/sklearn.py:888: UserWarning: The use of label encoder in XGBClassifier is deprecated and will be removed in a future release. To remove this warning, do the following: 1) Pass option use_label_encoder=False when constructing XGBClassifier object; and 2) Encode your labels (y) as integers starting with 0, i.e. 0, 1, 2, ..., [num_class - 1].\n",
      "  warnings.warn(label_encoder_deprecation_msg, UserWarning)\n"
     ]
    },
    {
     "name": "stdout",
     "output_type": "stream",
     "text": [
      "[CV 4/5] END colsample_bytree=0.3, gamma=0.2, learning_rate=0.25, max_depth=5, min_child_weight=5;, score=0.951 total time=   0.3s\n",
      "[11:47:38] WARNING: /Users/travis/build/dmlc/xgboost/src/learner.cc:1061: Starting in XGBoost 1.3.0, the default evaluation metric used with the objective 'binary:logistic' was changed from 'error' to 'logloss'. Explicitly set eval_metric if you'd like to restore the old behavior.\n"
     ]
    },
    {
     "name": "stderr",
     "output_type": "stream",
     "text": [
      "/opt/anaconda3/lib/python3.8/site-packages/xgboost/sklearn.py:888: UserWarning: The use of label encoder in XGBClassifier is deprecated and will be removed in a future release. To remove this warning, do the following: 1) Pass option use_label_encoder=False when constructing XGBClassifier object; and 2) Encode your labels (y) as integers starting with 0, i.e. 0, 1, 2, ..., [num_class - 1].\n",
      "  warnings.warn(label_encoder_deprecation_msg, UserWarning)\n"
     ]
    },
    {
     "name": "stdout",
     "output_type": "stream",
     "text": [
      "[CV 5/5] END colsample_bytree=0.3, gamma=0.2, learning_rate=0.25, max_depth=5, min_child_weight=5;, score=0.955 total time=   0.3s\n",
      "[11:47:38] WARNING: /Users/travis/build/dmlc/xgboost/src/learner.cc:1061: Starting in XGBoost 1.3.0, the default evaluation metric used with the objective 'binary:logistic' was changed from 'error' to 'logloss'. Explicitly set eval_metric if you'd like to restore the old behavior.\n"
     ]
    },
    {
     "name": "stderr",
     "output_type": "stream",
     "text": [
      "/opt/anaconda3/lib/python3.8/site-packages/xgboost/sklearn.py:888: UserWarning: The use of label encoder in XGBClassifier is deprecated and will be removed in a future release. To remove this warning, do the following: 1) Pass option use_label_encoder=False when constructing XGBClassifier object; and 2) Encode your labels (y) as integers starting with 0, i.e. 0, 1, 2, ..., [num_class - 1].\n",
      "  warnings.warn(label_encoder_deprecation_msg, UserWarning)\n"
     ]
    },
    {
     "name": "stdout",
     "output_type": "stream",
     "text": [
      "[CV 1/5] END colsample_bytree=0.7, gamma=0.1, learning_rate=0.25, max_depth=3, min_child_weight=5;, score=0.911 total time=   0.2s\n",
      "[11:47:38] WARNING: /Users/travis/build/dmlc/xgboost/src/learner.cc:1061: Starting in XGBoost 1.3.0, the default evaluation metric used with the objective 'binary:logistic' was changed from 'error' to 'logloss'. Explicitly set eval_metric if you'd like to restore the old behavior.\n"
     ]
    },
    {
     "name": "stderr",
     "output_type": "stream",
     "text": [
      "/opt/anaconda3/lib/python3.8/site-packages/xgboost/sklearn.py:888: UserWarning: The use of label encoder in XGBClassifier is deprecated and will be removed in a future release. To remove this warning, do the following: 1) Pass option use_label_encoder=False when constructing XGBClassifier object; and 2) Encode your labels (y) as integers starting with 0, i.e. 0, 1, 2, ..., [num_class - 1].\n",
      "  warnings.warn(label_encoder_deprecation_msg, UserWarning)\n"
     ]
    },
    {
     "name": "stdout",
     "output_type": "stream",
     "text": [
      "[CV 2/5] END colsample_bytree=0.7, gamma=0.1, learning_rate=0.25, max_depth=3, min_child_weight=5;, score=0.955 total time=   0.2s\n",
      "[11:47:39] WARNING: /Users/travis/build/dmlc/xgboost/src/learner.cc:1061: Starting in XGBoost 1.3.0, the default evaluation metric used with the objective 'binary:logistic' was changed from 'error' to 'logloss'. Explicitly set eval_metric if you'd like to restore the old behavior.\n",
      "[CV 3/5] END colsample_bytree=0.7, gamma=0.1, learning_rate=0.25, max_depth=3, min_child_weight=5;, score=0.954 total time=   0.2s\n"
     ]
    },
    {
     "name": "stderr",
     "output_type": "stream",
     "text": [
      "/opt/anaconda3/lib/python3.8/site-packages/xgboost/sklearn.py:888: UserWarning: The use of label encoder in XGBClassifier is deprecated and will be removed in a future release. To remove this warning, do the following: 1) Pass option use_label_encoder=False when constructing XGBClassifier object; and 2) Encode your labels (y) as integers starting with 0, i.e. 0, 1, 2, ..., [num_class - 1].\n",
      "  warnings.warn(label_encoder_deprecation_msg, UserWarning)\n",
      "/opt/anaconda3/lib/python3.8/site-packages/xgboost/sklearn.py:888: UserWarning: The use of label encoder in XGBClassifier is deprecated and will be removed in a future release. To remove this warning, do the following: 1) Pass option use_label_encoder=False when constructing XGBClassifier object; and 2) Encode your labels (y) as integers starting with 0, i.e. 0, 1, 2, ..., [num_class - 1].\n",
      "  warnings.warn(label_encoder_deprecation_msg, UserWarning)\n"
     ]
    },
    {
     "name": "stdout",
     "output_type": "stream",
     "text": [
      "[11:47:39] WARNING: /Users/travis/build/dmlc/xgboost/src/learner.cc:1061: Starting in XGBoost 1.3.0, the default evaluation metric used with the objective 'binary:logistic' was changed from 'error' to 'logloss'. Explicitly set eval_metric if you'd like to restore the old behavior.\n",
      "[CV 4/5] END colsample_bytree=0.7, gamma=0.1, learning_rate=0.25, max_depth=3, min_child_weight=5;, score=0.949 total time=   0.2s\n"
     ]
    },
    {
     "name": "stderr",
     "output_type": "stream",
     "text": [
      "/opt/anaconda3/lib/python3.8/site-packages/xgboost/sklearn.py:888: UserWarning: The use of label encoder in XGBClassifier is deprecated and will be removed in a future release. To remove this warning, do the following: 1) Pass option use_label_encoder=False when constructing XGBClassifier object; and 2) Encode your labels (y) as integers starting with 0, i.e. 0, 1, 2, ..., [num_class - 1].\n",
      "  warnings.warn(label_encoder_deprecation_msg, UserWarning)\n"
     ]
    },
    {
     "name": "stdout",
     "output_type": "stream",
     "text": [
      "[11:47:39] WARNING: /Users/travis/build/dmlc/xgboost/src/learner.cc:1061: Starting in XGBoost 1.3.0, the default evaluation metric used with the objective 'binary:logistic' was changed from 'error' to 'logloss'. Explicitly set eval_metric if you'd like to restore the old behavior.\n",
      "[CV 5/5] END colsample_bytree=0.7, gamma=0.1, learning_rate=0.25, max_depth=3, min_child_weight=5;, score=0.950 total time=   0.2s\n",
      "[11:47:39] WARNING: /Users/travis/build/dmlc/xgboost/src/learner.cc:1061: Starting in XGBoost 1.3.0, the default evaluation metric used with the objective 'binary:logistic' was changed from 'error' to 'logloss'. Explicitly set eval_metric if you'd like to restore the old behavior.\n"
     ]
    },
    {
     "name": "stderr",
     "output_type": "stream",
     "text": [
      "/opt/anaconda3/lib/python3.8/site-packages/xgboost/sklearn.py:888: UserWarning: The use of label encoder in XGBClassifier is deprecated and will be removed in a future release. To remove this warning, do the following: 1) Pass option use_label_encoder=False when constructing XGBClassifier object; and 2) Encode your labels (y) as integers starting with 0, i.e. 0, 1, 2, ..., [num_class - 1].\n",
      "  warnings.warn(label_encoder_deprecation_msg, UserWarning)\n"
     ]
    },
    {
     "data": {
      "text/html": [
       "<style>#sk-container-id-4 {color: black;background-color: white;}#sk-container-id-4 pre{padding: 0;}#sk-container-id-4 div.sk-toggleable {background-color: white;}#sk-container-id-4 label.sk-toggleable__label {cursor: pointer;display: block;width: 100%;margin-bottom: 0;padding: 0.3em;box-sizing: border-box;text-align: center;}#sk-container-id-4 label.sk-toggleable__label-arrow:before {content: \"▸\";float: left;margin-right: 0.25em;color: #696969;}#sk-container-id-4 label.sk-toggleable__label-arrow:hover:before {color: black;}#sk-container-id-4 div.sk-estimator:hover label.sk-toggleable__label-arrow:before {color: black;}#sk-container-id-4 div.sk-toggleable__content {max-height: 0;max-width: 0;overflow: hidden;text-align: left;background-color: #f0f8ff;}#sk-container-id-4 div.sk-toggleable__content pre {margin: 0.2em;color: black;border-radius: 0.25em;background-color: #f0f8ff;}#sk-container-id-4 input.sk-toggleable__control:checked~div.sk-toggleable__content {max-height: 200px;max-width: 100%;overflow: auto;}#sk-container-id-4 input.sk-toggleable__control:checked~label.sk-toggleable__label-arrow:before {content: \"▾\";}#sk-container-id-4 div.sk-estimator input.sk-toggleable__control:checked~label.sk-toggleable__label {background-color: #d4ebff;}#sk-container-id-4 div.sk-label input.sk-toggleable__control:checked~label.sk-toggleable__label {background-color: #d4ebff;}#sk-container-id-4 input.sk-hidden--visually {border: 0;clip: rect(1px 1px 1px 1px);clip: rect(1px, 1px, 1px, 1px);height: 1px;margin: -1px;overflow: hidden;padding: 0;position: absolute;width: 1px;}#sk-container-id-4 div.sk-estimator {font-family: monospace;background-color: #f0f8ff;border: 1px dotted black;border-radius: 0.25em;box-sizing: border-box;margin-bottom: 0.5em;}#sk-container-id-4 div.sk-estimator:hover {background-color: #d4ebff;}#sk-container-id-4 div.sk-parallel-item::after {content: \"\";width: 100%;border-bottom: 1px solid gray;flex-grow: 1;}#sk-container-id-4 div.sk-label:hover label.sk-toggleable__label {background-color: #d4ebff;}#sk-container-id-4 div.sk-serial::before {content: \"\";position: absolute;border-left: 1px solid gray;box-sizing: border-box;top: 0;bottom: 0;left: 50%;z-index: 0;}#sk-container-id-4 div.sk-serial {display: flex;flex-direction: column;align-items: center;background-color: white;padding-right: 0.2em;padding-left: 0.2em;position: relative;}#sk-container-id-4 div.sk-item {position: relative;z-index: 1;}#sk-container-id-4 div.sk-parallel {display: flex;align-items: stretch;justify-content: center;background-color: white;position: relative;}#sk-container-id-4 div.sk-item::before, #sk-container-id-4 div.sk-parallel-item::before {content: \"\";position: absolute;border-left: 1px solid gray;box-sizing: border-box;top: 0;bottom: 0;left: 50%;z-index: -1;}#sk-container-id-4 div.sk-parallel-item {display: flex;flex-direction: column;z-index: 1;position: relative;background-color: white;}#sk-container-id-4 div.sk-parallel-item:first-child::after {align-self: flex-end;width: 50%;}#sk-container-id-4 div.sk-parallel-item:last-child::after {align-self: flex-start;width: 50%;}#sk-container-id-4 div.sk-parallel-item:only-child::after {width: 0;}#sk-container-id-4 div.sk-dashed-wrapped {border: 1px dashed gray;margin: 0 0.4em 0.5em 0.4em;box-sizing: border-box;padding-bottom: 0.4em;background-color: white;}#sk-container-id-4 div.sk-label label {font-family: monospace;font-weight: bold;display: inline-block;line-height: 1.2em;}#sk-container-id-4 div.sk-label-container {text-align: center;}#sk-container-id-4 div.sk-container {/* jupyter's `normalize.less` sets `[hidden] { display: none; }` but bootstrap.min.css set `[hidden] { display: none !important; }` so we also need the `!important` here to be able to override the default hidden behavior on the sphinx rendered scikit-learn.org. See: https://github.com/scikit-learn/scikit-learn/issues/21755 */display: inline-block !important;position: relative;}#sk-container-id-4 div.sk-text-repr-fallback {display: none;}</style><div id=\"sk-container-id-4\" class=\"sk-top-container\"><div class=\"sk-text-repr-fallback\"><pre>RandomizedSearchCV(cv=5,\n",
       "                   estimator=XGBClassifier(base_score=None, booster=None,\n",
       "                                           colsample_bylevel=None,\n",
       "                                           colsample_bynode=None,\n",
       "                                           colsample_bytree=None, gamma=None,\n",
       "                                           gpu_id=None, importance_type=&#x27;gain&#x27;,\n",
       "                                           interaction_constraints=None,\n",
       "                                           learning_rate=None,\n",
       "                                           max_delta_step=None, max_depth=None,\n",
       "                                           min_child_weight=None, missing=nan,\n",
       "                                           monotone_constraints=None,\n",
       "                                           n_estimators=100,...\n",
       "                                           random_state=None, reg_alpha=None,\n",
       "                                           reg_lambda=None,\n",
       "                                           scale_pos_weight=None,\n",
       "                                           subsample=None, tree_method=None,\n",
       "                                           validate_parameters=None,\n",
       "                                           verbosity=None),\n",
       "                   n_iter=5,\n",
       "                   param_distributions={&#x27;colsample_bytree&#x27;: [0.3, 0.4, 0.5,\n",
       "                                                             0.7],\n",
       "                                        &#x27;gamma&#x27;: [0.0, 0.1, 0.2, 0.3, 0.4],\n",
       "                                        &#x27;learning_rate&#x27;: [0.05, 0.1, 0.15, 0.2,\n",
       "                                                          0.25, 0.3],\n",
       "                                        &#x27;max_depth&#x27;: [2, 3, 4, 5, 6, 8, 10, 12,\n",
       "                                                      15],\n",
       "                                        &#x27;min_child_weight&#x27;: [1, 3, 5, 7]},\n",
       "                   scoring=&#x27;roc_auc&#x27;, verbose=3)</pre><b>In a Jupyter environment, please rerun this cell to show the HTML representation or trust the notebook. <br />On GitHub, the HTML representation is unable to render, please try loading this page with nbviewer.org.</b></div><div class=\"sk-container\" hidden><div class=\"sk-item sk-dashed-wrapped\"><div class=\"sk-label-container\"><div class=\"sk-label sk-toggleable\"><input class=\"sk-toggleable__control sk-hidden--visually\" id=\"sk-estimator-id-6\" type=\"checkbox\" ><label for=\"sk-estimator-id-6\" class=\"sk-toggleable__label sk-toggleable__label-arrow\">RandomizedSearchCV</label><div class=\"sk-toggleable__content\"><pre>RandomizedSearchCV(cv=5,\n",
       "                   estimator=XGBClassifier(base_score=None, booster=None,\n",
       "                                           colsample_bylevel=None,\n",
       "                                           colsample_bynode=None,\n",
       "                                           colsample_bytree=None, gamma=None,\n",
       "                                           gpu_id=None, importance_type=&#x27;gain&#x27;,\n",
       "                                           interaction_constraints=None,\n",
       "                                           learning_rate=None,\n",
       "                                           max_delta_step=None, max_depth=None,\n",
       "                                           min_child_weight=None, missing=nan,\n",
       "                                           monotone_constraints=None,\n",
       "                                           n_estimators=100,...\n",
       "                                           random_state=None, reg_alpha=None,\n",
       "                                           reg_lambda=None,\n",
       "                                           scale_pos_weight=None,\n",
       "                                           subsample=None, tree_method=None,\n",
       "                                           validate_parameters=None,\n",
       "                                           verbosity=None),\n",
       "                   n_iter=5,\n",
       "                   param_distributions={&#x27;colsample_bytree&#x27;: [0.3, 0.4, 0.5,\n",
       "                                                             0.7],\n",
       "                                        &#x27;gamma&#x27;: [0.0, 0.1, 0.2, 0.3, 0.4],\n",
       "                                        &#x27;learning_rate&#x27;: [0.05, 0.1, 0.15, 0.2,\n",
       "                                                          0.25, 0.3],\n",
       "                                        &#x27;max_depth&#x27;: [2, 3, 4, 5, 6, 8, 10, 12,\n",
       "                                                      15],\n",
       "                                        &#x27;min_child_weight&#x27;: [1, 3, 5, 7]},\n",
       "                   scoring=&#x27;roc_auc&#x27;, verbose=3)</pre></div></div></div><div class=\"sk-parallel\"><div class=\"sk-parallel-item\"><div class=\"sk-item\"><div class=\"sk-label-container\"><div class=\"sk-label sk-toggleable\"><input class=\"sk-toggleable__control sk-hidden--visually\" id=\"sk-estimator-id-7\" type=\"checkbox\" ><label for=\"sk-estimator-id-7\" class=\"sk-toggleable__label sk-toggleable__label-arrow\">estimator: XGBClassifier</label><div class=\"sk-toggleable__content\"><pre>XGBClassifier(base_score=None, booster=None, colsample_bylevel=None,\n",
       "              colsample_bynode=None, colsample_bytree=None, gamma=None,\n",
       "              gpu_id=None, importance_type=&#x27;gain&#x27;, interaction_constraints=None,\n",
       "              learning_rate=None, max_delta_step=None, max_depth=None,\n",
       "              min_child_weight=None, missing=nan, monotone_constraints=None,\n",
       "              n_estimators=100, n_jobs=None, num_parallel_tree=None,\n",
       "              random_state=None, reg_alpha=None, reg_lambda=None,\n",
       "              scale_pos_weight=None, subsample=None, tree_method=None,\n",
       "              validate_parameters=None, verbosity=None)</pre></div></div></div><div class=\"sk-serial\"><div class=\"sk-item\"><div class=\"sk-estimator sk-toggleable\"><input class=\"sk-toggleable__control sk-hidden--visually\" id=\"sk-estimator-id-8\" type=\"checkbox\" ><label for=\"sk-estimator-id-8\" class=\"sk-toggleable__label sk-toggleable__label-arrow\">XGBClassifier</label><div class=\"sk-toggleable__content\"><pre>XGBClassifier(base_score=None, booster=None, colsample_bylevel=None,\n",
       "              colsample_bynode=None, colsample_bytree=None, gamma=None,\n",
       "              gpu_id=None, importance_type=&#x27;gain&#x27;, interaction_constraints=None,\n",
       "              learning_rate=None, max_delta_step=None, max_depth=None,\n",
       "              min_child_weight=None, missing=nan, monotone_constraints=None,\n",
       "              n_estimators=100, n_jobs=None, num_parallel_tree=None,\n",
       "              random_state=None, reg_alpha=None, reg_lambda=None,\n",
       "              scale_pos_weight=None, subsample=None, tree_method=None,\n",
       "              validate_parameters=None, verbosity=None)</pre></div></div></div></div></div></div></div></div></div></div>"
      ],
      "text/plain": [
       "RandomizedSearchCV(cv=5,\n",
       "                   estimator=XGBClassifier(base_score=None, booster=None,\n",
       "                                           colsample_bylevel=None,\n",
       "                                           colsample_bynode=None,\n",
       "                                           colsample_bytree=None, gamma=None,\n",
       "                                           gpu_id=None, importance_type='gain',\n",
       "                                           interaction_constraints=None,\n",
       "                                           learning_rate=None,\n",
       "                                           max_delta_step=None, max_depth=None,\n",
       "                                           min_child_weight=None, missing=nan,\n",
       "                                           monotone_constraints=None,\n",
       "                                           n_estimators=100,...\n",
       "                                           random_state=None, reg_alpha=None,\n",
       "                                           reg_lambda=None,\n",
       "                                           scale_pos_weight=None,\n",
       "                                           subsample=None, tree_method=None,\n",
       "                                           validate_parameters=None,\n",
       "                                           verbosity=None),\n",
       "                   n_iter=5,\n",
       "                   param_distributions={'colsample_bytree': [0.3, 0.4, 0.5,\n",
       "                                                             0.7],\n",
       "                                        'gamma': [0.0, 0.1, 0.2, 0.3, 0.4],\n",
       "                                        'learning_rate': [0.05, 0.1, 0.15, 0.2,\n",
       "                                                          0.25, 0.3],\n",
       "                                        'max_depth': [2, 3, 4, 5, 6, 8, 10, 12,\n",
       "                                                      15],\n",
       "                                        'min_child_weight': [1, 3, 5, 7]},\n",
       "                   scoring='roc_auc', verbose=3)"
      ]
     },
     "execution_count": 40,
     "metadata": {},
     "output_type": "execute_result"
    }
   ],
   "source": [
    "classifier=xgboost.XGBClassifier()\n",
    "\n",
    "params={\n",
    "    \"learning_rate\":[0.05,0.10,0.15,0.20,0.25,0.30],\n",
    "    \"max_depth\":[2,3,4,5,6,8,10,12,15],\n",
    "    \"min_child_weight\":[1,3,5,7],\n",
    "    \"gamma\":[0.0,0.1,0.2,0.3,0.4],\n",
    "    \"colsample_bytree\":[0.3,0.4,0.5,0.7]}\n",
    "\n",
    "#provides the best possible parameters\n",
    "clf =RandomizedSearchCV(classifier,param_distributions=params,n_iter=5,scoring='roc_auc',cv=5,verbose=3)\n",
    "\n",
    "# fitting it\n",
    "clf.fit(X_train_sm,y_train_sm)\n",
    "\n",
    "# best parameters\n",
    "# clf.best_params_"
   ]
  },
  {
   "cell_type": "code",
   "execution_count": 41,
   "metadata": {},
   "outputs": [
    {
     "data": {
      "text/plain": [
       "{'min_child_weight': 5,\n",
       " 'max_depth': 12,\n",
       " 'learning_rate': 0.25,\n",
       " 'gamma': 0.1,\n",
       " 'colsample_bytree': 0.3}"
      ]
     },
     "execution_count": 41,
     "metadata": {},
     "output_type": "execute_result"
    }
   ],
   "source": [
    "# best parameters\n",
    "clf.best_params_"
   ]
  },
  {
   "cell_type": "code",
   "execution_count": 42,
   "metadata": {},
   "outputs": [
    {
     "data": {
      "text/html": [
       "<style>#sk-container-id-5 {color: black;background-color: white;}#sk-container-id-5 pre{padding: 0;}#sk-container-id-5 div.sk-toggleable {background-color: white;}#sk-container-id-5 label.sk-toggleable__label {cursor: pointer;display: block;width: 100%;margin-bottom: 0;padding: 0.3em;box-sizing: border-box;text-align: center;}#sk-container-id-5 label.sk-toggleable__label-arrow:before {content: \"▸\";float: left;margin-right: 0.25em;color: #696969;}#sk-container-id-5 label.sk-toggleable__label-arrow:hover:before {color: black;}#sk-container-id-5 div.sk-estimator:hover label.sk-toggleable__label-arrow:before {color: black;}#sk-container-id-5 div.sk-toggleable__content {max-height: 0;max-width: 0;overflow: hidden;text-align: left;background-color: #f0f8ff;}#sk-container-id-5 div.sk-toggleable__content pre {margin: 0.2em;color: black;border-radius: 0.25em;background-color: #f0f8ff;}#sk-container-id-5 input.sk-toggleable__control:checked~div.sk-toggleable__content {max-height: 200px;max-width: 100%;overflow: auto;}#sk-container-id-5 input.sk-toggleable__control:checked~label.sk-toggleable__label-arrow:before {content: \"▾\";}#sk-container-id-5 div.sk-estimator input.sk-toggleable__control:checked~label.sk-toggleable__label {background-color: #d4ebff;}#sk-container-id-5 div.sk-label input.sk-toggleable__control:checked~label.sk-toggleable__label {background-color: #d4ebff;}#sk-container-id-5 input.sk-hidden--visually {border: 0;clip: rect(1px 1px 1px 1px);clip: rect(1px, 1px, 1px, 1px);height: 1px;margin: -1px;overflow: hidden;padding: 0;position: absolute;width: 1px;}#sk-container-id-5 div.sk-estimator {font-family: monospace;background-color: #f0f8ff;border: 1px dotted black;border-radius: 0.25em;box-sizing: border-box;margin-bottom: 0.5em;}#sk-container-id-5 div.sk-estimator:hover {background-color: #d4ebff;}#sk-container-id-5 div.sk-parallel-item::after {content: \"\";width: 100%;border-bottom: 1px solid gray;flex-grow: 1;}#sk-container-id-5 div.sk-label:hover label.sk-toggleable__label {background-color: #d4ebff;}#sk-container-id-5 div.sk-serial::before {content: \"\";position: absolute;border-left: 1px solid gray;box-sizing: border-box;top: 0;bottom: 0;left: 50%;z-index: 0;}#sk-container-id-5 div.sk-serial {display: flex;flex-direction: column;align-items: center;background-color: white;padding-right: 0.2em;padding-left: 0.2em;position: relative;}#sk-container-id-5 div.sk-item {position: relative;z-index: 1;}#sk-container-id-5 div.sk-parallel {display: flex;align-items: stretch;justify-content: center;background-color: white;position: relative;}#sk-container-id-5 div.sk-item::before, #sk-container-id-5 div.sk-parallel-item::before {content: \"\";position: absolute;border-left: 1px solid gray;box-sizing: border-box;top: 0;bottom: 0;left: 50%;z-index: -1;}#sk-container-id-5 div.sk-parallel-item {display: flex;flex-direction: column;z-index: 1;position: relative;background-color: white;}#sk-container-id-5 div.sk-parallel-item:first-child::after {align-self: flex-end;width: 50%;}#sk-container-id-5 div.sk-parallel-item:last-child::after {align-self: flex-start;width: 50%;}#sk-container-id-5 div.sk-parallel-item:only-child::after {width: 0;}#sk-container-id-5 div.sk-dashed-wrapped {border: 1px dashed gray;margin: 0 0.4em 0.5em 0.4em;box-sizing: border-box;padding-bottom: 0.4em;background-color: white;}#sk-container-id-5 div.sk-label label {font-family: monospace;font-weight: bold;display: inline-block;line-height: 1.2em;}#sk-container-id-5 div.sk-label-container {text-align: center;}#sk-container-id-5 div.sk-container {/* jupyter's `normalize.less` sets `[hidden] { display: none; }` but bootstrap.min.css set `[hidden] { display: none !important; }` so we also need the `!important` here to be able to override the default hidden behavior on the sphinx rendered scikit-learn.org. See: https://github.com/scikit-learn/scikit-learn/issues/21755 */display: inline-block !important;position: relative;}#sk-container-id-5 div.sk-text-repr-fallback {display: none;}</style><div id=\"sk-container-id-5\" class=\"sk-top-container\"><div class=\"sk-text-repr-fallback\"><pre>XGBClassifier(base_score=0.5, booster=&#x27;gbtree&#x27;, colsample_bylevel=1,\n",
       "              colsample_bynode=1, colsample_bytree=0.3, gamma=0.1, gpu_id=-1,\n",
       "              importance_type=&#x27;gain&#x27;, interaction_constraints=&#x27;&#x27;,\n",
       "              learning_rate=0.25, max_delta_step=0, max_depth=12,\n",
       "              min_child_weight=5, missing=nan, monotone_constraints=&#x27;()&#x27;,\n",
       "              n_estimators=100, n_jobs=8, num_parallel_tree=1, random_state=0,\n",
       "              reg_alpha=0, reg_lambda=1, scale_pos_weight=1, subsample=1,\n",
       "              tree_method=&#x27;exact&#x27;, validate_parameters=1, verbosity=None)</pre><b>In a Jupyter environment, please rerun this cell to show the HTML representation or trust the notebook. <br />On GitHub, the HTML representation is unable to render, please try loading this page with nbviewer.org.</b></div><div class=\"sk-container\" hidden><div class=\"sk-item\"><div class=\"sk-estimator sk-toggleable\"><input class=\"sk-toggleable__control sk-hidden--visually\" id=\"sk-estimator-id-9\" type=\"checkbox\" checked><label for=\"sk-estimator-id-9\" class=\"sk-toggleable__label sk-toggleable__label-arrow\">XGBClassifier</label><div class=\"sk-toggleable__content\"><pre>XGBClassifier(base_score=0.5, booster=&#x27;gbtree&#x27;, colsample_bylevel=1,\n",
       "              colsample_bynode=1, colsample_bytree=0.3, gamma=0.1, gpu_id=-1,\n",
       "              importance_type=&#x27;gain&#x27;, interaction_constraints=&#x27;&#x27;,\n",
       "              learning_rate=0.25, max_delta_step=0, max_depth=12,\n",
       "              min_child_weight=5, missing=nan, monotone_constraints=&#x27;()&#x27;,\n",
       "              n_estimators=100, n_jobs=8, num_parallel_tree=1, random_state=0,\n",
       "              reg_alpha=0, reg_lambda=1, scale_pos_weight=1, subsample=1,\n",
       "              tree_method=&#x27;exact&#x27;, validate_parameters=1, verbosity=None)</pre></div></div></div></div></div>"
      ],
      "text/plain": [
       "XGBClassifier(base_score=0.5, booster='gbtree', colsample_bylevel=1,\n",
       "              colsample_bynode=1, colsample_bytree=0.3, gamma=0.1, gpu_id=-1,\n",
       "              importance_type='gain', interaction_constraints='',\n",
       "              learning_rate=0.25, max_delta_step=0, max_depth=12,\n",
       "              min_child_weight=5, missing=nan, monotone_constraints='()',\n",
       "              n_estimators=100, n_jobs=8, num_parallel_tree=1, random_state=0,\n",
       "              reg_alpha=0, reg_lambda=1, scale_pos_weight=1, subsample=1,\n",
       "              tree_method='exact', validate_parameters=1, verbosity=None)"
      ]
     },
     "execution_count": 42,
     "metadata": {},
     "output_type": "execute_result"
    }
   ],
   "source": [
    "#derive model with best parameter\n",
    "clf.best_estimator_"
   ]
  },
  {
   "cell_type": "code",
   "execution_count": 43,
   "metadata": {},
   "outputs": [
    {
     "name": "stdout",
     "output_type": "stream",
     "text": [
      "[11:48:08] WARNING: /Users/travis/build/dmlc/xgboost/src/learner.cc:1061: Starting in XGBoost 1.3.0, the default evaluation metric used with the objective 'binary:logistic' was changed from 'error' to 'logloss'. Explicitly set eval_metric if you'd like to restore the old behavior.\n"
     ]
    }
   ],
   "source": [
    "xgb_new = xgboost.XGBClassifier(base_score=0.5, booster='gbtree', colsample_bylevel=1,\n",
    "              colsample_bynode=1, colsample_bytree=0.3, gamma=0.1, gpu_id=-1,\n",
    "              importance_type='gain', interaction_constraints='',\n",
    "              learning_rate=0.25, max_delta_step=0, max_depth=12,\n",
    "              min_child_weight=5, monotone_constraints='()',\n",
    "              n_estimators=100, n_jobs=8, num_parallel_tree=1, random_state=0,\n",
    "              reg_alpha=0, reg_lambda=1, scale_pos_weight=1, subsample=1,\n",
    "              tree_method='exact', validate_parameters=1, verbosity=None)\n",
    "xgb_new.fit(X_train_sm, y_train_sm)\n",
    "\n",
    "y_pred_xgb_new = xgb_new.predict(x_test)\n",
    "\n",
    "pred_proba_xgb_new = xgb_new.predict_proba(x_test)"
   ]
  },
  {
   "cell_type": "code",
   "execution_count": 44,
   "metadata": {},
   "outputs": [
    {
     "name": "stdout",
     "output_type": "stream",
     "text": [
      "The training Accuracy is:  0.9106359649122807\n",
      "The test Accuracy is:  0.8447903156074362\n",
      "              precision    recall  f1-score   support\n",
      "\n",
      "           0       0.97      0.87      0.91      4349\n",
      "           1       0.20      0.52      0.29       277\n",
      "\n",
      "    accuracy                           0.84      4626\n",
      "   macro avg       0.58      0.69      0.60      4626\n",
      "weighted avg       0.92      0.84      0.88      4626\n",
      "\n",
      "AUCROC: 0.8199739680394598\n"
     ]
    }
   ],
   "source": [
    "#evaluate model\n",
    "#on training set\n",
    "print(\"The training Accuracy is: \", xgb_new.score(X_train_sm, y_train_sm))\n",
    "\n",
    "#test the model on unseen data - higher accuracy than training data?\n",
    "print(\"The test Accuracy is: \", xgb_new.score(x_test, y_test))\n",
    "\n",
    "#classification report\n",
    "print(classification_report(y_test, y_pred_xgb_new))\n",
    "\n",
    "#roc_auc\n",
    "print(\"AUCROC:\",roc_auc_score(y_test, pred_proba_xgb_new[:,1]))"
   ]
  },
  {
   "cell_type": "code",
   "execution_count": 45,
   "metadata": {},
   "outputs": [
    {
     "data": {
      "image/png": "[encoded data removed]",
      "text/plain": [
       "<Figure size 432x288 with 2 Axes>"
      ]
     },
     "metadata": {
      "needs_background": "light"
     },
     "output_type": "display_data"
    }
   ],
   "source": [
    "cm = confusion_matrix(y_test, y_pred_xgb_new)\n",
    "cm_norm = cm / cm.sum(axis=1).reshape(-1,1)\n",
    "\n",
    "plot_confusion_matrix(cm_norm,classes=xgb_new.classes_, title='Confusion Matrix')"
   ]
  },
  {
   "cell_type": "markdown",
   "metadata": {},
   "source": [
    "## Plot ROC curves"
   ]
  },
  {
   "cell_type": "code",
   "execution_count": 47,
   "metadata": {},
   "outputs": [
    {
     "data": {
      "text/plain": [
       "<matplotlib.legend.Legend at 0x7f80e37a3eb0>"
      ]
     },
     "execution_count": 47,
     "metadata": {},
     "output_type": "execute_result"
    },
    {
     "data": {
      "image/png": "[encoded data removed]",
      "text/plain": [
       "<Figure size 432x288 with 1 Axes>"
      ]
     },
     "metadata": {
      "needs_background": "light"
     },
     "output_type": "display_data"
    }
   ],
   "source": [
    "from sklearn import metrics\n",
    "\n",
    "#logreg\n",
    "fpr, tpr, _ = metrics.roc_curve(y_test, y_pred_new)\n",
    "auc = round(metrics.roc_auc_score(y_test, y_pred_new), 4)\n",
    "plt.plot(fpr,tpr,label=\"Logistic Regression, AUC=\"+str(auc))\n",
    "\n",
    "#rf\n",
    "\n",
    "fpr, tpr, _ = metrics.roc_curve(y_test, y_pred_rf_new)\n",
    "auc = round(metrics.roc_auc_score(y_test, y_pred_rf_new), 4)\n",
    "plt.plot(fpr,tpr,label=\"Random Forest, AUC=\"+str(auc))\n",
    "\n",
    "\n",
    "#xgboost\n",
    "fpr, tpr, _ = metrics.roc_curve(y_test, y_pred_xgb_new)\n",
    "auc = round(metrics.roc_auc_score(y_test, y_pred_xgb_new), 4)\n",
    "plt.plot(fpr,tpr,label=\"XGBoost, AUC=\"+str(auc))\n",
    "\n",
    "\n",
    "#srf\n",
    "fpr, tpr, _ = metrics.roc_curve(Y_test, y_pred_srf)\n",
    "auc = round(metrics.roc_auc_score(Y_test, y_pred_srf), 4)\n",
    "plt.plot(fpr,tpr,label=\"Random Forest with SMOTE, AUC=\"+str(auc))\n",
    "\n",
    "plt.legend()"
   ]
  },
  {
   "cell_type": "code",
   "execution_count": 48,
   "metadata": {},
   "outputs": [
    {
     "name": "stdout",
     "output_type": "stream",
     "text": [
      "              precision    recall  f1-score   support\n",
      "\n",
      "           0       0.97      0.76      0.85      4349\n",
      "           1       0.13      0.58      0.22       277\n",
      "\n",
      "    accuracy                           0.75      4626\n",
      "   macro avg       0.55      0.67      0.53      4626\n",
      "weighted avg       0.92      0.75      0.81      4626\n",
      "\n",
      "              precision    recall  f1-score   support\n",
      "\n",
      "           0       0.97      0.78      0.87      4349\n",
      "           1       0.16      0.62      0.25       277\n",
      "\n",
      "    accuracy                           0.78      4626\n",
      "   macro avg       0.56      0.70      0.56      4626\n",
      "weighted avg       0.92      0.78      0.83      4626\n",
      "\n",
      "              precision    recall  f1-score   support\n",
      "\n",
      "           0       0.95      0.92      0.93      4349\n",
      "           1       0.17      0.25      0.20       277\n",
      "\n",
      "    accuracy                           0.88      4626\n",
      "   macro avg       0.56      0.59      0.57      4626\n",
      "weighted avg       0.90      0.88      0.89      4626\n",
      "\n",
      "              precision    recall  f1-score   support\n",
      "\n",
      "           0       0.95      0.92      0.93      4349\n",
      "           1       0.16      0.26      0.20       277\n",
      "\n",
      "    accuracy                           0.88      4626\n",
      "   macro avg       0.56      0.59      0.57      4626\n",
      "weighted avg       0.90      0.88      0.89      4626\n",
      "\n",
      "              precision    recall  f1-score   support\n",
      "\n",
      "           0       0.96      0.88      0.92      4349\n",
      "           1       0.19      0.43      0.26       277\n",
      "\n",
      "    accuracy                           0.86      4626\n",
      "   macro avg       0.58      0.66      0.59      4626\n",
      "weighted avg       0.91      0.86      0.88      4626\n",
      "\n",
      "              precision    recall  f1-score   support\n",
      "\n",
      "           0       0.97      0.87      0.91      4349\n",
      "           1       0.20      0.52      0.29       277\n",
      "\n",
      "    accuracy                           0.84      4626\n",
      "   macro avg       0.58      0.69      0.60      4626\n",
      "weighted avg       0.92      0.84      0.88      4626\n",
      "\n",
      "              precision    recall  f1-score   support\n",
      "\n",
      "           0       0.99      0.95      0.97      1450\n",
      "           1       0.51      0.82      0.62        92\n",
      "\n",
      "    accuracy                           0.94      1542\n",
      "   macro avg       0.75      0.88      0.80      1542\n",
      "weighted avg       0.96      0.94      0.95      1542\n",
      "\n"
     ]
    }
   ],
   "source": [
    "#classification report\n",
    "print(classification_report(y_test, pred_log))\n",
    "print(classification_report(y_test, y_pred_new))\n",
    "print(classification_report(y_test, y_pred_rf))\n",
    "print(classification_report(y_test, y_pred_rf_new))\n",
    "print(classification_report(y_test, y_pred_xgb))\n",
    "print(classification_report(y_test, y_pred_xgb_new))\n",
    "print(classification_report(Y_test, y_pred_srf))"
   ]
  },
  {
   "cell_type": "code",
   "execution_count": 49,
   "metadata": {},
   "outputs": [
    {
     "name": "stdout",
     "output_type": "stream",
     "text": [
      "Feature: 0, Score: -0.02279\n",
      "Feature: 1, Score: 0.00048\n",
      "Feature: 2, Score: -0.00591\n",
      "Feature: 3, Score: -0.61022\n",
      "Feature: 4, Score: -0.13095\n",
      "Feature: 5, Score: -2.80990\n",
      "Feature: 6, Score: -1.34381\n",
      "Feature: 7, Score: -3.00376\n",
      "Feature: 8, Score: -2.94957\n",
      "Feature: 9, Score: -0.38694\n",
      "Feature: 10, Score: -1.31337\n",
      "Feature: 11, Score: -1.28178\n",
      "Feature: 12, Score: -1.49947\n",
      "Feature: 13, Score: -0.38206\n",
      "Feature: 14, Score: -0.08268\n"
     ]
    },
    {
     "data": {
      "image/png": "[encoded data removed]",
      "text/plain": [
       "<Figure size 432x288 with 1 Axes>"
      ]
     },
     "metadata": {
      "needs_background": "light"
     },
     "output_type": "display_data"
    }
   ],
   "source": [
    "#FEATURE IMPORTANCE\n",
    "from matplotlib import pyplot\n",
    "\n",
    "# logistic regression for feature importance\n",
    "# get importance\n",
    "importance = logregnew.coef_[0]\n",
    "# summarize feature importance\n",
    "for i,v in enumerate(importance):\n",
    "\tprint('Feature: %0d, Score: %.5f' % (i,v))\n",
    "# plot feature importance\n",
    "pyplot.bar([x for x in range(len(importance))], importance)\n",
    "pyplot.show()"
   ]
  },
  {
   "cell_type": "markdown",
   "metadata": {},
   "source": [
    "Random Forest"
   ]
  },
  {
   "cell_type": "code",
   "execution_count": 50,
   "metadata": {},
   "outputs": [],
   "source": [
    "import shap\n",
    "explainer = shap.TreeExplainer(SMOTE_SRF)\n",
    "shap_values = explainer.shap_values(X_test)"
   ]
  },
  {
   "cell_type": "code",
   "execution_count": 51,
   "metadata": {},
   "outputs": [
    {
     "data": {
      "image/png": "[encoded data removed]",
      "text/plain": [
       "<Figure size 576x540 with 1 Axes>"
      ]
     },
     "metadata": {
      "needs_background": "light"
     },
     "output_type": "display_data"
    }
   ],
   "source": [
    "shap.summary_plot(shap_values, x_test, plot_type=\"bar\")"
   ]
  },
  {
   "cell_type": "markdown",
   "metadata": {},
   "source": [
    "Random Forest with SMOTE"
   ]
  },
  {
   "cell_type": "code",
   "execution_count": 52,
   "metadata": {},
   "outputs": [],
   "source": [
    "explainer2 = shap.TreeExplainer(SMOTE_SRF)\n",
    "shap_values2 = explainer2.shap_values(X_test)"
   ]
  },
  {
   "cell_type": "code",
   "execution_count": 53,
   "metadata": {},
   "outputs": [
    {
     "data": {
      "image/png": "[encoded data removed]",
      "text/plain": [
       "<Figure size 576x540 with 1 Axes>"
      ]
     },
     "metadata": {
      "needs_background": "light"
     },
     "output_type": "display_data"
    }
   ],
   "source": [
    "shap.summary_plot(shap_values2, X_test, plot_type=\"bar\")"
   ]
  },
  {
   "cell_type": "markdown",
   "metadata": {},
   "source": [
    "XGBoost"
   ]
  },
  {
   "cell_type": "code",
   "execution_count": 54,
   "metadata": {},
   "outputs": [],
   "source": [
    "explainer3 = shap.TreeExplainer(xgb_new)\n",
    "shap_values3 = explainer3.shap_values(x_test)"
   ]
  },
  {
   "cell_type": "code",
   "execution_count": 55,
   "metadata": {},
   "outputs": [
    {
     "data": {
      "image/png": "[encoded data removed]",
      "text/plain": [
       "<Figure size 576x540 with 1 Axes>"
      ]
     },
     "metadata": {
      "needs_background": "light"
     },
     "output_type": "display_data"
    }
   ],
   "source": [
    "shap.summary_plot(shap_values3, x_test, plot_type=\"bar\")"
   ]
  },
  {
   "cell_type": "markdown",
   "metadata": {},
   "source": [
    "## Running Final Model on unseen data"
   ]
  },
  {
   "cell_type": "markdown",
   "metadata": {},
   "source": [
    "https://github.com/Pitsillides91/Python-Tutorials/blob/master/Decision%20Tree%20Tutorials/Decision%20Trees%20-%20Random%20Forest%20-%20XGBoost.ipynb"
   ]
  },
  {
   "cell_type": "code",
   "execution_count": 56,
   "metadata": {},
   "outputs": [
    {
     "name": "stdout",
     "output_type": "stream",
     "text": [
      "Testing Accuracy: 0.7751837440553394\n"
     ]
    },
    {
     "data": {
      "text/plain": [
       "0.9416666666666667"
      ]
     },
     "execution_count": 56,
     "metadata": {},
     "output_type": "execute_result"
    }
   ],
   "source": [
    "y_pred_smsrf = SMOTE_SRF.score(x_valid, y_valid)\n",
    "\n",
    "pred_proba_smsrf = SMOTE_SRF.predict_proba(x_valid)\n",
    "\n",
    "print(\"Testing Accuracy:\", score)\n",
    "y_pred_smsrf"
   ]
  },
  {
   "cell_type": "code",
   "execution_count": 57,
   "metadata": {},
   "outputs": [],
   "source": [
    "pred_smsrf = SMOTE_SRF.predict(x_valid)"
   ]
  },
  {
   "cell_type": "code",
   "execution_count": 58,
   "metadata": {},
   "outputs": [
    {
     "data": {
      "text/plain": [
       "array([0, 0, 0, ..., 0, 0, 0])"
      ]
     },
     "execution_count": 58,
     "metadata": {},
     "output_type": "execute_result"
    }
   ],
   "source": [
    "pred_smsrf"
   ]
  },
  {
   "cell_type": "code",
   "execution_count": 59,
   "metadata": {},
   "outputs": [
    {
     "data": {
      "text/plain": [
       "array([[0.91333333, 0.08666667],\n",
       "       [0.94777778, 0.05222222],\n",
       "       [1.        , 0.        ],\n",
       "       ...,\n",
       "       [1.        , 0.        ],\n",
       "       [0.76730952, 0.23269048],\n",
       "       [1.        , 0.        ]])"
      ]
     },
     "execution_count": 59,
     "metadata": {},
     "output_type": "execute_result"
    }
   ],
   "source": [
    "pred_proba_smsrf"
   ]
  },
  {
   "cell_type": "code",
   "execution_count": 60,
   "metadata": {},
   "outputs": [
    {
     "data": {
      "text/plain": [
       "[0.08666666666666667,\n",
       " 0.05222222222222222,\n",
       " 0.0,\n",
       " 0.0,\n",
       " 0.0,\n",
       " 0.0,\n",
       " 0.0,\n",
       " 0.16,\n",
       " 0.0,\n",
       " 0.6478312798312791,\n",
       " 0.0,\n",
       " 0.10444444444444444,\n",
       " 0.7992975172975171,\n",
       " 0.0,\n",
       " 0.0,\n",
       " 0.03027777777777778,\n",
       " 0.012777777777777779,\n",
       " 0.03333333333333333,\n",
       " 0.006666666666666667,\n",
       " 0.16,\n",
       " 0.03822222222222222,\n",
       " 0.5129259259259259,\n",
       " 0.9,\n",
       " 0.006666666666666667,\n",
       " 0.03722222222222222,\n",
       " 0.0,\n",
       " 0.0,\n",
       " 0.20666666666666667,\n",
       " 0.07333333333333333,\n",
       " 0.006666666666666667,\n",
       " 0.0,\n",
       " 0.0,\n",
       " 0.6139637611270735,\n",
       " 0.0,\n",
       " 0.0,\n",
       " 0.0,\n",
       " 0.0,\n",
       " 0.0,\n",
       " 0.0,\n",
       " 0.013333333333333334,\n",
       " 0.0,\n",
       " 0.08,\n",
       " 0.0,\n",
       " 0.0,\n",
       " 0.006666666666666667,\n",
       " 0.10666666666666667,\n",
       " 0.7881587301587302,\n",
       " 0.04666666666666667,\n",
       " 0.7539513334103114,\n",
       " 0.0,\n",
       " 0.006666666666666667,\n",
       " 0.0,\n",
       " 0.0,\n",
       " 0.0,\n",
       " 0.0,\n",
       " 0.06666666666666667,\n",
       " 0.005238095238095238,\n",
       " 0.09666666666666666,\n",
       " 1.0,\n",
       " 0.66,\n",
       " 0.0,\n",
       " 0.0,\n",
       " 0.0,\n",
       " 0.96,\n",
       " 0.5809999999999998,\n",
       " 0.006666666666666667,\n",
       " 0.6333333333333333,\n",
       " 0.01,\n",
       " 0.9866666666666667,\n",
       " 0.0,\n",
       " 0.06,\n",
       " 0.0,\n",
       " 0.0,\n",
       " 0.02,\n",
       " 0.0,\n",
       " 0.0,\n",
       " 0.0,\n",
       " 0.0,\n",
       " 0.0,\n",
       " 0.02,\n",
       " 0.8768036754189762,\n",
       " 0.05927628249367379,\n",
       " 0.0,\n",
       " 0.0,\n",
       " 0.0,\n",
       " 0.0,\n",
       " 0.05757575757575758,\n",
       " 0.3933412698412698,\n",
       " 0.0033333333333333335,\n",
       " 0.06,\n",
       " 0.07726190476190477,\n",
       " 0.07212121212121213,\n",
       " 0.02666666666666667,\n",
       " 0.013333333333333334,\n",
       " 0.41,\n",
       " 0.0,\n",
       " 0.02,\n",
       " 0.0,\n",
       " 0.0,\n",
       " 0.026,\n",
       " 0.0,\n",
       " 0.36666666666666664,\n",
       " 0.042777777777777776,\n",
       " 1.0,\n",
       " 0.0,\n",
       " 0.09333333333333334,\n",
       " 0.02,\n",
       " 0.0,\n",
       " 0.03722222222222222,\n",
       " 0.02,\n",
       " 0.03333333333333333,\n",
       " 0.0,\n",
       " 0.0,\n",
       " 0.08533333333333334,\n",
       " 0.10666666666666667,\n",
       " 0.0,\n",
       " 0.0,\n",
       " 0.0,\n",
       " 0.0,\n",
       " 0.0,\n",
       " 0.012,\n",
       " 0.12563732563732563,\n",
       " 0.0,\n",
       " 0.12666666666666668,\n",
       " 0.7420555555555555,\n",
       " 0.0,\n",
       " 0.0,\n",
       " 0.02,\n",
       " 0.062100720630132396,\n",
       " 0.02,\n",
       " 0.8498203716174838,\n",
       " 0.0,\n",
       " 0.05333333333333334,\n",
       " 0.0,\n",
       " 0.03333333333333333,\n",
       " 0.1222063492063492,\n",
       " 0.011428571428571429,\n",
       " 0.32031481481481483,\n",
       " 0.5375728540465381,\n",
       " 0.12,\n",
       " 0.5824444444444445,\n",
       " 0.0,\n",
       " 0.006666666666666667,\n",
       " 0.0,\n",
       " 0.006666666666666667,\n",
       " 0.0,\n",
       " 0.12,\n",
       " 0.04,\n",
       " 0.0,\n",
       " 0.006666666666666667,\n",
       " 0.0,\n",
       " 0.0,\n",
       " 0.0,\n",
       " 0.08666666666666667,\n",
       " 0.10266666666666667,\n",
       " 0.006666666666666667,\n",
       " 0.0033333333333333335,\n",
       " 0.0,\n",
       " 0.04666666666666667,\n",
       " 0.02,\n",
       " 1.0,\n",
       " 0.0,\n",
       " 0.23813492063492064,\n",
       " 0.0,\n",
       " 0.10366666666666667,\n",
       " 0.3781904761904762,\n",
       " 0.008888888888888889,\n",
       " 0.02422222222222222,\n",
       " 0.2906656556950675,\n",
       " 0.6066666666666667,\n",
       " 0.09682539682539681,\n",
       " 0.07811111111111112,\n",
       " 0.0,\n",
       " 0.0,\n",
       " 0.6139637611270735,\n",
       " 0.0,\n",
       " 0.0,\n",
       " 0.04666666666666667,\n",
       " 0.0,\n",
       " 0.2866666666666667,\n",
       " 0.0,\n",
       " 0.0,\n",
       " 0.0,\n",
       " 0.006666666666666667,\n",
       " 0.02,\n",
       " 0.0,\n",
       " 0.0,\n",
       " 0.0033333333333333335,\n",
       " 0.011428571428571429,\n",
       " 0.0,\n",
       " 0.0,\n",
       " 0.0,\n",
       " 0.057777777777777775,\n",
       " 0.14666666666666667,\n",
       " 0.0,\n",
       " 0.0,\n",
       " 0.0,\n",
       " 0.0,\n",
       " 0.0,\n",
       " 0.0,\n",
       " 0.032380952380952385,\n",
       " 0.13333333333333333,\n",
       " 0.06,\n",
       " 0.6790449735449733,\n",
       " 0.8084444444444443,\n",
       " 0.07333333333333333,\n",
       " 0.0,\n",
       " 0.0,\n",
       " 0.006666666666666667,\n",
       " 0.19767676767676767,\n",
       " 0.16666666666666666,\n",
       " 0.0,\n",
       " 0.02,\n",
       " 0.0,\n",
       " 0.006666666666666667,\n",
       " 0.013333333333333334,\n",
       " 0.006666666666666667,\n",
       " 0.075,\n",
       " 0.0,\n",
       " 0.18713227513227515,\n",
       " 0.03333333333333333,\n",
       " 0.0,\n",
       " 0.17866666666666667,\n",
       " 0.07333333333333333,\n",
       " 0.0,\n",
       " 0.0,\n",
       " 0.0,\n",
       " 0.016666666666666666,\n",
       " 0.0,\n",
       " 0.2,\n",
       " 0.03333333333333333,\n",
       " 0.04,\n",
       " 0.04666666666666667,\n",
       " 0.0,\n",
       " 0.0,\n",
       " 0.6763253968253968,\n",
       " 0.02666666666666667,\n",
       " 0.1837777777777778,\n",
       " 0.013333333333333334,\n",
       " 0.0,\n",
       " 0.06666666666666667,\n",
       " 0.0,\n",
       " 0.0,\n",
       " 0.0,\n",
       " 0.0,\n",
       " 0.3522222222222222,\n",
       " 0.0,\n",
       " 0.0,\n",
       " 0.0,\n",
       " 0.0,\n",
       " 0.08144444444444444,\n",
       " 0.0,\n",
       " 0.011666666666666667,\n",
       " 0.03,\n",
       " 0.0,\n",
       " 0.006666666666666667,\n",
       " 0.0,\n",
       " 0.0,\n",
       " 0.0,\n",
       " 0.0,\n",
       " 0.0,\n",
       " 0.0,\n",
       " 0.013333333333333334,\n",
       " 0.006666666666666667,\n",
       " 0.0,\n",
       " 0.0339047619047619,\n",
       " 0.013333333333333334,\n",
       " 0.012222222222222221,\n",
       " 0.0,\n",
       " 0.11333333333333333,\n",
       " 0.0,\n",
       " 0.05333333333333334,\n",
       " 0.0,\n",
       " 0.0,\n",
       " 0.0,\n",
       " 0.008888888888888889,\n",
       " 0.0,\n",
       " 0.0,\n",
       " 0.0,\n",
       " 0.2589470899470899,\n",
       " 0.0,\n",
       " 0.0932222222222222,\n",
       " 0.02,\n",
       " 0.10666666666666667,\n",
       " 0.013333333333333334,\n",
       " 0.048777777777777774,\n",
       " 0.025833333333333333,\n",
       " 0.06,\n",
       " 0.13822222222222222,\n",
       " 0.7594470899470899,\n",
       " 0.0033333333333333335,\n",
       " 0.013333333333333334,\n",
       " 0.64,\n",
       " 0.0,\n",
       " 0.7569814814814814,\n",
       " 0.0016666666666666668,\n",
       " 0.0,\n",
       " 0.0,\n",
       " 0.0,\n",
       " 0.09333333333333334,\n",
       " 0.0,\n",
       " 0.9933333333333333,\n",
       " 0.0,\n",
       " 0.0,\n",
       " 0.2722222222222222,\n",
       " 0.0,\n",
       " 0.0,\n",
       " 0.7372222222222222,\n",
       " 0.013333333333333334,\n",
       " 0.06942929828456146,\n",
       " 0.3933412698412698,\n",
       " 0.0,\n",
       " 0.0,\n",
       " 0.06333333333333334,\n",
       " 0.0,\n",
       " 0.0,\n",
       " 0.0,\n",
       " 0.02666666666666667,\n",
       " 0.5493333333333332,\n",
       " 0.0,\n",
       " 0.24666666666666667,\n",
       " 0.0,\n",
       " 0.07146560846560845,\n",
       " 0.006666666666666667,\n",
       " 0.05333333333333334,\n",
       " 0.0,\n",
       " 0.8367857142857142,\n",
       " 0.008547008547008546,\n",
       " 0.09944444444444445,\n",
       " 0.006666666666666667,\n",
       " 0.735010582010582,\n",
       " 0.0,\n",
       " 0.010492424242424242,\n",
       " 0.0,\n",
       " 0.03857142857142857,\n",
       " 0.28,\n",
       " 0.3991904761904762,\n",
       " 0.32002380952380943,\n",
       " 0.92,\n",
       " 0.3236666666666667,\n",
       " 0.0,\n",
       " 0.8211090582017353,\n",
       " 0.0,\n",
       " 0.0,\n",
       " 0.0,\n",
       " 0.09582861582861583,\n",
       " 0.013333333333333334,\n",
       " 0.08666666666666667,\n",
       " 0.0,\n",
       " 0.04,\n",
       " 0.0,\n",
       " 0.0,\n",
       " 0.049444444444444444,\n",
       " 0.0,\n",
       " 0.07333333333333333,\n",
       " 0.2866666666666667,\n",
       " 0.0,\n",
       " 0.0,\n",
       " 0.0,\n",
       " 0.0,\n",
       " 0.08,\n",
       " 0.02,\n",
       " 0.0,\n",
       " 0.026444444444444444,\n",
       " 0.02,\n",
       " 0.9032943160210961,\n",
       " 0.4666666666666667,\n",
       " 0.013333333333333334,\n",
       " 0.05,\n",
       " 0.0,\n",
       " 0.0,\n",
       " 0.006666666666666667,\n",
       " 0.0,\n",
       " 0.31333333333333335,\n",
       " 0.0,\n",
       " 0.18666666666666668,\n",
       " 0.0,\n",
       " 0.0,\n",
       " 0.08666666666666667,\n",
       " 0.015333333333333332,\n",
       " 0.006666666666666667,\n",
       " 0.0,\n",
       " 0.0,\n",
       " 0.02666666666666667,\n",
       " 0.0,\n",
       " 0.09544372294372293,\n",
       " 0.16789294964294965,\n",
       " 0.29888888888888887,\n",
       " 0.0,\n",
       " 0.25333333333333335,\n",
       " 0.006666666666666667,\n",
       " 0.04,\n",
       " 0.028888888888888888,\n",
       " 0.0,\n",
       " 0.04666666666666667,\n",
       " 0.0,\n",
       " 0.0,\n",
       " 0.08666666666666667,\n",
       " 0.0,\n",
       " 0.4825555555555555,\n",
       " 0.03333333333333333,\n",
       " 0.04,\n",
       " 0.006666666666666667,\n",
       " 0.0,\n",
       " 0.0,\n",
       " 0.0,\n",
       " 0.9533333333333334,\n",
       " 0.02,\n",
       " 0.013333333333333334,\n",
       " 0.0022222222222222222,\n",
       " 0.0,\n",
       " 0.0,\n",
       " 0.0,\n",
       " 0.0,\n",
       " 0.002666666666666667,\n",
       " 0.013333333333333334,\n",
       " 0.0,\n",
       " 0.0,\n",
       " 0.02,\n",
       " 0.0,\n",
       " 0.0,\n",
       " 1.0,\n",
       " 0.06666666666666667,\n",
       " 0.6619340016708437,\n",
       " 0.0,\n",
       " 0.006666666666666667,\n",
       " 0.027777777777777773,\n",
       " 0.24666666666666667,\n",
       " 0.04182051282051282,\n",
       " 0.785100529100529,\n",
       " 0.006666666666666667,\n",
       " 0.0,\n",
       " 0.0,\n",
       " 0.0,\n",
       " 0.0,\n",
       " 0.0,\n",
       " 0.0,\n",
       " 0.0,\n",
       " 0.0,\n",
       " 0.0,\n",
       " 0.0,\n",
       " 0.0,\n",
       " 0.04,\n",
       " 0.0,\n",
       " 0.0,\n",
       " 0.43936507936507935,\n",
       " 0.0,\n",
       " 0.0,\n",
       " 0.006666666666666667,\n",
       " 0.0,\n",
       " 0.02,\n",
       " 0.006666666666666667,\n",
       " 0.0,\n",
       " 0.045,\n",
       " 0.25333333333333335,\n",
       " 0.8086286954359706,\n",
       " 0.006666666666666667,\n",
       " 0.0,\n",
       " 0.0,\n",
       " 0.9533333333333334,\n",
       " 0.0,\n",
       " 0.0,\n",
       " 0.005,\n",
       " 0.0,\n",
       " 0.05333333333333334,\n",
       " 0.0,\n",
       " 0.03333333333333333,\n",
       " 0.022083333333333333,\n",
       " 0.0,\n",
       " 0.0,\n",
       " 0.13333333333333333,\n",
       " 0.9866666666666667,\n",
       " 0.15288888888888888,\n",
       " 0.14,\n",
       " 0.0,\n",
       " 0.7520779220779219,\n",
       " 0.0,\n",
       " 0.3407936507936508,\n",
       " 0.0,\n",
       " 0.0,\n",
       " 0.0,\n",
       " 0.0,\n",
       " 0.0,\n",
       " 0.31333333333333335,\n",
       " 0.9582889301583958,\n",
       " 0.0,\n",
       " 0.0,\n",
       " 0.0,\n",
       " 0.0,\n",
       " 0.0,\n",
       " 0.05888888888888888,\n",
       " 1.0,\n",
       " 0.0,\n",
       " 0.8495846694121895,\n",
       " 0.0,\n",
       " 0.0,\n",
       " 0.013333333333333334,\n",
       " 0.006666666666666667,\n",
       " 0.0,\n",
       " 0.0022222222222222222,\n",
       " 0.0,\n",
       " 0.0,\n",
       " 0.06666666666666667,\n",
       " 0.09333333333333334,\n",
       " 0.0,\n",
       " 0.2,\n",
       " 0.0,\n",
       " 0.0,\n",
       " 0.011444444444444445,\n",
       " 0.8729166666666667,\n",
       " 0.14,\n",
       " 0.0,\n",
       " 0.0,\n",
       " 0.0,\n",
       " 0.006666666666666667,\n",
       " 0.0,\n",
       " 0.0,\n",
       " 0.0,\n",
       " 0.013333333333333334,\n",
       " 0.0,\n",
       " 0.04666666666666667,\n",
       " 0.0,\n",
       " 0.0,\n",
       " 0.0,\n",
       " 0.0,\n",
       " 0.23333333333333334,\n",
       " 0.006666666666666667,\n",
       " 0.013333333333333334,\n",
       " 0.0,\n",
       " 0.0,\n",
       " 0.09444444444444444,\n",
       " 0.0,\n",
       " 0.9933333333333333,\n",
       " 1.0,\n",
       " 0.0,\n",
       " 0.0,\n",
       " 0.04666666666666667,\n",
       " 0.0,\n",
       " 0.0,\n",
       " 0.0,\n",
       " 0.18666666666666668,\n",
       " 0.0,\n",
       " 0.0,\n",
       " 0.05333333333333334,\n",
       " 0.062222222222222213,\n",
       " 0.27444444444444444,\n",
       " 0.5597619047619048,\n",
       " 0.013333333333333334,\n",
       " 0.2737550066491243,\n",
       " 0.02,\n",
       " 0.0,\n",
       " 0.0,\n",
       " 0.0,\n",
       " 0.0,\n",
       " 0.18,\n",
       " 0.11333333333333333,\n",
       " 0.0,\n",
       " 0.013333333333333334,\n",
       " 0.0,\n",
       " 0.08,\n",
       " 0.0,\n",
       " 0.0033333333333333335,\n",
       " 0.0,\n",
       " 0.08,\n",
       " 0.0,\n",
       " 0.7822948532948527,\n",
       " 0.032231559290382815,\n",
       " 0.16,\n",
       " 0.7600604444575029,\n",
       " 0.0016666666666666668,\n",
       " 0.0,\n",
       " 0.8783333333333333,\n",
       " 1.0,\n",
       " 0.27252329874001696,\n",
       " 0.0,\n",
       " 0.06383333333333333,\n",
       " 0.0,\n",
       " 0.6666666666666666,\n",
       " 0.042492063492063484,\n",
       " 0.0,\n",
       " 0.10782539682539682,\n",
       " 0.0,\n",
       " 0.0,\n",
       " 0.0,\n",
       " 0.0,\n",
       " 0.0,\n",
       " 0.0033333333333333335,\n",
       " 0.016666666666666666,\n",
       " 0.0,\n",
       " 0.0,\n",
       " 0.0,\n",
       " 0.006666666666666667,\n",
       " 0.006666666666666667,\n",
       " 0.0,\n",
       " 0.006666666666666667,\n",
       " 0.0,\n",
       " 0.0,\n",
       " 0.03333333333333333,\n",
       " 0.0,\n",
       " 0.0,\n",
       " 0.006666666666666667,\n",
       " 0.0,\n",
       " 0.05333333333333334,\n",
       " 0.0,\n",
       " 0.0,\n",
       " 0.0,\n",
       " 0.14666666666666667,\n",
       " 0.0,\n",
       " 0.14,\n",
       " 0.4578888888888889,\n",
       " 0.27416666666666667,\n",
       " 0.943888888888889,\n",
       " 0.0,\n",
       " 0.1808888888888889,\n",
       " 0.07712121212121212,\n",
       " 0.6936825396825393,\n",
       " 0.0,\n",
       " 0.0,\n",
       " 0.006666666666666667,\n",
       " 0.10666666666666667,\n",
       " 0.0,\n",
       " 0.4512027417027417,\n",
       " 0.0,\n",
       " 0.8358333333333333,\n",
       " 0.0,\n",
       " 0.08,\n",
       " 0.0,\n",
       " 0.635,\n",
       " 0.0,\n",
       " 0.0,\n",
       " 0.0,\n",
       " 0.18666666666666668,\n",
       " 0.4846031746031746,\n",
       " 0.0,\n",
       " 0.0,\n",
       " 0.0,\n",
       " 0.0,\n",
       " 0.21333333333333335,\n",
       " 0.0,\n",
       " 0.0,\n",
       " 0.027222222222222228,\n",
       " 0.0,\n",
       " 0.0,\n",
       " 0.9587321372962925,\n",
       " 0.012222222222222223,\n",
       " 0.02,\n",
       " 0.0,\n",
       " 0.0,\n",
       " 0.0,\n",
       " 0.7751803936803938,\n",
       " 0.0,\n",
       " 0.12,\n",
       " 0.0,\n",
       " 0.0,\n",
       " 0.0,\n",
       " 1.0,\n",
       " 0.0,\n",
       " 0.0033333333333333335,\n",
       " 0.0,\n",
       " 0.8866666666666667,\n",
       " 0.0,\n",
       " 0.0,\n",
       " 0.02,\n",
       " 0.1080952380952381,\n",
       " 0.0,\n",
       " 0.0,\n",
       " 0.0,\n",
       " 0.5316825396825396,\n",
       " 0.0,\n",
       " 0.03644444444444444,\n",
       " 0.0033333333333333335,\n",
       " 0.0,\n",
       " 0.0,\n",
       " 0.02,\n",
       " 0.0,\n",
       " 0.015833333333333335,\n",
       " 0.006666666666666667,\n",
       " 0.0,\n",
       " 0.0,\n",
       " 0.0,\n",
       " 0.20544444444444443,\n",
       " 0.013333333333333334,\n",
       " 0.006666666666666667,\n",
       " 0.0,\n",
       " 0.0,\n",
       " 0.0,\n",
       " 0.0,\n",
       " 0.0,\n",
       " 0.0,\n",
       " 0.0,\n",
       " 0.0,\n",
       " 0.0,\n",
       " 0.023333333333333334,\n",
       " 0.0,\n",
       " 0.0,\n",
       " 0.98,\n",
       " 0.0,\n",
       " 0.006666666666666667,\n",
       " 0.013333333333333334,\n",
       " 0.0,\n",
       " 0.16,\n",
       " 0.0987936507936508,\n",
       " 0.8,\n",
       " 0.022666666666666665,\n",
       " 0.0,\n",
       " 0.03161111111111112,\n",
       " 0.0,\n",
       " 0.05,\n",
       " 0.086998556998557,\n",
       " 0.0,\n",
       " 0.0,\n",
       " 0.0,\n",
       " 0.3304461834461834,\n",
       " 0.9307290760833763,\n",
       " 0.0,\n",
       " 0.6133333333333333,\n",
       " 0.0,\n",
       " 0.013333333333333334,\n",
       " 0.0,\n",
       " 0.0,\n",
       " 0.0,\n",
       " 0.013333333333333334,\n",
       " 0.0,\n",
       " 0.7681709956709956,\n",
       " 0.0,\n",
       " 0.5028095238095237,\n",
       " 0.0,\n",
       " 0.745453271788411,\n",
       " 0.0,\n",
       " 0.0,\n",
       " 0.0,\n",
       " 0.0,\n",
       " 0.0,\n",
       " 0.005454545454545455,\n",
       " 0.5629999999999998,\n",
       " 0.0,\n",
       " 0.0,\n",
       " 0.0,\n",
       " 0.006666666666666667,\n",
       " 0.0,\n",
       " 0.9,\n",
       " 0.04,\n",
       " 0.8676081761375878,\n",
       " 0.0,\n",
       " 0.0,\n",
       " 0.0,\n",
       " 0.09142857142857143,\n",
       " 0.009444444444444443,\n",
       " 0.006666666666666667,\n",
       " 0.006666666666666667,\n",
       " 0.0,\n",
       " 0.0,\n",
       " 0.06,\n",
       " 0.0,\n",
       " 0.0,\n",
       " 0.0,\n",
       " 0.006666666666666667,\n",
       " 0.0,\n",
       " 0.0,\n",
       " 0.0,\n",
       " 0.0,\n",
       " 0.0,\n",
       " 0.11333333333333333,\n",
       " 0.0,\n",
       " 0.0,\n",
       " 0.0,\n",
       " 0.0,\n",
       " 0.05333333333333334,\n",
       " 0.013333333333333334,\n",
       " 0.6187301587301585,\n",
       " 0.3304461834461834,\n",
       " 0.9113485417517919,\n",
       " 0.0,\n",
       " 0.024444444444444442,\n",
       " 0.06,\n",
       " 0.02666666666666667,\n",
       " 0.0,\n",
       " 0.006666666666666667,\n",
       " 0.0,\n",
       " 0.04,\n",
       " 0.02,\n",
       " 0.006666666666666667,\n",
       " 0.043333333333333335,\n",
       " 0.971111111111111,\n",
       " 0.30666666666666664,\n",
       " 0.0,\n",
       " 0.0,\n",
       " 0.0,\n",
       " 0.0,\n",
       " 0.014166666666666666,\n",
       " 0.7396825396825396,\n",
       " 0.0,\n",
       " 0.0,\n",
       " 0.0,\n",
       " 0.0,\n",
       " 0.15333333333333332,\n",
       " 0.0,\n",
       " 0.10666666666666667,\n",
       " 0.0,\n",
       " 0.0,\n",
       " 0.0,\n",
       " 0.013333333333333334,\n",
       " 0.006666666666666667,\n",
       " 0.0,\n",
       " 0.0,\n",
       " 0.0,\n",
       " 0.8557037222037218,\n",
       " 0.04,\n",
       " 0.02,\n",
       " 0.0,\n",
       " 0.0,\n",
       " 0.1174985754985755,\n",
       " 0.6733333333333333,\n",
       " 0.14,\n",
       " 0.03333333333333333,\n",
       " 0.02,\n",
       " 0.05,\n",
       " 0.19476984126984132,\n",
       " 1.0,\n",
       " 0.0,\n",
       " 0.060635642135642126,\n",
       " 0.0,\n",
       " 0.0,\n",
       " 0.0,\n",
       " 0.0,\n",
       " 0.006666666666666667,\n",
       " 0.006666666666666667,\n",
       " 0.048888888888888885,\n",
       " 0.3333333333333333,\n",
       " 0.0,\n",
       " 0.08666666666666667,\n",
       " 0.0,\n",
       " 0.0,\n",
       " 0.006666666666666667,\n",
       " 0.05333333333333334,\n",
       " 0.0,\n",
       " 0.042222222222222223,\n",
       " 0.0,\n",
       " 0.0,\n",
       " 0.04,\n",
       " 0.0,\n",
       " 0.966711679449426,\n",
       " 0.0,\n",
       " 0.013333333333333334,\n",
       " 0.0,\n",
       " 0.0,\n",
       " 0.0,\n",
       " 0.0,\n",
       " 0.0,\n",
       " 0.0,\n",
       " 0.0,\n",
       " 0.0,\n",
       " 0.06,\n",
       " 0.0,\n",
       " 0.3466666666666667,\n",
       " 0.006666666666666667,\n",
       " 0.0,\n",
       " 0.0,\n",
       " 0.013333333333333334,\n",
       " 0.08666666666666667,\n",
       " 0.7232564287564283,\n",
       " 0.05333333333333334,\n",
       " 0.0,\n",
       " 0.05333333333333334,\n",
       " 0.0,\n",
       " 0.12,\n",
       " 0.11444444444444445,\n",
       " 0.0,\n",
       " 0.0,\n",
       " 0.47441269841269845,\n",
       " 1.0,\n",
       " 0.0,\n",
       " 0.0,\n",
       " 0.0,\n",
       " 0.02666666666666667,\n",
       " 0.02666666666666667,\n",
       " 0.0,\n",
       " 0.17333333333333334,\n",
       " 0.02,\n",
       " 0.03333333333333333,\n",
       " 0.0,\n",
       " 0.23644444444444446,\n",
       " 0.02,\n",
       " 1.0,\n",
       " 0.1065993265993266,\n",
       " 0.0,\n",
       " 0.11333333333333333,\n",
       " 0.0,\n",
       " 0.03333333333333333,\n",
       " 0.0,\n",
       " 0.013333333333333334,\n",
       " 0.08,\n",
       " 0.024444444444444442,\n",
       " 0.38012698412698415,\n",
       " 0.02,\n",
       " 0.0,\n",
       " 0.0,\n",
       " 0.006666666666666667,\n",
       " 0.0,\n",
       " 0.0,\n",
       " 0.0,\n",
       " 0.29333333333333333,\n",
       " 0.7843650021610578,\n",
       " 0.8863921615020681,\n",
       " 0.013333333333333334,\n",
       " 0.6866666666666666,\n",
       " 0.0,\n",
       " 0.16233333333333333,\n",
       " 0.9429582389093468,\n",
       " 0.0,\n",
       " 0.06373456282279812,\n",
       " 0.0,\n",
       " 0.0,\n",
       " 0.02,\n",
       " 0.0,\n",
       " 0.057999999999999996,\n",
       " 0.0,\n",
       " 0.0,\n",
       " 0.013333333333333334,\n",
       " 0.45966666666666667,\n",
       " 0.0,\n",
       " 0.0,\n",
       " 0.0,\n",
       " 0.13333333333333333,\n",
       " 0.0,\n",
       " 0.0,\n",
       " 0.0,\n",
       " 0.006666666666666667,\n",
       " 0.0,\n",
       " 0.0,\n",
       " 0.786,\n",
       " 0.013333333333333334,\n",
       " 1.0,\n",
       " 0.04,\n",
       " 0.5362037037037038,\n",
       " 0.0,\n",
       " 0.0,\n",
       " 0.0,\n",
       " 0.13333333333333333,\n",
       " 0.006666666666666667,\n",
       " 0.09277777777777778,\n",
       " 0.0,\n",
       " 0.02666666666666667,\n",
       " 0.028666666666666667,\n",
       " 0.006666666666666667,\n",
       " 0.024444444444444442,\n",
       " 0.006666666666666667,\n",
       " 0.0,\n",
       " 0.31967171717171716,\n",
       " 0.0,\n",
       " 0.04666666666666667,\n",
       " 0.0,\n",
       " 0.006666666666666667,\n",
       " 0.0,\n",
       " 0.012777777777777779,\n",
       " 0.0,\n",
       " 0.7600604444575029,\n",
       " 0.0,\n",
       " 0.006666666666666667,\n",
       " 0.16,\n",
       " 0.016499999999999997,\n",
       " 0.0,\n",
       " 0.0,\n",
       " 0.006666666666666667,\n",
       " 0.8863958541458539,\n",
       " 0.0,\n",
       " 0.02,\n",
       " 0.0016666666666666668,\n",
       " 0.013333333333333334,\n",
       " 0.0,\n",
       " 0.0,\n",
       " 0.0,\n",
       " 0.0,\n",
       " 0.0,\n",
       " 0.05555555555555556,\n",
       " 0.0,\n",
       " 0.0,\n",
       " 0.0,\n",
       " 0.38,\n",
       " 0.08444444444444445,\n",
       " 0.9933333333333333,\n",
       " 0.0,\n",
       " 0.0,\n",
       " 0.0,\n",
       " 0.013333333333333334,\n",
       " 0.05333333333333334,\n",
       " 0.006666666666666667,\n",
       " 0.006666666666666667,\n",
       " 0.02,\n",
       " 0.0,\n",
       " 0.0,\n",
       " 0.0,\n",
       " 0.0,\n",
       " 0.23333333333333334,\n",
       " 0.0,\n",
       " 0.0,\n",
       " 0.06,\n",
       " 0.012,\n",
       " 0.0,\n",
       " 0.0,\n",
       " ...]"
      ]
     },
     "execution_count": 60,
     "metadata": {},
     "output_type": "execute_result"
    }
   ],
   "source": [
    "def column(matrix, i):\n",
    "    return [row[i] for row in matrix]\n",
    "\n",
    "column(pred_proba_smsrf, 1)"
   ]
  },
  {
   "cell_type": "code",
   "execution_count": 61,
   "metadata": {},
   "outputs": [
    {
     "ename": "IndexError",
     "evalue": "only integers, slices (`:`), ellipsis (`...`), numpy.newaxis (`None`) and integer or boolean arrays are valid indices",
     "output_type": "error",
     "traceback": [
      "\u001b[0;31m---------------------------------------------------------------------------\u001b[0m",
      "\u001b[0;31mIndexError\u001b[0m                                Traceback (most recent call last)",
      "\u001b[0;32m<ipython-input-61-adc7b47c0da6>\u001b[0m in \u001b[0;36m<module>\u001b[0;34m\u001b[0m\n\u001b[1;32m      1\u001b[0m \u001b[0moutput\u001b[0m \u001b[0;34m=\u001b[0m \u001b[0mx_valid\u001b[0m\u001b[0;34m.\u001b[0m\u001b[0mcopy\u001b[0m\u001b[0;34m(\u001b[0m\u001b[0;34m)\u001b[0m\u001b[0;34m\u001b[0m\u001b[0;34m\u001b[0m\u001b[0m\n\u001b[0;32m----> 2\u001b[0;31m \u001b[0moutput\u001b[0m\u001b[0;34m[\u001b[0m\u001b[0;34m'Predictions - Fraud or Not'\u001b[0m\u001b[0;34m]\u001b[0m \u001b[0;34m=\u001b[0m \u001b[0mpred_smsrf\u001b[0m\u001b[0;34m\u001b[0m\u001b[0;34m\u001b[0m\u001b[0m\n\u001b[0m\u001b[1;32m      3\u001b[0m \u001b[0moutput\u001b[0m\u001b[0;34m[\u001b[0m\u001b[0;34m'Predictions - Probability to Fraud'\u001b[0m\u001b[0;34m]\u001b[0m \u001b[0;34m=\u001b[0m \u001b[0mcolumn\u001b[0m\u001b[0;34m(\u001b[0m\u001b[0mpred_proba_smsrf\u001b[0m\u001b[0;34m,\u001b[0m \u001b[0;36m1\u001b[0m\u001b[0;34m)\u001b[0m\u001b[0;34m\u001b[0m\u001b[0;34m\u001b[0m\u001b[0m\n\u001b[1;32m      4\u001b[0m \u001b[0moutput\u001b[0m\u001b[0;34m.\u001b[0m\u001b[0mhead\u001b[0m\u001b[0;34m\u001b[0m\u001b[0;34m\u001b[0m\u001b[0m\n",
      "\u001b[0;31mIndexError\u001b[0m: only integers, slices (`:`), ellipsis (`...`), numpy.newaxis (`None`) and integer or boolean arrays are valid indices"
     ]
    }
   ],
   "source": [
    "output = x_valid.copy()\n",
    "output['Predictions - Fraud or Not'] = pred_smsrf\n",
    "output['Predictions - Probability to Fraud'] = column(pred_proba_smsrf, 1)\n",
    "output.head"
   ]
  },
  {
   "cell_type": "code",
   "execution_count": null,
   "metadata": {},
   "outputs": [],
   "source": [
    "# 9.4. Joining the raw data witht the predictions\n",
    "\n",
    "\n",
    "output = unseen_data.copy()\n",
    "output['Predictions - Churn or Not'] = pred_xgboost\n",
    "output['Predictions - Probability to Churn'] = column(pred_prob_xgboost, 1)\n",
    "output['Predictions - Churn or Not Desc'] = 'Empty'\n",
    "output['Predictions - Churn or Not Desc'][output['Predictions - Churn or Not'] == 0] = 'Retention'\n",
    "output['Predictions - Churn or Not Desc'][output['Predictions - Churn or Not'] == 1] = 'Churn'\n",
    "output.head()"
   ]
  }
 ],
 "metadata": {
  "kernelspec": {
   "display_name": "Python 3.8.5 ('base')",
   "language": "python",
   "name": "python3"
  },
  "language_info": {
   "codemirror_mode": {
    "name": "ipython",
    "version": 3
   },
   "file_extension": ".py",
   "mimetype": "text/x-python",
   "name": "python",
   "nbconvert_exporter": "python",
   "pygments_lexer": "ipython3",
   "version": "3.8.5"
  },
  "orig_nbformat": 4,
  "vscode": {
   "interpreter": {
    "hash": "40d3a090f54c6569ab1632332b64b2c03c39dcf918b08424e98f38b5ae0af88f"
   }
  }
 },
 "nbformat": 4,
 "nbformat_minor": 2
}
