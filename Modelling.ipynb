{
 "cells": [
  {
   "cell_type": "markdown",
   "metadata": {},
   "source": [
    "Modelling"
   ]
  },
  {
   "cell_type": "markdown",
   "metadata": {},
   "source": [
    "Logistic Regression"
   ]
  },
  {
   "cell_type": "code",
   "execution_count": 1,
   "metadata": {},
   "outputs": [],
   "source": [
    "#dataframe manipulation\n",
    "import numpy as np\n",
    "import pandas as pd\n",
    "import seaborn as sns\n",
    "import matplotlib.pyplot as plt"
   ]
  },
  {
   "cell_type": "code",
   "execution_count": 2,
   "metadata": {},
   "outputs": [
    {
     "data": {
      "text/html": [
       "<div>\n",
       "<style scoped>\n",
       "    .dataframe tbody tr th:only-of-type {\n",
       "        vertical-align: middle;\n",
       "    }\n",
       "\n",
       "    .dataframe tbody tr th {\n",
       "        vertical-align: top;\n",
       "    }\n",
       "\n",
       "    .dataframe thead th {\n",
       "        text-align: right;\n",
       "    }\n",
       "</style>\n",
       "<table border=\"1\" class=\"dataframe\">\n",
       "  <thead>\n",
       "    <tr style=\"text-align: right;\">\n",
       "      <th></th>\n",
       "      <th>Age</th>\n",
       "      <th>GDP</th>\n",
       "      <th>DelayInReporting</th>\n",
       "      <th>AccidentArea_Urban</th>\n",
       "      <th>Sex_Male</th>\n",
       "      <th>Fault_Third Party</th>\n",
       "      <th>BasePolicy_Collision</th>\n",
       "      <th>BasePolicy_Liability</th>\n",
       "      <th>VehicleCategory_Sport</th>\n",
       "      <th>VehicleCategory_Utility</th>\n",
       "      <th>PastNumberOfClaims_2 to 4</th>\n",
       "      <th>PastNumberOfClaims_more than 4</th>\n",
       "      <th>PastNumberOfClaims_none</th>\n",
       "      <th>PoliceReportFiled_Yes</th>\n",
       "      <th>WitnessPresent_Yes</th>\n",
       "      <th>FraudFound_P</th>\n",
       "    </tr>\n",
       "  </thead>\n",
       "  <tbody>\n",
       "    <tr>\n",
       "      <th>0</th>\n",
       "      <td>21</td>\n",
       "      <td>7455</td>\n",
       "      <td>31</td>\n",
       "      <td>1</td>\n",
       "      <td>0</td>\n",
       "      <td>0</td>\n",
       "      <td>0</td>\n",
       "      <td>1</td>\n",
       "      <td>1</td>\n",
       "      <td>0</td>\n",
       "      <td>0</td>\n",
       "      <td>0</td>\n",
       "      <td>1</td>\n",
       "      <td>0</td>\n",
       "      <td>0</td>\n",
       "      <td>0</td>\n",
       "    </tr>\n",
       "    <tr>\n",
       "      <th>1</th>\n",
       "      <td>34</td>\n",
       "      <td>7115</td>\n",
       "      <td>0</td>\n",
       "      <td>1</td>\n",
       "      <td>1</td>\n",
       "      <td>0</td>\n",
       "      <td>1</td>\n",
       "      <td>0</td>\n",
       "      <td>1</td>\n",
       "      <td>0</td>\n",
       "      <td>0</td>\n",
       "      <td>0</td>\n",
       "      <td>1</td>\n",
       "      <td>1</td>\n",
       "      <td>0</td>\n",
       "      <td>0</td>\n",
       "    </tr>\n",
       "    <tr>\n",
       "      <th>2</th>\n",
       "      <td>47</td>\n",
       "      <td>7455</td>\n",
       "      <td>31</td>\n",
       "      <td>1</td>\n",
       "      <td>1</td>\n",
       "      <td>0</td>\n",
       "      <td>1</td>\n",
       "      <td>0</td>\n",
       "      <td>1</td>\n",
       "      <td>0</td>\n",
       "      <td>0</td>\n",
       "      <td>0</td>\n",
       "      <td>0</td>\n",
       "      <td>0</td>\n",
       "      <td>0</td>\n",
       "      <td>0</td>\n",
       "    </tr>\n",
       "  </tbody>\n",
       "</table>\n",
       "</div>"
      ],
      "text/plain": [
       "   Age   GDP  DelayInReporting  AccidentArea_Urban  Sex_Male  \\\n",
       "0   21  7455                31                   1         0   \n",
       "1   34  7115                 0                   1         1   \n",
       "2   47  7455                31                   1         1   \n",
       "\n",
       "   Fault_Third Party  BasePolicy_Collision  BasePolicy_Liability  \\\n",
       "0                  0                     0                     1   \n",
       "1                  0                     1                     0   \n",
       "2                  0                     1                     0   \n",
       "\n",
       "   VehicleCategory_Sport  VehicleCategory_Utility  PastNumberOfClaims_2 to 4  \\\n",
       "0                      1                        0                          0   \n",
       "1                      1                        0                          0   \n",
       "2                      1                        0                          0   \n",
       "\n",
       "   PastNumberOfClaims_more than 4  PastNumberOfClaims_none  \\\n",
       "0                               0                        1   \n",
       "1                               0                        1   \n",
       "2                               0                        0   \n",
       "\n",
       "   PoliceReportFiled_Yes  WitnessPresent_Yes  FraudFound_P  \n",
       "0                      0                   0             0  \n",
       "1                      1                   0             0  \n",
       "2                      0                   0             0  "
      ]
     },
     "execution_count": 2,
     "metadata": {},
     "output_type": "execute_result"
    }
   ],
   "source": [
    "df=pd.read_excel(\"CleanData.xlsx\")\n",
    "df.head(3)"
   ]
  },
  {
   "cell_type": "code",
   "execution_count": 3,
   "metadata": {},
   "outputs": [
    {
     "name": "stdout",
     "output_type": "stream",
     "text": [
      "(15420, 16)\n"
     ]
    }
   ],
   "source": [
    "print(df.shape)"
   ]
  },
  {
   "cell_type": "code",
   "execution_count": 4,
   "metadata": {},
   "outputs": [
    {
     "data": {
      "text/plain": [
       "Age                               int64\n",
       "GDP                               int64\n",
       "DelayInReporting                  int64\n",
       "AccidentArea_Urban                int64\n",
       "Sex_Male                          int64\n",
       "Fault_Third Party                 int64\n",
       "BasePolicy_Collision              int64\n",
       "BasePolicy_Liability              int64\n",
       "VehicleCategory_Sport             int64\n",
       "VehicleCategory_Utility           int64\n",
       "PastNumberOfClaims_2 to 4         int64\n",
       "PastNumberOfClaims_more than 4    int64\n",
       "PastNumberOfClaims_none           int64\n",
       "PoliceReportFiled_Yes             int64\n",
       "WitnessPresent_Yes                int64\n",
       "FraudFound_P                      int64\n",
       "dtype: object"
      ]
     },
     "execution_count": 4,
     "metadata": {},
     "output_type": "execute_result"
    }
   ],
   "source": [
    "df.dtypes"
   ]
  },
  {
   "cell_type": "code",
   "execution_count": 5,
   "metadata": {},
   "outputs": [],
   "source": [
    "cols = ['Age', 'GDP', 'DelayInReporting', 'AccidentArea_Urban', 'Sex_Male', 'Fault_Third Party', 'BasePolicy_Collision',\n",
    "         'BasePolicy_Liability', 'VehicleCategory_Sport', 'VehicleCategory_Utility', 'PastNumberOfClaims_2 to 4',\n",
    "         'PastNumberOfClaims_more than 4', 'PastNumberOfClaims_none', 'PoliceReportFiled_Yes', 'WitnessPresent_Yes']"
   ]
  },
  {
   "cell_type": "code",
   "execution_count": 6,
   "metadata": {},
   "outputs": [
    {
     "name": "stdout",
     "output_type": "stream",
     "text": [
      "(15420, 15)\n",
      "(15420,)\n"
     ]
    }
   ],
   "source": [
    "#split data into x and y\n",
    "#also make x into a numpy array so it can be fit onto the model\n",
    "x =  df[cols].values\n",
    "x\n",
    "\n",
    "y = df['FraudFound_P']\n",
    "y\n",
    "\n",
    "print(x.shape)\n",
    "print(y.shape)"
   ]
  },
  {
   "cell_type": "code",
   "execution_count": 7,
   "metadata": {},
   "outputs": [
    {
     "name": "stdout",
     "output_type": "stream",
     "text": [
      "(9714, 15)\n",
      "(4626, 15)\n",
      "(1080, 15)\n",
      "(9714,)\n",
      "(4626,)\n",
      "(1080,)\n"
     ]
    }
   ],
   "source": [
    "#hold out validation technique - 70-20-10\n",
    "#train model on 70, test on 20\n",
    "from sklearn.model_selection import train_test_split\n",
    "#test data\n",
    "x_train, x_test, y_train, y_test =  train_test_split(x, y, train_size=0.7, test_size=0.3, random_state=7, stratify=y)\n",
    "\n",
    "#after hyperparameter tuning - and after best parameters\n",
    "x_train, x_valid, y_train, y_valid =  train_test_split(x_train, y_train, train_size=0.9, test_size=0.1, random_state=7)\n",
    "\n",
    "print(x_train.shape)\n",
    "print(x_test.shape)\n",
    "print(x_valid.shape)\n",
    "\n",
    "print(y_train.shape)\n",
    "print(y_test.shape)\n",
    "print(y_valid.shape)"
   ]
  },
  {
   "cell_type": "code",
   "execution_count": 8,
   "metadata": {},
   "outputs": [
    {
     "data": {
      "image/png": "[encoded data removed]",
      "text/plain": [
       "<Figure size 432x288 with 1 Axes>"
      ]
     },
     "metadata": {
      "needs_background": "light"
     },
     "output_type": "display_data"
    }
   ],
   "source": [
    "#is the databalanced? - doesnt look like it:(\n",
    "ax =  sns.countplot(x=y_train, palette=\"Set3\")"
   ]
  },
  {
   "cell_type": "code",
   "execution_count": 9,
   "metadata": {},
   "outputs": [
    {
     "name": "stderr",
     "output_type": "stream",
     "text": [
      "/opt/anaconda3/lib/python3.8/site-packages/sklearn/linear_model/_logistic.py:762: ConvergenceWarning: lbfgs failed to converge (status=1):\n",
      "STOP: TOTAL NO. of ITERATIONS REACHED LIMIT.\n",
      "\n",
      "Increase the number of iterations (max_iter) or scale the data as shown in:\n",
      "    https://scikit-learn.org/stable/modules/preprocessing.html\n",
      "Please also refer to the documentation for alternative solver options:\n",
      "    https://scikit-learn.org/stable/modules/linear_model.html#logistic-regression\n",
      "  n_iter_i = _check_optimize_result(\n"
     ]
    },
    {
     "data": {
      "text/plain": [
       "LogisticRegression(random_state=10)"
      ]
     },
     "execution_count": 9,
     "metadata": {},
     "output_type": "execute_result"
    }
   ],
   "source": [
    "#Build model\n",
    "from sklearn.linear_model import LogisticRegression\n",
    "\n",
    "logreg = LogisticRegression(random_state=10, solver='lbfgs')\n",
    "logreg.fit(x_train, y_train)"
   ]
  },
  {
   "cell_type": "code",
   "execution_count": 10,
   "metadata": {},
   "outputs": [
    {
     "data": {
      "text/plain": [
       "array([[-1.61833818e-02, -2.15379351e-04, -9.80148174e-04,\n",
       "        -2.26027754e-02,  4.47536250e-01, -2.51950458e+00,\n",
       "        -4.22414589e-01, -1.80133655e+00, -5.33978285e-01,\n",
       "        -1.01194452e-01, -9.71220176e-02, -3.48647364e-02,\n",
       "         3.35483371e-01, -3.70249324e-01, -5.78068510e-02]])"
      ]
     },
     "execution_count": 10,
     "metadata": {},
     "output_type": "execute_result"
    }
   ],
   "source": [
    "#make predictions\n",
    "logreg.predict(x_train)\n",
    "y_pred = logreg.predict(x_train)\n",
    "\n",
    "#probabilities\n",
    "pred_proba = logreg.predict_proba(x_train)\n",
    "\n",
    "logreg.coef_\n"
   ]
  },
  {
   "cell_type": "code",
   "execution_count": 11,
   "metadata": {},
   "outputs": [],
   "source": [
    "from sklearn.metrics import classification_report"
   ]
  },
  {
   "cell_type": "code",
   "execution_count": 12,
   "metadata": {},
   "outputs": [
    {
     "name": "stdout",
     "output_type": "stream",
     "text": [
      "The training Accuracy is:  0.938851142680667\n",
      "The test Accuracy is:  0.9401210549070471\n",
      "              precision    recall  f1-score   support\n",
      "\n",
      "           0       0.94      1.00      0.97      9120\n",
      "           1       0.00      0.00      0.00       594\n",
      "\n",
      "    accuracy                           0.94      9714\n",
      "   macro avg       0.47      0.50      0.48      9714\n",
      "weighted avg       0.88      0.94      0.91      9714\n",
      "\n"
     ]
    },
    {
     "name": "stderr",
     "output_type": "stream",
     "text": [
      "/opt/anaconda3/lib/python3.8/site-packages/sklearn/metrics/_classification.py:1221: UndefinedMetricWarning: Precision and F-score are ill-defined and being set to 0.0 in labels with no predicted samples. Use `zero_division` parameter to control this behavior.\n",
      "  _warn_prf(average, modifier, msg_start, len(result))\n"
     ]
    }
   ],
   "source": [
    "#evaluate model\n",
    "#on training set\n",
    "print(\"The training Accuracy is: \", logreg.score(x_train, y_train))\n",
    "\n",
    "#test the model on unseen data - higher accuracy than training data?\n",
    "print(\"The test Accuracy is: \", logreg.score(x_test, y_test))\n",
    "\n",
    "#classification report\n",
    "print(classification_report(y_train, y_pred))"
   ]
  },
  {
   "cell_type": "code",
   "execution_count": 13,
   "metadata": {},
   "outputs": [],
   "source": [
    "#confusion matrix to show how well the model predicts each class\n",
    "def plot_confusion_matrix(cm, classes=None, title='Confusion Matrix'):\n",
    "    if classes is not None:\n",
    "        sns.heatmap(cm, xticklabels=classes, yticklabels=classes, vmin=0., vmax=1., annot=True, annot_kws={'size':50})\n",
    "    else:\n",
    "        sns.heatmap(cm, vmin=0., vmax=1.)\n",
    "    plt.title(title)\n",
    "    plt.ylabel('True label')\n",
    "    plt.xlabel('Predicted label')"
   ]
  },
  {
   "cell_type": "code",
   "execution_count": 14,
   "metadata": {},
   "outputs": [
    {
     "data": {
      "image/png": "[encoded data removed]",
      "text/plain": [
       "<Figure size 432x288 with 2 Axes>"
      ]
     },
     "metadata": {
      "needs_background": "light"
     },
     "output_type": "display_data"
    }
   ],
   "source": [
    "from sklearn.metrics import confusion_matrix\n",
    "cm = confusion_matrix(y_train, y_pred)\n",
    "cm_norm = cm / cm.sum(axis=1).reshape(-1,1)\n",
    "cm_norm\n",
    "#no incorrect predictions? \n",
    "\n",
    "plot_confusion_matrix(cm_norm,classes=logreg.classes_, title='Confusion Matrix')"
   ]
  },
  {
   "cell_type": "markdown",
   "metadata": {},
   "source": [
    "Well, it does make sense that your model predicts always 1. Have a look at your data set: it is severly imbalanced in favor of your positive class. The negative class makes up only ~7% of your data. Try re-balancing your training set or use a cost-sensitive algorithm.\n",
    "\n"
   ]
  },
  {
   "cell_type": "code",
   "execution_count": 15,
   "metadata": {},
   "outputs": [
    {
     "data": {
      "text/plain": [
       "array([[9120,    0],\n",
       "       [ 594,    0]])"
      ]
     },
     "execution_count": 15,
     "metadata": {},
     "output_type": "execute_result"
    }
   ],
   "source": [
    "cm"
   ]
  },
  {
   "cell_type": "code",
   "execution_count": 22,
   "metadata": {},
   "outputs": [
    {
     "name": "stdout",
     "output_type": "stream",
     "text": [
      "True Positive Rate is: [1. 0.]\n",
      "Precision is: [0.93885114        nan]\n",
      "Average TPR is: 0.5\n",
      "Average PPV is: nan\n"
     ]
    },
    {
     "name": "stderr",
     "output_type": "stream",
     "text": [
      "<ipython-input-22-bb988e3df232>:11: RuntimeWarning: invalid value encountered in true_divide\n",
      "  PPV = TP / (TP + FP)\n"
     ]
    }
   ],
   "source": [
    "#EVALUATE METRICS\n",
    "FP = cm.sum(axis=0) - np.diag(cm)\n",
    "FN = cm.sum(axis=1) - np.diag(cm)\n",
    "TP = np.diag(cm)\n",
    "TN = cm.sum() - (FP + FN + TP)\n",
    "\n",
    "#calculate the sensitivity, hit rate, recall or true positive rate\n",
    "TPR = TP/ (TP + FN)\n",
    "print(\"True Positive Rate is:\",TPR)\n",
    "\n",
    "PPV = TP / (TP + FP)\n",
    "print(\"Precision is:\",PPV)\n",
    "\n",
    "\n",
    "print(\"Average TPR is:\", TPR.sum()/2)\n",
    "print(\"Average PPV is:\", PPV.sum()/2)"
   ]
  },
  {
   "cell_type": "code",
   "execution_count": 25,
   "metadata": {},
   "outputs": [
    {
     "name": "stdout",
     "output_type": "stream",
     "text": [
      "The log loss on Training is:  0.19739622270085605\n",
      "The log loss on Test is:  0.19131378706081392\n"
     ]
    }
   ],
   "source": [
    "#Log Loss - log loss went down for unseen data. shouldnt be better than training data\n",
    "from sklearn.metrics import log_loss\n",
    "print(\"The log loss on Training is: \", log_loss(y_train,pred_proba))\n",
    "\n",
    "pred_proba_t = logreg.predict_proba(x_test)\n",
    "\n",
    "print(\"The log loss on Test is: \", log_loss(y_test,pred_proba_t))\n"
   ]
  },
  {
   "cell_type": "markdown",
   "metadata": {},
   "source": [
    "Hyperparameter Training"
   ]
  },
  {
   "cell_type": "code",
   "execution_count": 26,
   "metadata": {},
   "outputs": [
    {
     "data": {
      "text/plain": [
       "array([1.00000000e-05, 3.35981829e-05, 1.12883789e-04, 3.79269019e-04,\n",
       "       1.27427499e-03, 4.28133240e-03, 1.43844989e-02, 4.83293024e-02,\n",
       "       1.62377674e-01, 5.45559478e-01, 1.83298071e+00, 6.15848211e+00,\n",
       "       2.06913808e+01, 6.95192796e+01, 2.33572147e+02, 7.84759970e+02,\n",
       "       2.63665090e+03, 8.85866790e+03, 2.97635144e+04, 1.00000000e+05])"
      ]
     },
     "execution_count": 26,
     "metadata": {},
     "output_type": "execute_result"
    }
   ],
   "source": [
    "#regularisation strength - helps to avoid overfitting\n",
    "#range for c-values\n",
    "np.geomspace(1e-5, 1e5, num=20)"
   ]
  },
  {
   "cell_type": "code",
   "execution_count": 27,
   "metadata": {},
   "outputs": [
    {
     "name": "stdout",
     "output_type": "stream",
     "text": [
      "The classification accuracy of c parameter 1e-05 is 0.9401210549070471\n",
      "The log loss of c parameter 1e-05 is 0.22637451654144652\n",
      "\n",
      "The classification accuracy of c parameter 3.359818286283781e-05 is 0.9401210549070471\n",
      "The log loss of c parameter 3.359818286283781e-05 is 0.22623572739043302\n",
      "\n",
      "The classification accuracy of c parameter 0.00011288378916846884 is 0.9401210549070471\n",
      "The log loss of c parameter 0.00011288378916846884 is 0.22572792243374518\n",
      "\n",
      "The classification accuracy of c parameter 0.000379269019073225 is 0.9401210549070471\n",
      "The log loss of c parameter 0.000379269019073225 is 0.2239646261713616\n",
      "\n",
      "The classification accuracy of c parameter 0.0012742749857031334 is 0.9401210549070471\n",
      "The log loss of c parameter 0.0012742749857031334 is 0.21957569974478455\n",
      "\n",
      "The classification accuracy of c parameter 0.004281332398719391 is 0.9401210549070471\n",
      "The log loss of c parameter 0.004281332398719391 is 0.2110030679745923\n",
      "\n",
      "The classification accuracy of c parameter 0.01438449888287663 is 0.9401210549070471\n",
      "The log loss of c parameter 0.01438449888287663 is 0.20134039096760545\n",
      "\n",
      "The classification accuracy of c parameter 0.04832930238571752 is 0.9401210549070471\n",
      "The log loss of c parameter 0.04832930238571752 is 0.1947534481719721\n",
      "\n",
      "The classification accuracy of c parameter 0.1623776739188721 is 0.9401210549070471\n",
      "The log loss of c parameter 0.1623776739188721 is 0.19217931576300776\n",
      "\n",
      "The classification accuracy of c parameter 0.5455594781168515 is 0.9401210549070471\n",
      "The log loss of c parameter 0.5455594781168515 is 0.1914707285985869\n",
      "\n",
      "The classification accuracy of c parameter 1.8329807108324339 is 0.9401210549070471\n",
      "The log loss of c parameter 1.8329807108324339 is 0.20416324358087756\n",
      "\n",
      "The classification accuracy of c parameter 6.1584821106602545 is 0.9401210549070471\n",
      "The log loss of c parameter 6.1584821106602545 is 0.20415763078525806\n",
      "\n",
      "The classification accuracy of c parameter 20.6913808111479 is 0.9401210549070471\n",
      "The log loss of c parameter 20.6913808111479 is 0.20415606941944753\n",
      "\n",
      "The classification accuracy of c parameter 69.51927961775606 is 0.9401210549070471\n",
      "The log loss of c parameter 69.51927961775606 is 0.20415561885205172\n",
      "\n",
      "The classification accuracy of c parameter 233.57214690901213 is 0.9401210549070471\n",
      "The log loss of c parameter 233.57214690901213 is 0.19121353173867905\n",
      "\n",
      "The classification accuracy of c parameter 784.7599703514607 is 0.9401210549070471\n",
      "The log loss of c parameter 784.7599703514607 is 0.1911605563282614\n",
      "\n",
      "The classification accuracy of c parameter 2636.6508987303555 is 0.9401210549070471\n"
     ]
    },
    {
     "name": "stderr",
     "output_type": "stream",
     "text": [
      "/opt/anaconda3/lib/python3.8/site-packages/sklearn/linear_model/_logistic.py:762: ConvergenceWarning: lbfgs failed to converge (status=1):\n",
      "STOP: TOTAL NO. of ITERATIONS REACHED LIMIT.\n",
      "\n",
      "Increase the number of iterations (max_iter) or scale the data as shown in:\n",
      "    https://scikit-learn.org/stable/modules/preprocessing.html\n",
      "Please also refer to the documentation for alternative solver options:\n",
      "    https://scikit-learn.org/stable/modules/linear_model.html#logistic-regression\n",
      "  n_iter_i = _check_optimize_result(\n",
      "/opt/anaconda3/lib/python3.8/site-packages/sklearn/linear_model/_logistic.py:762: ConvergenceWarning: lbfgs failed to converge (status=1):\n",
      "STOP: TOTAL NO. of ITERATIONS REACHED LIMIT.\n",
      "\n",
      "Increase the number of iterations (max_iter) or scale the data as shown in:\n",
      "    https://scikit-learn.org/stable/modules/preprocessing.html\n",
      "Please also refer to the documentation for alternative solver options:\n",
      "    https://scikit-learn.org/stable/modules/linear_model.html#logistic-regression\n",
      "  n_iter_i = _check_optimize_result(\n"
     ]
    },
    {
     "name": "stdout",
     "output_type": "stream",
     "text": [
      "The log loss of c parameter 2636.6508987303555 is 0.1912128171203136\n",
      "\n",
      "The classification accuracy of c parameter 8858.667904100832 is 0.9401210549070471\n",
      "The log loss of c parameter 8858.667904100832 is 0.19121291327944018\n",
      "\n",
      "The classification accuracy of c parameter 29763.51441631313 is 0.9401210549070471\n",
      "The log loss of c parameter 29763.51441631313 is 0.1905774001317742\n",
      "\n",
      "The classification accuracy of c parameter 100000.0 is 0.9401210549070471\n",
      "The log loss of c parameter 100000.0 is 0.19121287610243876\n",
      "\n"
     ]
    }
   ],
   "source": [
    "c_list = np.geomspace(1e-5, 1e5, num=20)\n",
    "CA = []\n",
    "logarithmic_loss =[]\n",
    "\n",
    "for c in c_list:\n",
    "    logreg2 = LogisticRegression(random_state=10, solver='lbfgs',C=c)\n",
    "    logreg2.fit(x_train, y_train)\n",
    "    score =  logreg2.score(x_test, y_test)\n",
    "    CA.append(score)\n",
    "    print(\"The classification accuracy of c parameter {} is {}\".format(c, score))\n",
    "    pred_proba_t = logreg2.predict_proba(x_test)\n",
    "    log_loss2 = log_loss(y_test,pred_proba_t)\n",
    "    logarithmic_loss.append(log_loss2)\n",
    "    print(\"The log loss of c parameter {} is {}\".format(c, log_loss2))\n",
    "    print(\"\")\n"
   ]
  },
  {
   "cell_type": "code",
   "execution_count": 32,
   "metadata": {},
   "outputs": [
    {
     "data": {
      "text/html": [
       "<div>\n",
       "<style scoped>\n",
       "    .dataframe tbody tr th:only-of-type {\n",
       "        vertical-align: middle;\n",
       "    }\n",
       "\n",
       "    .dataframe tbody tr th {\n",
       "        vertical-align: top;\n",
       "    }\n",
       "\n",
       "    .dataframe thead th {\n",
       "        text-align: right;\n",
       "    }\n",
       "</style>\n",
       "<table border=\"1\" class=\"dataframe\">\n",
       "  <thead>\n",
       "    <tr style=\"text-align: right;\">\n",
       "      <th></th>\n",
       "      <th>index</th>\n",
       "      <th>C_List</th>\n",
       "      <th>CA2</th>\n",
       "      <th>LOG LOSS2</th>\n",
       "    </tr>\n",
       "  </thead>\n",
       "  <tbody>\n",
       "    <tr>\n",
       "      <th>0</th>\n",
       "      <td>18</td>\n",
       "      <td>29763.514416</td>\n",
       "      <td>0.940121</td>\n",
       "      <td>0.190577</td>\n",
       "    </tr>\n",
       "    <tr>\n",
       "      <th>1</th>\n",
       "      <td>15</td>\n",
       "      <td>784.759970</td>\n",
       "      <td>0.940121</td>\n",
       "      <td>0.191161</td>\n",
       "    </tr>\n",
       "    <tr>\n",
       "      <th>2</th>\n",
       "      <td>16</td>\n",
       "      <td>2636.650899</td>\n",
       "      <td>0.940121</td>\n",
       "      <td>0.191213</td>\n",
       "    </tr>\n",
       "    <tr>\n",
       "      <th>3</th>\n",
       "      <td>19</td>\n",
       "      <td>100000.000000</td>\n",
       "      <td>0.940121</td>\n",
       "      <td>0.191213</td>\n",
       "    </tr>\n",
       "    <tr>\n",
       "      <th>4</th>\n",
       "      <td>17</td>\n",
       "      <td>8858.667904</td>\n",
       "      <td>0.940121</td>\n",
       "      <td>0.191213</td>\n",
       "    </tr>\n",
       "    <tr>\n",
       "      <th>5</th>\n",
       "      <td>14</td>\n",
       "      <td>233.572147</td>\n",
       "      <td>0.940121</td>\n",
       "      <td>0.191214</td>\n",
       "    </tr>\n",
       "    <tr>\n",
       "      <th>6</th>\n",
       "      <td>9</td>\n",
       "      <td>0.545559</td>\n",
       "      <td>0.940121</td>\n",
       "      <td>0.191471</td>\n",
       "    </tr>\n",
       "    <tr>\n",
       "      <th>7</th>\n",
       "      <td>8</td>\n",
       "      <td>0.162378</td>\n",
       "      <td>0.940121</td>\n",
       "      <td>0.192179</td>\n",
       "    </tr>\n",
       "    <tr>\n",
       "      <th>8</th>\n",
       "      <td>7</td>\n",
       "      <td>0.048329</td>\n",
       "      <td>0.940121</td>\n",
       "      <td>0.194753</td>\n",
       "    </tr>\n",
       "    <tr>\n",
       "      <th>9</th>\n",
       "      <td>6</td>\n",
       "      <td>0.014384</td>\n",
       "      <td>0.940121</td>\n",
       "      <td>0.201340</td>\n",
       "    </tr>\n",
       "    <tr>\n",
       "      <th>10</th>\n",
       "      <td>13</td>\n",
       "      <td>69.519280</td>\n",
       "      <td>0.940121</td>\n",
       "      <td>0.204156</td>\n",
       "    </tr>\n",
       "    <tr>\n",
       "      <th>11</th>\n",
       "      <td>12</td>\n",
       "      <td>20.691381</td>\n",
       "      <td>0.940121</td>\n",
       "      <td>0.204156</td>\n",
       "    </tr>\n",
       "    <tr>\n",
       "      <th>12</th>\n",
       "      <td>11</td>\n",
       "      <td>6.158482</td>\n",
       "      <td>0.940121</td>\n",
       "      <td>0.204158</td>\n",
       "    </tr>\n",
       "    <tr>\n",
       "      <th>13</th>\n",
       "      <td>10</td>\n",
       "      <td>1.832981</td>\n",
       "      <td>0.940121</td>\n",
       "      <td>0.204163</td>\n",
       "    </tr>\n",
       "    <tr>\n",
       "      <th>14</th>\n",
       "      <td>5</td>\n",
       "      <td>0.004281</td>\n",
       "      <td>0.940121</td>\n",
       "      <td>0.211003</td>\n",
       "    </tr>\n",
       "    <tr>\n",
       "      <th>15</th>\n",
       "      <td>4</td>\n",
       "      <td>0.001274</td>\n",
       "      <td>0.940121</td>\n",
       "      <td>0.219576</td>\n",
       "    </tr>\n",
       "    <tr>\n",
       "      <th>16</th>\n",
       "      <td>3</td>\n",
       "      <td>0.000379</td>\n",
       "      <td>0.940121</td>\n",
       "      <td>0.223965</td>\n",
       "    </tr>\n",
       "    <tr>\n",
       "      <th>17</th>\n",
       "      <td>2</td>\n",
       "      <td>0.000113</td>\n",
       "      <td>0.940121</td>\n",
       "      <td>0.225728</td>\n",
       "    </tr>\n",
       "    <tr>\n",
       "      <th>18</th>\n",
       "      <td>1</td>\n",
       "      <td>0.000034</td>\n",
       "      <td>0.940121</td>\n",
       "      <td>0.226236</td>\n",
       "    </tr>\n",
       "    <tr>\n",
       "      <th>19</th>\n",
       "      <td>0</td>\n",
       "      <td>0.000010</td>\n",
       "      <td>0.940121</td>\n",
       "      <td>0.226375</td>\n",
       "    </tr>\n",
       "  </tbody>\n",
       "</table>\n",
       "</div>"
      ],
      "text/plain": [
       "    index         C_List       CA2  LOG LOSS2\n",
       "0      18   29763.514416  0.940121   0.190577\n",
       "1      15     784.759970  0.940121   0.191161\n",
       "2      16    2636.650899  0.940121   0.191213\n",
       "3      19  100000.000000  0.940121   0.191213\n",
       "4      17    8858.667904  0.940121   0.191213\n",
       "5      14     233.572147  0.940121   0.191214\n",
       "6       9       0.545559  0.940121   0.191471\n",
       "7       8       0.162378  0.940121   0.192179\n",
       "8       7       0.048329  0.940121   0.194753\n",
       "9       6       0.014384  0.940121   0.201340\n",
       "10     13      69.519280  0.940121   0.204156\n",
       "11     12      20.691381  0.940121   0.204156\n",
       "12     11       6.158482  0.940121   0.204158\n",
       "13     10       1.832981  0.940121   0.204163\n",
       "14      5       0.004281  0.940121   0.211003\n",
       "15      4       0.001274  0.940121   0.219576\n",
       "16      3       0.000379  0.940121   0.223965\n",
       "17      2       0.000113  0.940121   0.225728\n",
       "18      1       0.000034  0.940121   0.226236\n",
       "19      0       0.000010  0.940121   0.226375"
      ]
     },
     "execution_count": 32,
     "metadata": {},
     "output_type": "execute_result"
    }
   ],
   "source": [
    "#which parameter should we choose from\n",
    "\n",
    "CA2 = np.array(CA).reshape(20,)\n",
    "logarithmic_loss2 = np.array(logarithmic_loss).reshape(20,)\n",
    "\n",
    "outcomes =  zip(c_list, CA2, logarithmic_loss2)\n",
    "\n",
    "df_outcomes = pd.DataFrame(outcomes, columns=['C_List', 'CA2', 'LOG LOSS2'])\n",
    "df_outcomes\n",
    "df_outcomes.sort_values(\"LOG LOSS2\", ascending=True).reset_index()"
   ]
  },
  {
   "cell_type": "markdown",
   "metadata": {},
   "source": [
    "c=18 is the optimal c parameter because it has the lowest logg loss"
   ]
  },
  {
   "cell_type": "code",
   "execution_count": 39,
   "metadata": {},
   "outputs": [
    {
     "name": "stdout",
     "output_type": "stream",
     "text": [
      "The CA is: 0.9401210549070471\n",
      "The Log lOSS is: 0.2263540113002629\n",
      "The optimal c is:  [1.e-05]\n"
     ]
    }
   ],
   "source": [
    "from sklearn.linear_model import LogisticRegressionCV\n",
    "from sklearn.model_selection import KFold\n",
    "kf = KFold(n_splits=3, random_state=0, shuffle=True)\n",
    "\n",
    "#Logistic regression\n",
    "logreg3 = LogisticRegressionCV(cv=kf, random_state=15, Cs=c_list)\n",
    "\n",
    "logreg3.fit(x_train, y_train)\n",
    "\n",
    "print(\"The CA is:\", logreg3.score(x_test, y_test))\n",
    "pred_proba_t = logreg3.predict_proba(x_test)\n",
    "log_loss3 = log_loss(y_test,pred_proba_t)\n",
    "\n",
    "print(\"The Log lOSS is:\", log_loss3)\n",
    "\n",
    "\n",
    "#OPTIMAL PARAMETER \n",
    "\n",
    "print(\"The optimal c is: \", logreg3.C_)"
   ]
  },
  {
   "cell_type": "code",
   "execution_count": 40,
   "metadata": {},
   "outputs": [
    {
     "name": "stdout",
     "output_type": "stream",
     "text": [
      "The classification accuracy of c parameter 1e-05 is 0.9401210549070471\n",
      "The log loss of c parameter 1e-05 is 0.22637451654144652\n",
      "\n"
     ]
    },
    {
     "data": {
      "image/png": "[encoded data removed]",
      "text/plain": [
       "<Figure size 432x288 with 2 Axes>"
      ]
     },
     "metadata": {
      "needs_background": "light"
     },
     "output_type": "display_data"
    },
    {
     "name": "stdout",
     "output_type": "stream",
     "text": [
      "The classification accuracy of c parameter 3.359818286283781e-05 is 0.9401210549070471\n",
      "The log loss of c parameter 3.359818286283781e-05 is 0.22623572739043302\n",
      "\n"
     ]
    },
    {
     "data": {
      "image/png": "[encoded data removed]",
      "text/plain": [
       "<Figure size 432x288 with 2 Axes>"
      ]
     },
     "metadata": {
      "needs_background": "light"
     },
     "output_type": "display_data"
    },
    {
     "name": "stdout",
     "output_type": "stream",
     "text": [
      "The classification accuracy of c parameter 0.00011288378916846884 is 0.9401210549070471\n",
      "The log loss of c parameter 0.00011288378916846884 is 0.22572792243374518\n",
      "\n"
     ]
    },
    {
     "data": {
      "image/png": "[encoded data removed]",
      "text/plain": [
       "<Figure size 432x288 with 2 Axes>"
      ]
     },
     "metadata": {
      "needs_background": "light"
     },
     "output_type": "display_data"
    },
    {
     "name": "stdout",
     "output_type": "stream",
     "text": [
      "The classification accuracy of c parameter 0.000379269019073225 is 0.9401210549070471\n",
      "The log loss of c parameter 0.000379269019073225 is 0.2239646261713616\n",
      "\n"
     ]
    },
    {
     "data": {
      "image/png": "[encoded data removed]",
      "text/plain": [
       "<Figure size 432x288 with 2 Axes>"
      ]
     },
     "metadata": {
      "needs_background": "light"
     },
     "output_type": "display_data"
    },
    {
     "name": "stdout",
     "output_type": "stream",
     "text": [
      "The classification accuracy of c parameter 0.0012742749857031334 is 0.9401210549070471\n",
      "The log loss of c parameter 0.0012742749857031334 is 0.21957569974478455\n",
      "\n"
     ]
    },
    {
     "data": {
      "image/png": "[encoded data removed]",
      "text/plain": [
       "<Figure size 432x288 with 2 Axes>"
      ]
     },
     "metadata": {
      "needs_background": "light"
     },
     "output_type": "display_data"
    },
    {
     "name": "stdout",
     "output_type": "stream",
     "text": [
      "The classification accuracy of c parameter 0.004281332398719391 is 0.9401210549070471\n",
      "The log loss of c parameter 0.004281332398719391 is 0.2110030679745923\n",
      "\n"
     ]
    },
    {
     "data": {
      "image/png": "[encoded data removed]",
      "text/plain": [
       "<Figure size 432x288 with 2 Axes>"
      ]
     },
     "metadata": {
      "needs_background": "light"
     },
     "output_type": "display_data"
    },
    {
     "name": "stdout",
     "output_type": "stream",
     "text": [
      "The classification accuracy of c parameter 0.01438449888287663 is 0.9401210549070471\n",
      "The log loss of c parameter 0.01438449888287663 is 0.20134039096760545\n",
      "\n"
     ]
    },
    {
     "data": {
      "image/png": "[encoded data removed]",
      "text/plain": [
       "<Figure size 432x288 with 2 Axes>"
      ]
     },
     "metadata": {
      "needs_background": "light"
     },
     "output_type": "display_data"
    },
    {
     "name": "stdout",
     "output_type": "stream",
     "text": [
      "The classification accuracy of c parameter 0.04832930238571752 is 0.9401210549070471\n",
      "The log loss of c parameter 0.04832930238571752 is 0.1947534481719721\n",
      "\n"
     ]
    },
    {
     "data": {
      "image/png": "[encoded data removed]",
      "text/plain": [
       "<Figure size 432x288 with 2 Axes>"
      ]
     },
     "metadata": {
      "needs_background": "light"
     },
     "output_type": "display_data"
    },
    {
     "name": "stdout",
     "output_type": "stream",
     "text": [
      "The classification accuracy of c parameter 0.1623776739188721 is 0.9401210549070471\n",
      "The log loss of c parameter 0.1623776739188721 is 0.19217931576300776\n",
      "\n"
     ]
    },
    {
     "data": {
      "image/png": "[encoded data removed]",
      "text/plain": [
       "<Figure size 432x288 with 2 Axes>"
      ]
     },
     "metadata": {
      "needs_background": "light"
     },
     "output_type": "display_data"
    },
    {
     "name": "stdout",
     "output_type": "stream",
     "text": [
      "The classification accuracy of c parameter 0.5455594781168515 is 0.9401210549070471\n",
      "The log loss of c parameter 0.5455594781168515 is 0.1914707285985869\n",
      "\n"
     ]
    },
    {
     "data": {
      "image/png": "[encoded data removed]",
      "text/plain": [
       "<Figure size 432x288 with 2 Axes>"
      ]
     },
     "metadata": {
      "needs_background": "light"
     },
     "output_type": "display_data"
    },
    {
     "name": "stdout",
     "output_type": "stream",
     "text": [
      "The classification accuracy of c parameter 1.8329807108324339 is 0.9401210549070471\n",
      "The log loss of c parameter 1.8329807108324339 is 0.20416324358087756\n",
      "\n"
     ]
    },
    {
     "data": {
      "image/png": "[encoded data removed]",
      "text/plain": [
       "<Figure size 432x288 with 2 Axes>"
      ]
     },
     "metadata": {
      "needs_background": "light"
     },
     "output_type": "display_data"
    },
    {
     "name": "stdout",
     "output_type": "stream",
     "text": [
      "The classification accuracy of c parameter 6.1584821106602545 is 0.9401210549070471\n",
      "The log loss of c parameter 6.1584821106602545 is 0.20415763078525806\n",
      "\n"
     ]
    },
    {
     "data": {
      "image/png": "[encoded data removed]",
      "text/plain": [
       "<Figure size 432x288 with 2 Axes>"
      ]
     },
     "metadata": {
      "needs_background": "light"
     },
     "output_type": "display_data"
    },
    {
     "name": "stdout",
     "output_type": "stream",
     "text": [
      "The classification accuracy of c parameter 20.6913808111479 is 0.9401210549070471\n",
      "The log loss of c parameter 20.6913808111479 is 0.20415606941944753\n",
      "\n"
     ]
    },
    {
     "data": {
      "image/png": "[encoded data removed]",
      "text/plain": [
       "<Figure size 432x288 with 2 Axes>"
      ]
     },
     "metadata": {
      "needs_background": "light"
     },
     "output_type": "display_data"
    },
    {
     "name": "stdout",
     "output_type": "stream",
     "text": [
      "The classification accuracy of c parameter 69.51927961775606 is 0.9401210549070471\n",
      "The log loss of c parameter 69.51927961775606 is 0.20415561885205172\n",
      "\n"
     ]
    },
    {
     "data": {
      "image/png": "[encoded data removed]",
      "text/plain": [
       "<Figure size 432x288 with 2 Axes>"
      ]
     },
     "metadata": {
      "needs_background": "light"
     },
     "output_type": "display_data"
    },
    {
     "name": "stdout",
     "output_type": "stream",
     "text": [
      "The classification accuracy of c parameter 233.57214690901213 is 0.9401210549070471\n",
      "The log loss of c parameter 233.57214690901213 is 0.19121353173867905\n",
      "\n"
     ]
    },
    {
     "data": {
      "image/png": "[encoded data removed]",
      "text/plain": [
       "<Figure size 432x288 with 2 Axes>"
      ]
     },
     "metadata": {
      "needs_background": "light"
     },
     "output_type": "display_data"
    },
    {
     "name": "stdout",
     "output_type": "stream",
     "text": [
      "The classification accuracy of c parameter 784.7599703514607 is 0.9401210549070471\n",
      "The log loss of c parameter 784.7599703514607 is 0.1911605563282614\n",
      "\n"
     ]
    },
    {
     "name": "stderr",
     "output_type": "stream",
     "text": [
      "/opt/anaconda3/lib/python3.8/site-packages/sklearn/linear_model/_logistic.py:762: ConvergenceWarning: lbfgs failed to converge (status=1):\n",
      "STOP: TOTAL NO. of ITERATIONS REACHED LIMIT.\n",
      "\n",
      "Increase the number of iterations (max_iter) or scale the data as shown in:\n",
      "    https://scikit-learn.org/stable/modules/preprocessing.html\n",
      "Please also refer to the documentation for alternative solver options:\n",
      "    https://scikit-learn.org/stable/modules/linear_model.html#logistic-regression\n",
      "  n_iter_i = _check_optimize_result(\n"
     ]
    },
    {
     "data": {
      "image/png": "[encoded data removed]",
      "text/plain": [
       "<Figure size 432x288 with 2 Axes>"
      ]
     },
     "metadata": {
      "needs_background": "light"
     },
     "output_type": "display_data"
    },
    {
     "name": "stdout",
     "output_type": "stream",
     "text": [
      "The classification accuracy of c parameter 2636.6508987303555 is 0.9401210549070471\n",
      "The log loss of c parameter 2636.6508987303555 is 0.1912128171203136\n",
      "\n"
     ]
    },
    {
     "data": {
      "image/png": "[encoded data removed]",
      "text/plain": [
       "<Figure size 432x288 with 2 Axes>"
      ]
     },
     "metadata": {
      "needs_background": "light"
     },
     "output_type": "display_data"
    },
    {
     "name": "stdout",
     "output_type": "stream",
     "text": [
      "The classification accuracy of c parameter 8858.667904100832 is 0.9401210549070471\n",
      "The log loss of c parameter 8858.667904100832 is 0.19121291327944018\n",
      "\n"
     ]
    },
    {
     "data": {
      "image/png": "[encoded data removed]",
      "text/plain": [
       "<Figure size 432x288 with 2 Axes>"
      ]
     },
     "metadata": {
      "needs_background": "light"
     },
     "output_type": "display_data"
    },
    {
     "name": "stdout",
     "output_type": "stream",
     "text": [
      "The classification accuracy of c parameter 29763.51441631313 is 0.9401210549070471\n",
      "The log loss of c parameter 29763.51441631313 is 0.1905774001317742\n",
      "\n"
     ]
    },
    {
     "name": "stderr",
     "output_type": "stream",
     "text": [
      "/opt/anaconda3/lib/python3.8/site-packages/sklearn/linear_model/_logistic.py:762: ConvergenceWarning: lbfgs failed to converge (status=1):\n",
      "STOP: TOTAL NO. of ITERATIONS REACHED LIMIT.\n",
      "\n",
      "Increase the number of iterations (max_iter) or scale the data as shown in:\n",
      "    https://scikit-learn.org/stable/modules/preprocessing.html\n",
      "Please also refer to the documentation for alternative solver options:\n",
      "    https://scikit-learn.org/stable/modules/linear_model.html#logistic-regression\n",
      "  n_iter_i = _check_optimize_result(\n"
     ]
    },
    {
     "data": {
      "image/png": "[encoded data removed]",
      "text/plain": [
       "<Figure size 432x288 with 2 Axes>"
      ]
     },
     "metadata": {
      "needs_background": "light"
     },
     "output_type": "display_data"
    },
    {
     "name": "stdout",
     "output_type": "stream",
     "text": [
      "The classification accuracy of c parameter 100000.0 is 0.9401210549070471\n",
      "The log loss of c parameter 100000.0 is 0.19121287610243876\n",
      "\n"
     ]
    },
    {
     "data": {
      "image/png": "[encoded data removed]",
      "text/plain": [
       "<Figure size 432x288 with 2 Axes>"
      ]
     },
     "metadata": {
      "needs_background": "light"
     },
     "output_type": "display_data"
    }
   ],
   "source": [
    "#K-Fold Validation\n",
    "c_list = np.geomspace(1e-5, 1e5, num=20)\n",
    "CA = []\n",
    "logarithmic_loss =[]\n",
    "\n",
    "for c in c_list:\n",
    "    logreg2 = LogisticRegression(random_state=10, solver='lbfgs',C=c)\n",
    "    logreg2.fit(x_train, y_train)\n",
    "    score =  logreg2.score(x_test, y_test)\n",
    "    CA.append(score)\n",
    "    print(\"The classification accuracy of c parameter {} is {}\".format(c, score))\n",
    "    pred_proba_t = logreg2.predict_proba(x_test)\n",
    "    log_loss2 = log_loss(y_test,pred_proba_t)\n",
    "    logarithmic_loss.append(log_loss2)\n",
    "    print(\"The log loss of c parameter {} is {}\".format(c, log_loss2))\n",
    "    print(\"\")\n",
    "\n",
    "    y_pred = logreg2.predict(x_train)\n",
    "    cm = confusion_matrix(y_train, y_pred)\n",
    "    cm_norm = cm / cm.sum(axis=1).reshape(-1,1)\n",
    "    #no incorrect predictions? \n",
    "\n",
    "    plot_confusion_matrix(cm_norm,classes=logreg.classes_, title='Confusion Matrix')\n",
    "    plt.show()\n"
   ]
  },
  {
   "cell_type": "code",
   "execution_count": 43,
   "metadata": {},
   "outputs": [
    {
     "name": "stdout",
     "output_type": "stream",
     "text": [
      "Testing Accuracy: 0.9401210549070471\n",
      "Log Loss: 2.068145495328634\n"
     ]
    }
   ],
   "source": [
    "#Train dummy classifier\n",
    "from sklearn.dummy import DummyClassifier\n",
    "dummy_clf =  DummyClassifier(strategy='most_frequent')\n",
    "dummy_clf.fit(x_train,y_train)\n",
    "score =  dummy_clf.score(x_test, y_test)\n",
    "\n",
    "pred_proba_t = dummy_clf.predict_proba(x_test)\n",
    "log_loss2 = log_loss(y_test,pred_proba_t)\n",
    "\n",
    "print(\"Testing Accuracy:\", score) \n",
    "print(\"Log Loss:\", log_loss2)"
   ]
  },
  {
   "cell_type": "markdown",
   "metadata": {},
   "source": [
    "the above double checks the data to ensure the final model is good enough to beat dummy data and predict unseen data"
   ]
  },
  {
   "cell_type": "markdown",
   "metadata": {},
   "source": [
    "FINAL MODEL"
   ]
  },
  {
   "cell_type": "code",
   "execution_count": 44,
   "metadata": {},
   "outputs": [
    {
     "name": "stdout",
     "output_type": "stream",
     "text": [
      "Testing Accuracy: 0.9518518518518518\n",
      "Log Loss: 0.17038773307335084\n"
     ]
    },
    {
     "name": "stderr",
     "output_type": "stream",
     "text": [
      "/opt/anaconda3/lib/python3.8/site-packages/sklearn/linear_model/_logistic.py:762: ConvergenceWarning: lbfgs failed to converge (status=1):\n",
      "STOP: TOTAL NO. of ITERATIONS REACHED LIMIT.\n",
      "\n",
      "Increase the number of iterations (max_iter) or scale the data as shown in:\n",
      "    https://scikit-learn.org/stable/modules/preprocessing.html\n",
      "Please also refer to the documentation for alternative solver options:\n",
      "    https://scikit-learn.org/stable/modules/linear_model.html#logistic-regression\n",
      "  n_iter_i = _check_optimize_result(\n"
     ]
    }
   ],
   "source": [
    "logreg4 = LogisticRegression(random_state=10, solver='lbfgs',C=29763.514416)\n",
    "logreg4.fit(x_train, y_train)\n",
    "score =  logreg4.score(x_valid, y_valid)\n",
    "\n",
    "pred_proba_t = logreg4.predict_proba(x_valid)\n",
    "log_loss2 = log_loss(y_valid,pred_proba_t)\n",
    "\n",
    "\n",
    "print(\"Testing Accuracy:\", score) \n",
    "print(\"Log Loss:\", log_loss2)"
   ]
  },
  {
   "cell_type": "markdown",
   "metadata": {},
   "source": [
    "0.95 accuracy\n",
    "0.17 log loss even went down more\n",
    "\n",
    "\n",
    "good job in avoiding overfitting and generalisations"
   ]
  },
  {
   "cell_type": "markdown",
   "metadata": {},
   "source": []
  },
  {
   "cell_type": "markdown",
   "metadata": {},
   "source": [
    "* can be deployed to help claims analysts analyse if a fraud could be fraudulent\n",
    "\n",
    "* can help identify which features are seen as the most important for determining whether a claim is likely to be fraudulent"
   ]
  },
  {
   "cell_type": "markdown",
   "metadata": {},
   "source": [
    "feature importance"
   ]
  },
  {
   "cell_type": "code",
   "execution_count": 54,
   "metadata": {},
   "outputs": [
    {
     "name": "stdout",
     "output_type": "stream",
     "text": [
      "Feature: 0, Score: -0.01567\n",
      "Feature: 1, Score: -0.00022\n",
      "Feature: 2, Score: -0.00277\n",
      "Feature: 3, Score: -0.02811\n",
      "Feature: 4, Score: 0.45864\n",
      "Feature: 5, Score: -2.53641\n",
      "Feature: 6, Score: -0.39050\n",
      "Feature: 7, Score: -1.85079\n",
      "Feature: 8, Score: -0.63227\n",
      "Feature: 9, Score: -0.08412\n",
      "Feature: 10, Score: -0.09640\n",
      "Feature: 11, Score: -0.05679\n",
      "Feature: 12, Score: 0.33982\n",
      "Feature: 13, Score: -0.35927\n",
      "Feature: 14, Score: -0.05671\n"
     ]
    },
    {
     "data": {
      "image/png": "[encoded data removed]",
      "text/plain": [
       "<Figure size 432x288 with 1 Axes>"
      ]
     },
     "metadata": {
      "needs_background": "light"
     },
     "output_type": "display_data"
    }
   ],
   "source": [
    "from matplotlib import pyplot\n",
    "\n",
    "# logistic regression for feature importance\n",
    "# get importance\n",
    "importance = logreg4.coef_[0]\n",
    "# summarize feature importance\n",
    "for i,v in enumerate(importance):\n",
    "\tprint('Feature: %0d, Score: %.5f' % (i,v))\n",
    "# plot feature importance\n",
    "pyplot.bar([x for x in range(len(importance))], importance)\n",
    "pyplot.show()"
   ]
  },
  {
   "cell_type": "markdown",
   "metadata": {},
   "source": [
    "Add above to table in report"
   ]
  },
  {
   "cell_type": "markdown",
   "metadata": {},
   "source": [
    "ROC"
   ]
  },
  {
   "cell_type": "code",
   "execution_count": 49,
   "metadata": {},
   "outputs": [
    {
     "data": {
      "image/png": "[encoded data removed]",
      "text/plain": [
       "<Figure size 432x288 with 1 Axes>"
      ]
     },
     "metadata": {
      "needs_background": "light"
     },
     "output_type": "display_data"
    }
   ],
   "source": [
    "from sklearn import metrics\n",
    "\n",
    "\n",
    "y_pred_proba = logreg.predict_proba(x_test)[::,1]\n",
    "fpr, tpr, _ = metrics.roc_curve(y_test,  y_pred_proba)\n",
    "auc = metrics.roc_auc_score(y_test, y_pred_proba)\n",
    "plt.plot(fpr,tpr,label=\"data 1, auc=\"+str(auc))\n",
    "plt.legend(loc=4)\n",
    "plt.show()"
   ]
  },
  {
   "cell_type": "markdown",
   "metadata": {},
   "source": [
    "AUC score for the case is 0.86. AUC score 1 represents perfect classifier, and 0.5 represents a worthless classifier."
   ]
  },
  {
   "cell_type": "code",
   "execution_count": null,
   "metadata": {},
   "outputs": [],
   "source": [
    "feature_importance = pd.DataFrame(x_train, columns = [\"feature\"])\n",
    "feature_importance[\"importance\"] = pow(math.e, w)\n",
    "feature_importance = feature_importance.sort_values(by = [\"importance\"], ascending=False)\n",
    " \n",
    "from sklearn.linear_model import LogisticRegression\n",
    "ax = feature_importance.plot.barh(x='feature', y='importance')\n",
    "plt.show()"
   ]
  },
  {
   "cell_type": "markdown",
   "metadata": {},
   "source": [
    "#REDO WITH BALANCED DATA"
   ]
  },
  {
   "cell_type": "markdown",
   "metadata": {},
   "source": [
    "RandomForest"
   ]
  },
  {
   "cell_type": "code",
   "execution_count": 55,
   "metadata": {},
   "outputs": [
    {
     "name": "stdout",
     "output_type": "stream",
     "text": [
      "model score on training data: 0.7472378610131134\n",
      "model score on testing data: -0.09611497874532104\n"
     ]
    }
   ],
   "source": [
    "from sklearn.ensemble import RandomForestRegressor\n",
    "\n",
    "model = RandomForestRegressor()\n",
    "\n",
    "model.fit(x_train, y_train)\n",
    "\n",
    "print(f'model score on training data: {model.score(x_train, y_train)}')\n",
    "print(f'model score on testing data: {model.score(x_test, y_test)}')"
   ]
  },
  {
   "cell_type": "code",
   "execution_count": 56,
   "metadata": {},
   "outputs": [
    {
     "ename": "AttributeError",
     "evalue": "'numpy.ndarray' object has no attribute 'columns'",
     "output_type": "error",
     "traceback": [
      "\u001b[0;31m---------------------------------------------------------------------------\u001b[0m",
      "\u001b[0;31mAttributeError\u001b[0m                            Traceback (most recent call last)",
      "\u001b[0;32m<ipython-input-56-6c2311bcfb29>\u001b[0m in \u001b[0;36m<module>\u001b[0;34m\u001b[0m\n\u001b[1;32m      6\u001b[0m \u001b[0max\u001b[0m\u001b[0;34m.\u001b[0m\u001b[0mbarh\u001b[0m\u001b[0;34m(\u001b[0m\u001b[0mrange\u001b[0m\u001b[0;34m(\u001b[0m\u001b[0mlen\u001b[0m\u001b[0;34m(\u001b[0m\u001b[0mimportances\u001b[0m\u001b[0;34m)\u001b[0m\u001b[0;34m)\u001b[0m\u001b[0;34m,\u001b[0m \u001b[0mimportances\u001b[0m\u001b[0;34m[\u001b[0m\u001b[0mindices\u001b[0m\u001b[0;34m]\u001b[0m\u001b[0;34m)\u001b[0m\u001b[0;34m\u001b[0m\u001b[0;34m\u001b[0m\u001b[0m\n\u001b[1;32m      7\u001b[0m \u001b[0max\u001b[0m\u001b[0;34m.\u001b[0m\u001b[0mset_yticks\u001b[0m\u001b[0;34m(\u001b[0m\u001b[0mrange\u001b[0m\u001b[0;34m(\u001b[0m\u001b[0mlen\u001b[0m\u001b[0;34m(\u001b[0m\u001b[0mimportances\u001b[0m\u001b[0;34m)\u001b[0m\u001b[0;34m)\u001b[0m\u001b[0;34m)\u001b[0m\u001b[0;34m\u001b[0m\u001b[0;34m\u001b[0m\u001b[0m\n\u001b[0;32m----> 8\u001b[0;31m \u001b[0m_\u001b[0m \u001b[0;34m=\u001b[0m \u001b[0max\u001b[0m\u001b[0;34m.\u001b[0m\u001b[0mset_yticklabels\u001b[0m\u001b[0;34m(\u001b[0m\u001b[0mnp\u001b[0m\u001b[0;34m.\u001b[0m\u001b[0marray\u001b[0m\u001b[0;34m(\u001b[0m\u001b[0mx_train\u001b[0m\u001b[0;34m.\u001b[0m\u001b[0mcolumns\u001b[0m\u001b[0;34m)\u001b[0m\u001b[0;34m[\u001b[0m\u001b[0mindices\u001b[0m\u001b[0;34m]\u001b[0m\u001b[0;34m)\u001b[0m\u001b[0;34m\u001b[0m\u001b[0;34m\u001b[0m\u001b[0m\n\u001b[0m",
      "\u001b[0;31mAttributeError\u001b[0m: 'numpy.ndarray' object has no attribute 'columns'"
     ]
    },
    {
     "data": {
      "image/png": "[encoded data removed]",
      "text/plain": [
       "<Figure size 432x288 with 1 Axes>"
      ]
     },
     "metadata": {
      "needs_background": "light"
     },
     "output_type": "display_data"
    }
   ],
   "source": [
    "importances = model.feature_importances_\n",
    "\n",
    "indices = np.argsort(importances)\n",
    "\n",
    "fig, ax = plt.subplots()\n",
    "ax.barh(range(len(importances)), importances[indices])\n",
    "ax.set_yticks(range(len(importances)))\n",
    "_ = ax.set_yticklabels(np.array(x_train.columns)[indices])\n"
   ]
  },
  {
   "cell_type": "code",
   "execution_count": null,
   "metadata": {},
   "outputs": [],
   "source": []
  }
 ],
 "metadata": {
  "kernelspec": {
   "display_name": "Python 3.8.5 ('base')",
   "language": "python",
   "name": "python3"
  },
  "language_info": {
   "codemirror_mode": {
    "name": "ipython",
    "version": 3
   },
   "file_extension": ".py",
   "mimetype": "text/x-python",
   "name": "python",
   "nbconvert_exporter": "python",
   "pygments_lexer": "ipython3",
   "version": "3.8.5"
  },
  "orig_nbformat": 4,
  "vscode": {
   "interpreter": {
    "hash": "40d3a090f54c6569ab1632332b64b2c03c39dcf918b08424e98f38b5ae0af88f"
   }
  }
 },
 "nbformat": 4,
 "nbformat_minor": 2
}
